{
 "cells": [
  {
   "cell_type": "markdown",
   "metadata": {},
   "source": [
    "# Welcome!\n",
    "\n",
    "This is a quick demo of Sawmill - a system for processing logs to help extract causal insights!\n",
    "\n",
    "As this work is currently in process, we're looking forward to any comments and/or suggestions."
   ]
  },
  {
   "cell_type": "code",
   "execution_count": 1,
   "metadata": {},
   "outputs": [],
   "source": [
    "%reload_ext autoreload\n",
    "%autoreload 2\n",
    "import sys\n",
    "sys.path.append(\"../..\")\n",
    "from src.sawmill.sawmill import Sawmill\n",
    "import pandas as pd\n",
    "pd.set_option('display.max_rows', None)\n",
    "pd.set_option('display.max_columns', None)\n",
    "pd.set_option('expand_frame_repr', False)\n",
    "pd.set_option('display.max_colwidth', None)"
   ]
  },
  {
   "cell_type": "markdown",
   "metadata": {},
   "source": [
    "## Synthetic Example\n",
    "\n",
    "Let's start with a basic example of a synthetic log. This log contains three different log line *templates*, each of which reports the value of one of the variables `x`, `y` and `z`. Here is an example of each line:\n",
    "\n",
    "```\n",
    "2023-03-14T20:55:49.234591Z DATA The current line will include the value of z = 100.0\n",
    "2023-03-14T20:55:49.233591Z DATA Short message with x = 199.05342369055703\n",
    "2023-03-14T20:55:49.232591Z DATA This is a log message that reports y = 399.82103707673997\n",
    "```\n",
    "\n",
    "Each millisecond, we decide whether or not to \"flip\" the value of `z` between 100 and 200, with probability `1%`. If we end up flipping it, we print a log line that reports the new value (first template above).\n",
    "\n",
    "Each millisecond, we print the value of `x` (second template above), which is generated each time by taking the most recent value of `z` and adding random noise in `[-1,1]`.\n",
    "\n",
    "Finally, each millisecond we print the value of `y` with probability `50%`(third template above). The value of `y` is generated each time by taking the most recent value of `z`, multiplying it by `2` and adding random noise in `[-1,1]`.\n",
    "\n",
    "Let's create a Sawmill instance and initialize it with the path to this log:\n"
   ]
  },
  {
   "cell_type": "code",
   "execution_count": 2,
   "metadata": {},
   "outputs": [
    {
     "name": "stdout",
     "output_type": "stream",
     "text": [
      "Initialized Sawmill with log file datasets_raw/xyzw_logs/log_2023-03-14_20:55:49.log\n",
      "Work directory set to datasets/xyzw_logs/log_2023-03-14_20:55:49\n"
     ]
    }
   ],
   "source": [
    "s = Sawmill(\"datasets_raw/xyzw_logs/log_2023-03-14_20:55:49.log\", workdir='datasets/xyzw_logs/log_2023-03-14_20:55:49')"
   ]
  },
  {
   "cell_type": "markdown",
   "metadata": {},
   "source": [
    "### Parsing and tagging variables"
   ]
  },
  {
   "cell_type": "markdown",
   "metadata": {},
   "source": [
    "We can call the `parse()` function to parse the log into a table using the [Drain](https://jiemingzhu.github.io/pub/pjhe_icws2017.pdf) algorithm. \n",
    "\n",
    "The Drain algorithm can first extract named variables from each log line using regular expressions. By default, Sawmill provides a single regular expression to capture timestamps in the format shown above, naming the resulting field `Timestamp`, but users can parse additional regular expressions to the `parse()` call as a dictionary, via the `regex_dict` parameter.\n",
    "\n",
    "Then, the Drain algorithm separated log lines into \"templates\" and \"variables\", based on the similarity of each new line to the lines seen before it. You can find more information in the paper."
   ]
  },
  {
   "cell_type": "code",
   "execution_count": 3,
   "metadata": {},
   "outputs": [
    {
     "name": "stdout",
     "output_type": "stream",
     "text": [
      "Parsing file: datasets_raw/xyzw_logs/log_2023-03-14_20:55:49.log\n"
     ]
    },
    {
     "data": {
      "application/vnd.jupyter.widget-view+json": {
       "model_id": "9d8c7ce32a49452b9561f6728c8e8160",
       "version_major": 2,
       "version_minor": 0
      },
      "text/plain": [
       "Reading and tokenizing log lines...:   0%|          | 0/15121 [00:00<?, ?it/s]"
      ]
     },
     "metadata": {},
     "output_type": "display_data"
    },
    {
     "data": {
      "application/vnd.jupyter.widget-view+json": {
       "model_id": "dfa8f0bd183842459744aa35ec8a0ea6",
       "version_major": 2,
       "version_minor": 0
      },
      "text/plain": [
       "Determining template for each line...:   0%|          | 0/15121 [00:00<?, ?it/s]"
      ]
     },
     "metadata": {},
     "output_type": "display_data"
    },
    {
     "data": {
      "application/vnd.jupyter.widget-view+json": {
       "model_id": "5fd285c0c12c46ebb9c4bbc900683182",
       "version_major": 2,
       "version_minor": 0
      },
      "text/plain": [
       "Extracting variables from each log message...:   0%|          | 0/3 [00:00<?, ?it/s]"
      ]
     },
     "metadata": {},
     "output_type": "display_data"
    },
    {
     "data": {
      "application/vnd.jupyter.widget-view+json": {
       "model_id": "3f3f11f8dcd7451c8167bae235c18657",
       "version_major": 2,
       "version_minor": 0
      },
      "text/plain": [
       "Determining variable types...:   0%|          | 0/4 [00:00<?, ?it/s]"
      ]
     },
     "metadata": {},
     "output_type": "display_data"
    },
    {
     "data": {
      "application/vnd.jupyter.widget-view+json": {
       "model_id": "e671456f442b415994a7f97444541378",
       "version_major": 2,
       "version_minor": 0
      },
      "text/plain": [
       "Casting date variables...:   0%|          | 0/1 [00:00<?, ?it/s]"
      ]
     },
     "metadata": {},
     "output_type": "display_data"
    },
    {
     "data": {
      "application/vnd.jupyter.widget-view+json": {
       "model_id": "7e656d6ab2724d55a71fe7a9e46a9f2e",
       "version_major": 2,
       "version_minor": 0
      },
      "text/plain": [
       "Casting date variables round 2...:   0%|          | 0/15121 [00:00<?, ?it/s]"
      ]
     },
     "metadata": {},
     "output_type": "display_data"
    },
    {
     "name": "stderr",
     "output_type": "stream",
     "text": [
      "/home/markakis/logs-venv/lib/python3.11/site-packages/tqdm/std.py:920: FutureWarning: DataFrame.applymap has been deprecated. Use DataFrame.map instead.\n",
      "  return getattr(df, df_function)(wrapper, **kwargs)\n"
     ]
    },
    {
     "data": {
      "application/vnd.jupyter.widget-view+json": {
       "model_id": "305e7d9ab0d448e58161358ac5427922",
       "version_major": 2,
       "version_minor": 0
      },
      "text/plain": [
       "Casting time variables...: 0it [00:00, ?it/s]"
      ]
     },
     "metadata": {},
     "output_type": "display_data"
    },
    {
     "data": {
      "application/vnd.jupyter.widget-view+json": {
       "model_id": "5b95c37dc5a0485593436256bcca6929",
       "version_major": 2,
       "version_minor": 0
      },
      "text/plain": [
       "Casting time variables round 2...: 0it [00:00, ?it/s]"
      ]
     },
     "metadata": {},
     "output_type": "display_data"
    },
    {
     "name": "stderr",
     "output_type": "stream",
     "text": [
      "/home/markakis/logs-venv/lib/python3.11/site-packages/tqdm/std.py:920: FutureWarning: DataFrame.applymap has been deprecated. Use DataFrame.map instead.\n",
      "  return getattr(df, df_function)(wrapper, **kwargs)\n"
     ]
    },
    {
     "data": {
      "application/vnd.jupyter.widget-view+json": {
       "model_id": "34bbd955ed3641a9b8011e39e887a699",
       "version_major": 2,
       "version_minor": 0
      },
      "text/plain": [
       "Casting numerical variables...:   0%|          | 0/4 [00:00<?, ?it/s]"
      ]
     },
     "metadata": {},
     "output_type": "display_data"
    },
    {
     "data": {
      "application/vnd.jupyter.widget-view+json": {
       "model_id": "54da144cdfe844d08e61133ca573e95f",
       "version_major": 2,
       "version_minor": 0
      },
      "text/plain": [
       "Tagging variables...:   0%|          | 0/4 [00:00<?, ?it/s]"
      ]
     },
     "metadata": {},
     "output_type": "display_data"
    },
    {
     "data": {
      "application/vnd.jupyter.widget-view+json": {
       "model_id": "271e35b54c75440a90d862a59be46ffb",
       "version_major": 2,
       "version_minor": 0
      },
      "text/plain": [
       "Detecting identifiers...:   0%|          | 0/4 [00:00<?, ?it/s]"
      ]
     },
     "metadata": {},
     "output_type": "display_data"
    },
    {
     "data": {
      "application/vnd.jupyter.widget-view+json": {
       "model_id": "1f9eaaacc58e49389fea6f6c5937982a",
       "version_major": 2,
       "version_minor": 0
      },
      "text/plain": [
       "Dumping pkl file to datasets/xyzw_logs/log_2023-03-14_20:55:49/log_2023-03-14_20:55:49.log_parsed_log_None_Non…"
      ]
     },
     "metadata": {},
     "output_type": "display_data"
    },
    {
     "data": {
      "application/vnd.jupyter.widget-view+json": {
       "model_id": "390de35db735491ebd0a689ad8652b2e",
       "version_major": 2,
       "version_minor": 0
      },
      "text/plain": [
       "Dumping pkl file to datasets/xyzw_logs/log_2023-03-14_20:55:49/log_2023-03-14_20:55:49.log_parsed_templates_No…"
      ]
     },
     "metadata": {},
     "output_type": "display_data"
    },
    {
     "data": {
      "application/vnd.jupyter.widget-view+json": {
       "model_id": "9b5465794dc74296963423a60a75ca2c",
       "version_major": 2,
       "version_minor": 0
      },
      "text/plain": [
       "Dumping pkl file to datasets/xyzw_logs/log_2023-03-14_20:55:49/log_2023-03-14_20:55:49.log_parsed_variables_No…"
      ]
     },
     "metadata": {},
     "output_type": "display_data"
    },
    {
     "name": "stdout",
     "output_type": "stream",
     "text": [
      "Parsing complete in 1.253333 seconds!\n"
     ]
    },
    {
     "data": {
      "text/html": [
       "<div>\n",
       "<style scoped>\n",
       "    .dataframe tbody tr th:only-of-type {\n",
       "        vertical-align: middle;\n",
       "    }\n",
       "\n",
       "    .dataframe tbody tr th {\n",
       "        vertical-align: top;\n",
       "    }\n",
       "\n",
       "    .dataframe thead th {\n",
       "        text-align: right;\n",
       "    }\n",
       "</style>\n",
       "<table border=\"1\" class=\"dataframe\">\n",
       "  <thead>\n",
       "    <tr style=\"text-align: right;\">\n",
       "      <th></th>\n",
       "      <th>TemplateId</th>\n",
       "      <th>DateTime</th>\n",
       "      <th>43e6c5b5_7</th>\n",
       "      <th>f2e46af4_11</th>\n",
       "      <th>f98340b4_12</th>\n",
       "    </tr>\n",
       "  </thead>\n",
       "  <tbody>\n",
       "    <tr>\n",
       "      <th>0</th>\n",
       "      <td>43e6c5b5</td>\n",
       "      <td>1.678827e+09</td>\n",
       "      <td>100.002860</td>\n",
       "      <td>NaN</td>\n",
       "      <td>NaN</td>\n",
       "    </tr>\n",
       "    <tr>\n",
       "      <th>1</th>\n",
       "      <td>f2e46af4</td>\n",
       "      <td>1.678827e+09</td>\n",
       "      <td>NaN</td>\n",
       "      <td>200.189963</td>\n",
       "      <td>NaN</td>\n",
       "    </tr>\n",
       "    <tr>\n",
       "      <th>2</th>\n",
       "      <td>43e6c5b5</td>\n",
       "      <td>1.678827e+09</td>\n",
       "      <td>100.812299</td>\n",
       "      <td>NaN</td>\n",
       "      <td>NaN</td>\n",
       "    </tr>\n",
       "    <tr>\n",
       "      <th>3</th>\n",
       "      <td>f2e46af4</td>\n",
       "      <td>1.678827e+09</td>\n",
       "      <td>NaN</td>\n",
       "      <td>200.458986</td>\n",
       "      <td>NaN</td>\n",
       "    </tr>\n",
       "    <tr>\n",
       "      <th>4</th>\n",
       "      <td>43e6c5b5</td>\n",
       "      <td>1.678827e+09</td>\n",
       "      <td>100.260164</td>\n",
       "      <td>NaN</td>\n",
       "      <td>NaN</td>\n",
       "    </tr>\n",
       "  </tbody>\n",
       "</table>\n",
       "</div>"
      ],
      "text/plain": [
       "  TemplateId      DateTime  43e6c5b5_7  f2e46af4_11  f98340b4_12\n",
       "0   43e6c5b5  1.678827e+09  100.002860          NaN          NaN\n",
       "1   f2e46af4  1.678827e+09         NaN   200.189963          NaN\n",
       "2   43e6c5b5  1.678827e+09  100.812299          NaN          NaN\n",
       "3   f2e46af4  1.678827e+09         NaN   200.458986          NaN\n",
       "4   43e6c5b5  1.678827e+09  100.260164          NaN          NaN"
      ]
     },
     "execution_count": 3,
     "metadata": {},
     "output_type": "execute_result"
    }
   ],
   "source": [
    "s.parse(force=True, regex_dict={'DateTime': r'\\d{4}-\\d{2}-\\d{2}T\\d{2}:\\d{2}:\\d{2}.\\d{6}Z'})\n",
    "s.parsed_log.head()"
   ]
  },
  {
   "cell_type": "markdown",
   "metadata": {},
   "source": [
    "Let's take a look at the extracted templates. Indeed, Drain has detected the three templates in the synthetic log. Each template is given a hash-based template ID. For each template, we see that a variable has been detected (at word indices 7, 11 and 12, respectively) and replaced with `<*>` in the template text. \n",
    "\n",
    "For each template, we also got a regular expression match at index 0, corresponding to the regular expression that matches timestamps. The timestamps were correspondingly replaced by `<*0>`, since that was the 0th (and only) regular expression we provided."
   ]
  },
  {
   "cell_type": "code",
   "execution_count": 4,
   "metadata": {},
   "outputs": [
    {
     "data": {
      "text/html": [
       "<div>\n",
       "<style scoped>\n",
       "    .dataframe tbody tr th:only-of-type {\n",
       "        vertical-align: middle;\n",
       "    }\n",
       "\n",
       "    .dataframe tbody tr th {\n",
       "        vertical-align: top;\n",
       "    }\n",
       "\n",
       "    .dataframe thead th {\n",
       "        text-align: right;\n",
       "    }\n",
       "</style>\n",
       "<table border=\"1\" class=\"dataframe\">\n",
       "  <thead>\n",
       "    <tr style=\"text-align: right;\">\n",
       "      <th></th>\n",
       "      <th>TemplateText</th>\n",
       "      <th>TemplateId</th>\n",
       "      <th>VariableIndices</th>\n",
       "      <th>RegexIndices</th>\n",
       "      <th>TemplateExample</th>\n",
       "      <th>Occurrences</th>\n",
       "    </tr>\n",
       "  </thead>\n",
       "  <tbody>\n",
       "    <tr>\n",
       "      <th>0</th>\n",
       "      <td>&lt;*0&gt; DATA Short message with x = &lt;*&gt;</td>\n",
       "      <td>43e6c5b5</td>\n",
       "      <td>[7]</td>\n",
       "      <td>[0]</td>\n",
       "      <td>&lt;*0&gt; DATA Short message with x  =  100.00285967800117</td>\n",
       "      <td>10000</td>\n",
       "    </tr>\n",
       "    <tr>\n",
       "      <th>1</th>\n",
       "      <td>&lt;*0&gt; DATA This is a log message that reports y = &lt;*&gt;</td>\n",
       "      <td>f2e46af4</td>\n",
       "      <td>[11]</td>\n",
       "      <td>[0]</td>\n",
       "      <td>&lt;*0&gt; DATA This is a log message that reports y  =  200.1899632341074</td>\n",
       "      <td>5006</td>\n",
       "    </tr>\n",
       "    <tr>\n",
       "      <th>2</th>\n",
       "      <td>&lt;*0&gt; DATA The current line will include the value of z = &lt;*&gt;</td>\n",
       "      <td>f98340b4</td>\n",
       "      <td>[12]</td>\n",
       "      <td>[0]</td>\n",
       "      <td>&lt;*0&gt; DATA The current line will include the value of z  =  200.0</td>\n",
       "      <td>115</td>\n",
       "    </tr>\n",
       "  </tbody>\n",
       "</table>\n",
       "</div>"
      ],
      "text/plain": [
       "                                                   TemplateText TemplateId VariableIndices RegexIndices                                                       TemplateExample  Occurrences\n",
       "0                          <*0> DATA Short message with x = <*>   43e6c5b5             [7]          [0]                 <*0> DATA Short message with x  =  100.00285967800117        10000\n",
       "1          <*0> DATA This is a log message that reports y = <*>   f2e46af4            [11]          [0]  <*0> DATA This is a log message that reports y  =  200.1899632341074         5006\n",
       "2  <*0> DATA The current line will include the value of z = <*>   f98340b4            [12]          [0]      <*0> DATA The current line will include the value of z  =  200.0          115"
      ]
     },
     "execution_count": 4,
     "metadata": {},
     "output_type": "execute_result"
    }
   ],
   "source": [
    "s.parsed_templates"
   ]
  },
  {
   "cell_type": "markdown",
   "metadata": {},
   "source": [
    "We can also look at the extracted variables. For variables that were extracted via a regular expression, like the timestamp, the user has already provided a name (in this case, `Timestamp`). For the rest, a variable name is generated from the corresponding template ID and the index that the variable appear in, within the template. For each variable, we also report the preceding 3 tokens and some example values. \n",
    "\n",
    "Since the automatically-generated names are not meaningful, we also allow for each variable to carry a tag. Initial values of these tags are guessed from the preceding tokens of each variable:"
   ]
  },
  {
   "cell_type": "code",
   "execution_count": 5,
   "metadata": {},
   "outputs": [
    {
     "data": {
      "text/html": [
       "<div>\n",
       "<style scoped>\n",
       "    .dataframe tbody tr th:only-of-type {\n",
       "        vertical-align: middle;\n",
       "    }\n",
       "\n",
       "    .dataframe tbody tr th {\n",
       "        vertical-align: top;\n",
       "    }\n",
       "\n",
       "    .dataframe thead th {\n",
       "        text-align: right;\n",
       "    }\n",
       "</style>\n",
       "<table border=\"1\" class=\"dataframe\">\n",
       "  <thead>\n",
       "    <tr style=\"text-align: right;\">\n",
       "      <th></th>\n",
       "      <th>Name</th>\n",
       "      <th>Tag</th>\n",
       "      <th>TagOrigin</th>\n",
       "      <th>Type</th>\n",
       "      <th>IsUninteresting</th>\n",
       "      <th>Occurrences</th>\n",
       "      <th>Preceding 3 tokens</th>\n",
       "      <th>Examples</th>\n",
       "      <th>From regex</th>\n",
       "    </tr>\n",
       "  </thead>\n",
       "  <tbody>\n",
       "    <tr>\n",
       "      <th>0</th>\n",
       "      <td>DateTime</td>\n",
       "      <td>DateTime</td>\n",
       "      <td>4</td>\n",
       "      <td>num</td>\n",
       "      <td>False</td>\n",
       "      <td>15121</td>\n",
       "      <td>[]</td>\n",
       "      <td>[2023-03-14T20:55:49.165591Z, 2023-03-14T20:55:49.166591Z, 2023-03-14T20:55:49.167591Z, 2023-03-14T20:55:49.168591Z, 2023-03-14T20:55:49.169591Z]</td>\n",
       "      <td>True</td>\n",
       "    </tr>\n",
       "    <tr>\n",
       "      <th>1</th>\n",
       "      <td>43e6c5b5_7</td>\n",
       "      <td>x</td>\n",
       "      <td>0</td>\n",
       "      <td>num</td>\n",
       "      <td>False</td>\n",
       "      <td>10000</td>\n",
       "      <td>[with, x, =]</td>\n",
       "      <td>[100.00285967800117, 100.81229891323964, 100.26016363495995, 199.4482406365968, 200.98748260974]</td>\n",
       "      <td>False</td>\n",
       "    </tr>\n",
       "    <tr>\n",
       "      <th>2</th>\n",
       "      <td>f2e46af4_11</td>\n",
       "      <td>y</td>\n",
       "      <td>0</td>\n",
       "      <td>num</td>\n",
       "      <td>False</td>\n",
       "      <td>5006</td>\n",
       "      <td>[reports, y, =]</td>\n",
       "      <td>[200.1899632341074, 200.45898567905772, 399.6905765982258, 400.22712382793407, 400.08343040509993]</td>\n",
       "      <td>False</td>\n",
       "    </tr>\n",
       "    <tr>\n",
       "      <th>3</th>\n",
       "      <td>f98340b4_12</td>\n",
       "      <td>z</td>\n",
       "      <td>0</td>\n",
       "      <td>num</td>\n",
       "      <td>False</td>\n",
       "      <td>115</td>\n",
       "      <td>[of, z, =]</td>\n",
       "      <td>[200.0, 100.0]</td>\n",
       "      <td>False</td>\n",
       "    </tr>\n",
       "  </tbody>\n",
       "</table>\n",
       "</div>"
      ],
      "text/plain": [
       "          Name       Tag  TagOrigin Type  IsUninteresting  Occurrences Preceding 3 tokens                                                                                                                                           Examples  From regex\n",
       "0     DateTime  DateTime          4  num            False        15121                 []  [2023-03-14T20:55:49.165591Z, 2023-03-14T20:55:49.166591Z, 2023-03-14T20:55:49.167591Z, 2023-03-14T20:55:49.168591Z, 2023-03-14T20:55:49.169591Z]        True\n",
       "1   43e6c5b5_7         x          0  num            False        10000       [with, x, =]                                                   [100.00285967800117, 100.81229891323964, 100.26016363495995, 199.4482406365968, 200.98748260974]       False\n",
       "2  f2e46af4_11         y          0  num            False         5006    [reports, y, =]                                                 [200.1899632341074, 200.45898567905772, 399.6905765982258, 400.22712382793407, 400.08343040509993]       False\n",
       "3  f98340b4_12         z          0  num            False          115         [of, z, =]                                                                                                                                     [200.0, 100.0]       False"
      ]
     },
     "execution_count": 5,
     "metadata": {},
     "output_type": "execute_result"
    }
   ],
   "source": [
    "s.parsed_variables"
   ]
  },
  {
   "cell_type": "markdown",
   "metadata": {},
   "source": [
    "However, the user is free to change or provide the tag of a variable as they like:"
   ]
  },
  {
   "cell_type": "code",
   "execution_count": 6,
   "metadata": {},
   "outputs": [
    {
     "name": "stdout",
     "output_type": "stream",
     "text": [
      "Variable 43e6c5b5_7 tagged as X\n"
     ]
    },
    {
     "data": {
      "text/html": [
       "<div>\n",
       "<style scoped>\n",
       "    .dataframe tbody tr th:only-of-type {\n",
       "        vertical-align: middle;\n",
       "    }\n",
       "\n",
       "    .dataframe tbody tr th {\n",
       "        vertical-align: top;\n",
       "    }\n",
       "\n",
       "    .dataframe thead th {\n",
       "        text-align: right;\n",
       "    }\n",
       "</style>\n",
       "<table border=\"1\" class=\"dataframe\">\n",
       "  <thead>\n",
       "    <tr style=\"text-align: right;\">\n",
       "      <th></th>\n",
       "      <th>Name</th>\n",
       "      <th>Tag</th>\n",
       "      <th>TagOrigin</th>\n",
       "      <th>Type</th>\n",
       "      <th>IsUninteresting</th>\n",
       "      <th>Occurrences</th>\n",
       "      <th>Preceding 3 tokens</th>\n",
       "      <th>Examples</th>\n",
       "      <th>From regex</th>\n",
       "    </tr>\n",
       "  </thead>\n",
       "  <tbody>\n",
       "    <tr>\n",
       "      <th>0</th>\n",
       "      <td>DateTime</td>\n",
       "      <td>DateTime</td>\n",
       "      <td>4</td>\n",
       "      <td>num</td>\n",
       "      <td>False</td>\n",
       "      <td>15121</td>\n",
       "      <td>[]</td>\n",
       "      <td>[2023-03-14T20:55:49.165591Z, 2023-03-14T20:55:49.166591Z, 2023-03-14T20:55:49.167591Z, 2023-03-14T20:55:49.168591Z, 2023-03-14T20:55:49.169591Z]</td>\n",
       "      <td>True</td>\n",
       "    </tr>\n",
       "    <tr>\n",
       "      <th>1</th>\n",
       "      <td>43e6c5b5_7</td>\n",
       "      <td>X</td>\n",
       "      <td>0</td>\n",
       "      <td>num</td>\n",
       "      <td>False</td>\n",
       "      <td>10000</td>\n",
       "      <td>[with, x, =]</td>\n",
       "      <td>[100.00285967800117, 100.81229891323964, 100.26016363495995, 199.4482406365968, 200.98748260974]</td>\n",
       "      <td>False</td>\n",
       "    </tr>\n",
       "    <tr>\n",
       "      <th>2</th>\n",
       "      <td>f2e46af4_11</td>\n",
       "      <td>y</td>\n",
       "      <td>0</td>\n",
       "      <td>num</td>\n",
       "      <td>False</td>\n",
       "      <td>5006</td>\n",
       "      <td>[reports, y, =]</td>\n",
       "      <td>[200.1899632341074, 200.45898567905772, 399.6905765982258, 400.22712382793407, 400.08343040509993]</td>\n",
       "      <td>False</td>\n",
       "    </tr>\n",
       "    <tr>\n",
       "      <th>3</th>\n",
       "      <td>f98340b4_12</td>\n",
       "      <td>z</td>\n",
       "      <td>0</td>\n",
       "      <td>num</td>\n",
       "      <td>False</td>\n",
       "      <td>115</td>\n",
       "      <td>[of, z, =]</td>\n",
       "      <td>[200.0, 100.0]</td>\n",
       "      <td>False</td>\n",
       "    </tr>\n",
       "  </tbody>\n",
       "</table>\n",
       "</div>"
      ],
      "text/plain": [
       "          Name       Tag  TagOrigin Type  IsUninteresting  Occurrences Preceding 3 tokens                                                                                                                                           Examples  From regex\n",
       "0     DateTime  DateTime          4  num            False        15121                 []  [2023-03-14T20:55:49.165591Z, 2023-03-14T20:55:49.166591Z, 2023-03-14T20:55:49.167591Z, 2023-03-14T20:55:49.168591Z, 2023-03-14T20:55:49.169591Z]        True\n",
       "1   43e6c5b5_7         X          0  num            False        10000       [with, x, =]                                                   [100.00285967800117, 100.81229891323964, 100.26016363495995, 199.4482406365968, 200.98748260974]       False\n",
       "2  f2e46af4_11         y          0  num            False         5006    [reports, y, =]                                                 [200.1899632341074, 200.45898567905772, 399.6905765982258, 400.22712382793407, 400.08343040509993]       False\n",
       "3  f98340b4_12         z          0  num            False          115         [of, z, =]                                                                                                                                     [200.0, 100.0]       False"
      ]
     },
     "execution_count": 6,
     "metadata": {},
     "output_type": "execute_result"
    }
   ],
   "source": [
    "s.tag_parsed_variable(\"43e6c5b5_7\", \"X\")\n",
    "s.parsed_variables"
   ]
  },
  {
   "cell_type": "markdown",
   "metadata": {},
   "source": [
    "### Defining the causal unit and aggregating"
   ]
  },
  {
   "cell_type": "markdown",
   "metadata": {},
   "source": [
    "To continue our analysis, we would like to structure and complete the parsed information to form \"causal units\", which will be the units on which our causal analysis will be performed. If we think of causality in other contexts, the causal units could be patients in a medical context, or individuals in an economic/social study.\n",
    "\n",
    "Causal units are defined by one of the available attributes. In a medical context, this could be \"patient name\". In a systems context, we could pick one of the variables parsed from the log. This decision should normally come from the user's domain knowledge.\n",
    "\n",
    "If the user is unsure of which causal unit to pick, the system can provide suggestions, based on minimizing the impact of any missing data in the log. This technique may or may not lead to semantically meaningful causal unit suggestions."
   ]
  },
  {
   "cell_type": "code",
   "execution_count": 7,
   "metadata": {},
   "outputs": [
    {
     "data": {
      "text/html": [
       "<div>\n",
       "<style scoped>\n",
       "    .dataframe tbody tr th:only-of-type {\n",
       "        vertical-align: middle;\n",
       "    }\n",
       "\n",
       "    .dataframe tbody tr th {\n",
       "        vertical-align: top;\n",
       "    }\n",
       "\n",
       "    .dataframe thead th {\n",
       "        text-align: right;\n",
       "    }\n",
       "</style>\n",
       "<table border=\"1\" class=\"dataframe\">\n",
       "  <thead>\n",
       "    <tr style=\"text-align: right;\">\n",
       "      <th></th>\n",
       "      <th>Variable</th>\n",
       "      <th>Type</th>\n",
       "      <th>Num Units</th>\n",
       "      <th>IUS</th>\n",
       "    </tr>\n",
       "  </thead>\n",
       "  <tbody>\n",
       "    <tr>\n",
       "      <th>0</th>\n",
       "      <td>DateTime</td>\n",
       "      <td>num</td>\n",
       "      <td>4</td>\n",
       "      <td>1.000000</td>\n",
       "    </tr>\n",
       "    <tr>\n",
       "      <th>1</th>\n",
       "      <td>DateTime</td>\n",
       "      <td>num</td>\n",
       "      <td>8</td>\n",
       "      <td>1.000000</td>\n",
       "    </tr>\n",
       "    <tr>\n",
       "      <th>2</th>\n",
       "      <td>DateTime</td>\n",
       "      <td>num</td>\n",
       "      <td>40</td>\n",
       "      <td>0.993734</td>\n",
       "    </tr>\n",
       "    <tr>\n",
       "      <th>3</th>\n",
       "      <td>43e6c5b5_7</td>\n",
       "      <td>num</td>\n",
       "      <td>4</td>\n",
       "      <td>0.330666</td>\n",
       "    </tr>\n",
       "    <tr>\n",
       "      <th>4</th>\n",
       "      <td>43e6c5b5_7</td>\n",
       "      <td>num</td>\n",
       "      <td>8</td>\n",
       "      <td>0.330666</td>\n",
       "    </tr>\n",
       "    <tr>\n",
       "      <th>5</th>\n",
       "      <td>43e6c5b5_7</td>\n",
       "      <td>num</td>\n",
       "      <td>40</td>\n",
       "      <td>0.330666</td>\n",
       "    </tr>\n",
       "    <tr>\n",
       "      <th>6</th>\n",
       "      <td>f2e46af4_11</td>\n",
       "      <td>num</td>\n",
       "      <td>4</td>\n",
       "      <td>0.165531</td>\n",
       "    </tr>\n",
       "    <tr>\n",
       "      <th>7</th>\n",
       "      <td>f2e46af4_11</td>\n",
       "      <td>num</td>\n",
       "      <td>8</td>\n",
       "      <td>0.165531</td>\n",
       "    </tr>\n",
       "    <tr>\n",
       "      <th>8</th>\n",
       "      <td>f2e46af4_11</td>\n",
       "      <td>num</td>\n",
       "      <td>40</td>\n",
       "      <td>0.165531</td>\n",
       "    </tr>\n",
       "  </tbody>\n",
       "</table>\n",
       "</div>"
      ],
      "text/plain": [
       "      Variable Type  Num Units       IUS\n",
       "0     DateTime  num          4  1.000000\n",
       "1     DateTime  num          8  1.000000\n",
       "2     DateTime  num         40  0.993734\n",
       "3   43e6c5b5_7  num          4  0.330666\n",
       "4   43e6c5b5_7  num          8  0.330666\n",
       "5   43e6c5b5_7  num         40  0.330666\n",
       "6  f2e46af4_11  num          4  0.165531\n",
       "7  f2e46af4_11  num          8  0.165531\n",
       "8  f2e46af4_11  num         40  0.165531"
      ]
     },
     "execution_count": 7,
     "metadata": {},
     "output_type": "execute_result"
    }
   ],
   "source": [
    "s.suggest_causal_unit_defs()"
   ]
  },
  {
   "cell_type": "markdown",
   "metadata": {},
   "source": [
    "Based on the user's own domain knowledge or the system's suggestions, the user can then call `set_causal_unit()`. For example, the call below indicates that each causal unit should be a `1 ms`-long time interval (not that this choice may not be appropriate in every setting):"
   ]
  },
  {
   "cell_type": "code",
   "execution_count": 8,
   "metadata": {},
   "outputs": [
    {
     "name": "stdout",
     "output_type": "stream",
     "text": [
      "Causal unit set to DateTime (tag: DateTime)  with 10000 causal units.\n"
     ]
    }
   ],
   "source": [
    "s.set_causal_unit(\"DateTime\", num_units=10000)"
   ]
  },
  {
   "cell_type": "markdown",
   "metadata": {},
   "source": [
    "Given the causal unit, we can then ask Sawmill to perpare the log for analysis by using `prepare()`. Preparing the log involves two distinct tasks:\n",
    "\n",
    "1. Aggregation: Based on our choice of causal unit, there might be variables that take a multitude of values on different log lines associated with the same causal unit. For example, had we chosen a 10ms window as our causal unit, there would have been 10 lines reporting values of `x`. From this multitude of values, a fixed set of values must be derived (e.g. we could always keep the mean, or the last value seen). By default, Sawmill will generate the `min`, `max` and `mean` for numerical variables; the most recent value for string variables; and the least recent value for date-typed variables.\n",
    "\n",
    "2. Imputation: On the other end of the spectrum, there might be variables that are never observed within some causal unit. For example, `z` is only reported every approximately `100 ms`, so it should be missing most of the time, if our causal unit is a `1 ms` window. Whether and how to impute such missing values is application-dependent, since we must avoid information leakage from one causal unit to another or risk violating SUTVA. In this case, we know that `z` should be interpreted as a \"sticky\" value, but `x` and `y` should not be imputed.\n",
    "\n",
    "After aggregating and imputing, we drop any causal units that still have missing values."
   ]
  },
  {
   "cell_type": "code",
   "execution_count": 9,
   "metadata": {},
   "outputs": [
    {
     "name": "stdout",
     "output_type": "stream",
     "text": [
      "Determining the causal unit assignment...\n",
      "Dropped 0 uninteresting columns, out of an original total of 4.\n",
      "Calculating aggregates for each causal unit...\n"
     ]
    },
    {
     "data": {
      "application/vnd.jupyter.widget-view+json": {
       "model_id": "cb12b743590f4ab9a804f8e896c15493",
       "version_major": 2,
       "version_minor": 0
      },
      "text/plain": [
       "Imputing missing values...:   0%|          | 0/9 [00:00<?, ?it/s]"
      ]
     },
     "metadata": {},
     "output_type": "display_data"
    },
    {
     "name": "stdout",
     "output_type": "stream",
     "text": [
      "Dropping aggregates that do not add information...\n"
     ]
    },
    {
     "data": {
      "application/vnd.jupyter.widget-view+json": {
       "model_id": "782389a0ed5644d1b57238431cc740b5",
       "version_major": 2,
       "version_minor": 0
      },
      "text/plain": [
       "One-hot encoding categorical variables...: 0it [00:00, ?it/s]"
      ]
     },
     "metadata": {},
     "output_type": "display_data"
    },
    {
     "data": {
      "application/vnd.jupyter.widget-view+json": {
       "model_id": "9c179c7cf59c4c62bb3ebb202b014970",
       "version_major": 2,
       "version_minor": 0
      },
      "text/plain": [
       "Dumping pkl file to datasets/xyzw_logs/log_2023-03-14_20:55:49/log_2023-03-14_20:55:49.log_prepared_log_DateTi…"
      ]
     },
     "metadata": {},
     "output_type": "display_data"
    },
    {
     "data": {
      "application/vnd.jupyter.widget-view+json": {
       "model_id": "6a04a237df014220b42b385994ad2c8d",
       "version_major": 2,
       "version_minor": 0
      },
      "text/plain": [
       "Dumping pkl file to datasets/xyzw_logs/log_2023-03-14_20:55:49/log_2023-03-14_20:55:49.log_prepared_variables_…"
      ]
     },
     "metadata": {},
     "output_type": "display_data"
    },
    {
     "name": "stdout",
     "output_type": "stream",
     "text": [
      "Successfully prepared the log with causal unit DateTime (tag: DateTime) with 10000 causal units.\n",
      "Pruning edges...\n"
     ]
    },
    {
     "data": {
      "application/vnd.jupyter.widget-view+json": {
       "model_id": "d8e3c20324ee4a5db26e43991bc837c3",
       "version_major": 2,
       "version_minor": 0
      },
      "text/plain": [
       "Finding pruned variables...:   0%|          | 0/3 [00:00<?, ?it/s]"
      ]
     },
     "metadata": {},
     "output_type": "display_data"
    },
    {
     "name": "stdout",
     "output_type": "stream",
     "text": [
      "Preparation complete in 6.504448 seconds! 3 of the 9 possible edges were auto-rejected.\n"
     ]
    },
    {
     "data": {
      "text/html": [
       "<div>\n",
       "<style scoped>\n",
       "    .dataframe tbody tr th:only-of-type {\n",
       "        vertical-align: middle;\n",
       "    }\n",
       "\n",
       "    .dataframe tbody tr th {\n",
       "        vertical-align: top;\n",
       "    }\n",
       "\n",
       "    .dataframe thead th {\n",
       "        text-align: right;\n",
       "    }\n",
       "</style>\n",
       "<table border=\"1\" class=\"dataframe\">\n",
       "  <thead>\n",
       "    <tr style=\"text-align: right;\">\n",
       "      <th></th>\n",
       "      <th>43e6c5b5_7+mean</th>\n",
       "      <th>f2e46af4_11+mean</th>\n",
       "      <th>f98340b4_12+mean</th>\n",
       "    </tr>\n",
       "    <tr>\n",
       "      <th>DateTime+max</th>\n",
       "      <th></th>\n",
       "      <th></th>\n",
       "      <th></th>\n",
       "    </tr>\n",
       "  </thead>\n",
       "  <tbody>\n",
       "    <tr>\n",
       "      <th>1678827349.170591</th>\n",
       "      <td>199.659262</td>\n",
       "      <td>399.690577</td>\n",
       "      <td>200.0</td>\n",
       "    </tr>\n",
       "    <tr>\n",
       "      <th>1678827349.173591</th>\n",
       "      <td>199.755998</td>\n",
       "      <td>400.227124</td>\n",
       "      <td>200.0</td>\n",
       "    </tr>\n",
       "    <tr>\n",
       "      <th>1678827349.175591</th>\n",
       "      <td>200.098576</td>\n",
       "      <td>400.083430</td>\n",
       "      <td>200.0</td>\n",
       "    </tr>\n",
       "    <tr>\n",
       "      <th>1678827349.178591</th>\n",
       "      <td>200.158634</td>\n",
       "      <td>399.188180</td>\n",
       "      <td>200.0</td>\n",
       "    </tr>\n",
       "    <tr>\n",
       "      <th>1678827349.179591</th>\n",
       "      <td>200.934658</td>\n",
       "      <td>400.514334</td>\n",
       "      <td>200.0</td>\n",
       "    </tr>\n",
       "    <tr>\n",
       "      <th>1678827349.181591</th>\n",
       "      <td>199.626578</td>\n",
       "      <td>399.894171</td>\n",
       "      <td>200.0</td>\n",
       "    </tr>\n",
       "    <tr>\n",
       "      <th>1678827349.182591</th>\n",
       "      <td>200.937334</td>\n",
       "      <td>400.577257</td>\n",
       "      <td>200.0</td>\n",
       "    </tr>\n",
       "    <tr>\n",
       "      <th>1678827349.183591</th>\n",
       "      <td>199.831092</td>\n",
       "      <td>399.077464</td>\n",
       "      <td>200.0</td>\n",
       "    </tr>\n",
       "    <tr>\n",
       "      <th>1678827349.188591</th>\n",
       "      <td>199.372097</td>\n",
       "      <td>399.650472</td>\n",
       "      <td>200.0</td>\n",
       "    </tr>\n",
       "    <tr>\n",
       "      <th>1678827349.193591</th>\n",
       "      <td>200.476665</td>\n",
       "      <td>400.613001</td>\n",
       "      <td>200.0</td>\n",
       "    </tr>\n",
       "  </tbody>\n",
       "</table>\n",
       "</div>"
      ],
      "text/plain": [
       "                   43e6c5b5_7+mean  f2e46af4_11+mean  f98340b4_12+mean\n",
       "DateTime+max                                                          \n",
       "1678827349.170591       199.659262        399.690577             200.0\n",
       "1678827349.173591       199.755998        400.227124             200.0\n",
       "1678827349.175591       200.098576        400.083430             200.0\n",
       "1678827349.178591       200.158634        399.188180             200.0\n",
       "1678827349.179591       200.934658        400.514334             200.0\n",
       "1678827349.181591       199.626578        399.894171             200.0\n",
       "1678827349.182591       200.937334        400.577257             200.0\n",
       "1678827349.183591       199.831092        399.077464             200.0\n",
       "1678827349.188591       199.372097        399.650472             200.0\n",
       "1678827349.193591       200.476665        400.613001             200.0"
      ]
     },
     "execution_count": 9,
     "metadata": {},
     "output_type": "execute_result"
    }
   ],
   "source": [
    "imputation_functions = {'z': 'ffill_imp'}\n",
    "aggregation_functions = {'DateTime': ['max']}\n",
    "s.prepare(custom_agg=aggregation_functions, custom_imp=imputation_functions, force=True)\n",
    "s.prepared_log.head(10)"
   ]
  },
  {
   "cell_type": "code",
   "execution_count": 10,
   "metadata": {},
   "outputs": [
    {
     "data": {
      "text/html": [
       "<div>\n",
       "<style scoped>\n",
       "    .dataframe tbody tr th:only-of-type {\n",
       "        vertical-align: middle;\n",
       "    }\n",
       "\n",
       "    .dataframe tbody tr th {\n",
       "        vertical-align: top;\n",
       "    }\n",
       "\n",
       "    .dataframe thead th {\n",
       "        text-align: right;\n",
       "    }\n",
       "</style>\n",
       "<table border=\"1\" class=\"dataframe\">\n",
       "  <thead>\n",
       "    <tr style=\"text-align: right;\">\n",
       "      <th></th>\n",
       "      <th>Name</th>\n",
       "      <th>Base</th>\n",
       "      <th>Pre-agg Value</th>\n",
       "      <th>Agg</th>\n",
       "      <th>Post-agg Value</th>\n",
       "      <th>Tag</th>\n",
       "      <th>Base Variable Occurences</th>\n",
       "      <th>Type</th>\n",
       "      <th>Examples</th>\n",
       "      <th>From regex</th>\n",
       "      <th>TemplateText</th>\n",
       "    </tr>\n",
       "  </thead>\n",
       "  <tbody>\n",
       "    <tr>\n",
       "      <th>0</th>\n",
       "      <td>43e6c5b5_7+mean</td>\n",
       "      <td>43e6c5b5_7</td>\n",
       "      <td></td>\n",
       "      <td>mean</td>\n",
       "      <td></td>\n",
       "      <td>X mean</td>\n",
       "      <td>10000</td>\n",
       "      <td>num</td>\n",
       "      <td>[100.00285967800117, 100.81229891323964, 100.26016363495995, 199.4482406365968, 200.98748260974]</td>\n",
       "      <td>False</td>\n",
       "      <td>&lt;*0&gt; DATA Short message with x = &lt;*&gt;</td>\n",
       "    </tr>\n",
       "    <tr>\n",
       "      <th>1</th>\n",
       "      <td>f2e46af4_11+mean</td>\n",
       "      <td>f2e46af4_11</td>\n",
       "      <td></td>\n",
       "      <td>mean</td>\n",
       "      <td></td>\n",
       "      <td>y mean</td>\n",
       "      <td>5006</td>\n",
       "      <td>num</td>\n",
       "      <td>[200.1899632341074, 200.45898567905772, 399.6905765982258, 400.22712382793407, 400.08343040509993]</td>\n",
       "      <td>False</td>\n",
       "      <td>&lt;*0&gt; DATA This is a log message that reports y = &lt;*&gt;</td>\n",
       "    </tr>\n",
       "    <tr>\n",
       "      <th>2</th>\n",
       "      <td>f98340b4_12+mean</td>\n",
       "      <td>f98340b4_12</td>\n",
       "      <td></td>\n",
       "      <td>mean</td>\n",
       "      <td></td>\n",
       "      <td>z mean</td>\n",
       "      <td>115</td>\n",
       "      <td>num</td>\n",
       "      <td>[200.0, 100.0]</td>\n",
       "      <td>False</td>\n",
       "      <td>&lt;*0&gt; DATA The current line will include the value of z = &lt;*&gt;</td>\n",
       "    </tr>\n",
       "  </tbody>\n",
       "</table>\n",
       "</div>"
      ],
      "text/plain": [
       "               Name         Base Pre-agg Value   Agg Post-agg Value     Tag  Base Variable Occurences Type                                                                                            Examples  From regex                                                  TemplateText\n",
       "0   43e6c5b5_7+mean   43e6c5b5_7                mean                 X mean                     10000  num    [100.00285967800117, 100.81229891323964, 100.26016363495995, 199.4482406365968, 200.98748260974]       False                          <*0> DATA Short message with x = <*>\n",
       "1  f2e46af4_11+mean  f2e46af4_11                mean                 y mean                      5006  num  [200.1899632341074, 200.45898567905772, 399.6905765982258, 400.22712382793407, 400.08343040509993]       False          <*0> DATA This is a log message that reports y = <*>\n",
       "2  f98340b4_12+mean  f98340b4_12                mean                 z mean                       115  num                                                                                      [200.0, 100.0]       False  <*0> DATA The current line will include the value of z = <*>"
      ]
     },
     "execution_count": 10,
     "metadata": {},
     "output_type": "execute_result"
    }
   ],
   "source": [
    "s.prepared_variables"
   ]
  },
  {
   "cell_type": "markdown",
   "metadata": {},
   "source": [
    "### Obtaining a causal graph"
   ]
  },
  {
   "cell_type": "markdown",
   "metadata": {},
   "source": [
    "Along with data organized along the lines of causal units, performing causal analysis also requires a causal graph. Our system provides a few different methods for obtaining such a graph, which we will now describe. "
   ]
  },
  {
   "cell_type": "markdown",
   "metadata": {},
   "source": [
    "#### Obtaining a graph through exploration"
   ]
  },
  {
   "cell_type": "markdown",
   "metadata": {},
   "source": [
    "In this variable, we iteratively pick the variable that interests us and ask the system for candidate causes for it. Remember from our data generation process, that `y` appears to be roughly equal to `2x`, but that both `x` and `y` are in fact driven by the value of `z`:"
   ]
  },
  {
   "cell_type": "code",
   "execution_count": 11,
   "metadata": {},
   "outputs": [
    {
     "name": "stdout",
     "output_type": "stream",
     "text": [
      "Candidate cause exploration complete in 0.908403 seconds!\n"
     ]
    },
    {
     "data": {
      "text/plain": [
       "(          Candidate Candidate Tag            Target     Slope  P-value Candidate->Target Edge Status Target->Candidate Edge Status\n",
       " 0   43e6c5b5_7+mean        X mean  f2e46af4_11+mean  1.999968      0.0                     Undecided                     Undecided\n",
       " 1  f98340b4_12+mean        z mean  f2e46af4_11+mean  2.000228      0.0                     Undecided                     Undecided,\n",
       " '0.908403')"
      ]
     },
     "execution_count": 11,
     "metadata": {},
     "output_type": "execute_result"
    }
   ],
   "source": [
    "s.explore_candidate_causes(\"y mean\") "
   ]
  },
  {
   "cell_type": "markdown",
   "metadata": {},
   "source": [
    "As expected, the system cannot meaningfully distinguish between the impact of `X` and `z` on `y`, since `X` is essentially a slightly noisy version of `z`. Both are reported with similar relationship strengths, so let's accept both edges into the causal graph."
   ]
  },
  {
   "cell_type": "code",
   "execution_count": 12,
   "metadata": {},
   "outputs": [
    {
     "data": {
      "text/html": [
       "<img src=\"data:image/png;base64,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\" style=\"max-width: 100%; height: auto;\">"
      ],
      "text/plain": [
       "<IPython.core.display.HTML object>"
      ]
     },
     "metadata": {},
     "output_type": "display_data"
    },
    {
     "data": {
      "text/plain": [
       "(0.6666666666666666, '43e6c5b5_7+mean', '')"
      ]
     },
     "execution_count": 12,
     "metadata": {},
     "output_type": "execute_result"
    }
   ],
   "source": [
    "s.accept('X mean', 'y mean', interactive=False)\n",
    "s.accept('z mean', 'y mean')"
   ]
  },
  {
   "cell_type": "markdown",
   "metadata": {},
   "source": [
    "However, let's now assume that we are (thankfully) not yet fully convinced, and would like to look for any possible confounding. Let's ask the system for candidates causes of `X`, which is also the candidate that the system suggested we explore next after our most recent call to `accept()`:"
   ]
  },
  {
   "cell_type": "code",
   "execution_count": 13,
   "metadata": {},
   "outputs": [
    {
     "name": "stdout",
     "output_type": "stream",
     "text": [
      "Candidate cause exploration complete in 0.897520 seconds!\n"
     ]
    },
    {
     "data": {
      "text/plain": [
       "(          Candidate Candidate Tag           Target     Slope  P-value Candidate->Target Edge Status Target->Candidate Edge Status\n",
       " 0  f2e46af4_11+mean        y mean  43e6c5b5_7+mean  0.498826      0.0                      Rejected                      Accepted\n",
       " 1  f98340b4_12+mean        z mean  43e6c5b5_7+mean  0.997800      0.0                     Undecided                     Undecided,\n",
       " '0.897520')"
      ]
     },
     "execution_count": 13,
     "metadata": {},
     "output_type": "execute_result"
    }
   ],
   "source": [
    "s.explore_candidate_causes(\"X mean\")"
   ]
  },
  {
   "cell_type": "markdown",
   "metadata": {},
   "source": [
    "`z` is successfully detected once more, and we can use domain knowledge to judge that `z` influencing `X` is the correct direction. Indeed, let's see what happens if we add it to the graph:"
   ]
  },
  {
   "cell_type": "code",
   "execution_count": 14,
   "metadata": {},
   "outputs": [
    {
     "data": {
      "text/html": [
       "<img src=\"data:image/png;base64,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\" style=\"max-width: 100%; height: auto;\">"
      ],
      "text/plain": [
       "<IPython.core.display.HTML object>"
      ]
     },
     "metadata": {},
     "output_type": "display_data"
    },
    {
     "data": {
      "text/plain": [
       "(1.0, None, '')"
      ]
     },
     "execution_count": 14,
     "metadata": {},
     "output_type": "execute_result"
    }
   ],
   "source": [
    "s.accept('z mean', 'X mean')"
   ]
  },
  {
   "cell_type": "markdown",
   "metadata": {},
   "source": [
    "Our graph creation is now complete. If the system had suggested further candidate causes that were not already rejected, we could make sure they are marked as such."
   ]
  },
  {
   "cell_type": "code",
   "execution_count": 15,
   "metadata": {},
   "outputs": [
    {
     "data": {
      "text/html": [
       "<img src=\"data:image/png;base64,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\" style=\"max-width: 100%; height: auto;\">"
      ],
      "text/plain": [
       "<IPython.core.display.HTML object>"
      ]
     },
     "metadata": {},
     "output_type": "display_data"
    },
    {
     "data": {
      "text/plain": [
       "(1.0, None, '')"
      ]
     },
     "execution_count": 15,
     "metadata": {},
     "output_type": "execute_result"
    }
   ],
   "source": [
    "s.reject_undecided_incoming('z mean')"
   ]
  },
  {
   "cell_type": "markdown",
   "metadata": {},
   "source": [
    "#### Obtaining a graph through automatic causal discovery"
   ]
  },
  {
   "cell_type": "markdown",
   "metadata": {},
   "source": [
    "For instances of the problem with few prepared variables, we could also attempt to use an off-the-shelf causal discovery algorithm to find a causal graph."
   ]
  },
  {
   "cell_type": "code",
   "execution_count": 16,
   "metadata": {},
   "outputs": [],
   "source": [
    "s.clear_graph()"
   ]
  },
  {
   "cell_type": "code",
   "execution_count": 17,
   "metadata": {},
   "outputs": [
    {
     "data": {
      "application/vnd.jupyter.widget-view+json": {
       "model_id": "6c2f7447f80149c1adaa3e0ffc431d54",
       "version_major": 2,
       "version_minor": 0
      },
      "text/plain": [
       "  0%|          | 0/10000 [00:00<?, ?it/s]"
      ]
     },
     "metadata": {},
     "output_type": "display_data"
    },
    {
     "name": "stdout",
     "output_type": "stream",
     "text": [
      "Marking edge as accepted:  ('43e6c5b5_7+mean', 'f2e46af4_11+mean')\n",
      "Marking edge as accepted:  ('f98340b4_12+mean', 'f2e46af4_11+mean')\n",
      "Marking edge as accepted:  ('f98340b4_12+mean', '43e6c5b5_7+mean')\n"
     ]
    }
   ],
   "source": [
    "s.discover_graph(method='hill_climb')"
   ]
  },
  {
   "cell_type": "code",
   "execution_count": 18,
   "metadata": {},
   "outputs": [
    {
     "data": {
      "text/html": [
       "<img src=\"data:image/png;base64,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\" style=\"max-width: 100%; height: auto;\">"
      ],
      "text/plain": [
       "<IPython.core.display.HTML object>"
      ]
     },
     "metadata": {},
     "output_type": "display_data"
    }
   ],
   "source": [
    "s.display_graph()"
   ]
  },
  {
   "cell_type": "markdown",
   "metadata": {},
   "source": [
    "As we see, this is almost correct, but the edge between `X` and `y` is flipped. We can correct this by just accepting the right edge."
   ]
  },
  {
   "cell_type": "code",
   "execution_count": 19,
   "metadata": {},
   "outputs": [
    {
     "data": {
      "text/html": [
       "<img src=\"data:image/png;base64,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\" style=\"max-width: 100%; height: auto;\">"
      ],
      "text/plain": [
       "<IPython.core.display.HTML object>"
      ]
     },
     "metadata": {},
     "output_type": "display_data"
    },
    {
     "data": {
      "text/plain": [
       "(1.0, None, '')"
      ]
     },
     "execution_count": 19,
     "metadata": {},
     "output_type": "execute_result"
    }
   ],
   "source": [
    "s.accept('X mean', 'y mean')"
   ]
  },
  {
   "cell_type": "markdown",
   "metadata": {},
   "source": [
    "### Calculating and refining the ATE"
   ]
  },
  {
   "cell_type": "markdown",
   "metadata": {},
   "source": [
    "Now that we are in posession of both a transformed view of the log data and a causal graph, it is time to calculate the ATE we are interested in. We can ask the system to either adjust for the right variables based on the causal graph we have created, or not."
   ]
  },
  {
   "cell_type": "code",
   "execution_count": 20,
   "metadata": {},
   "outputs": [
    {
     "data": {
      "image/png": "[encoded data removed]",
      "text/latex": [
       "$\\displaystyle -0.0003758076255167$"
      ],
      "text/plain": [
       "-0.00037580762551669977"
      ]
     },
     "execution_count": 20,
     "metadata": {},
     "output_type": "execute_result"
    }
   ],
   "source": [
    "s.get_adjusted_ate('X mean', 'y mean')"
   ]
  },
  {
   "cell_type": "code",
   "execution_count": 21,
   "metadata": {},
   "outputs": [
    {
     "data": {
      "image/png": "[encoded data removed]",
      "text/latex": [
       "$\\displaystyle 1.9999681306084$"
      ],
      "text/plain": [
       "1.9999681306083983"
      ]
     },
     "execution_count": 21,
     "metadata": {},
     "output_type": "execute_result"
    }
   ],
   "source": [
    "s.get_unadjusted_ate('X mean', 'y mean')"
   ]
  },
  {
   "cell_type": "markdown",
   "metadata": {},
   "source": [
    "As expected, adjusting for the right variables based on the causal graph is crucial in this case, since `Z` is by design a confounder of the causal effect of interest. Beacuse of this, we may be interested in exactly which edges of the causal graph make the biggest ATE impact, so that we can think twice about the assumptions that they encode. We can ask the system which changes to the graph would swing the ATE by the most."
   ]
  },
  {
   "cell_type": "markdown",
   "metadata": {},
   "source": [
    "The system can either answer by considering simple one-edge changes to the current graph, which suggests that graph changes that would have big ATE impact all remove `z` as a confounder..."
   ]
  },
  {
   "cell_type": "code",
   "execution_count": 22,
   "metadata": {},
   "outputs": [
    {
     "name": "stdout",
     "output_type": "stream",
     "text": [
      "Enumerated 9 graphs with 3 nodes.\n"
     ]
    },
    {
     "data": {
      "application/vnd.jupyter.widget-view+json": {
       "model_id": "0df0c1f459b64cb3b1ada87c467e5e3e",
       "version_major": 2,
       "version_minor": 0
      },
      "text/plain": [
       "0it [00:00, ?it/s]"
      ]
     },
     "metadata": {},
     "output_type": "display_data"
    },
    {
     "data": {
      "text/html": [
       "<div>\n",
       "<style scoped>\n",
       "    .dataframe tbody tr th:only-of-type {\n",
       "        vertical-align: middle;\n",
       "    }\n",
       "\n",
       "    .dataframe tbody tr th {\n",
       "        vertical-align: top;\n",
       "    }\n",
       "\n",
       "    .dataframe thead th {\n",
       "        text-align: right;\n",
       "    }\n",
       "</style>\n",
       "<table border=\"1\" class=\"dataframe\">\n",
       "  <thead>\n",
       "    <tr style=\"text-align: right;\">\n",
       "      <th></th>\n",
       "      <th>Source</th>\n",
       "      <th>Source Tag</th>\n",
       "      <th>Target</th>\n",
       "      <th>Target Tag</th>\n",
       "      <th>Change</th>\n",
       "      <th>ATE</th>\n",
       "      <th>Baseline ATE</th>\n",
       "      <th>ATE Ratio</th>\n",
       "    </tr>\n",
       "  </thead>\n",
       "  <tbody>\n",
       "    <tr>\n",
       "      <th>0</th>\n",
       "      <td>f98340b4_12+mean</td>\n",
       "      <td>z mean</td>\n",
       "      <td>f2e46af4_11+mean</td>\n",
       "      <td>y mean</td>\n",
       "      <td>Remove</td>\n",
       "      <td>1.999968</td>\n",
       "      <td>-0.000376</td>\n",
       "      <td>5321.786986</td>\n",
       "    </tr>\n",
       "    <tr>\n",
       "      <th>2</th>\n",
       "      <td>f98340b4_12+mean</td>\n",
       "      <td>z mean</td>\n",
       "      <td>43e6c5b5_7+mean</td>\n",
       "      <td>X mean</td>\n",
       "      <td>Reverse</td>\n",
       "      <td>1.999968</td>\n",
       "      <td>-0.000376</td>\n",
       "      <td>5321.786986</td>\n",
       "    </tr>\n",
       "    <tr>\n",
       "      <th>1</th>\n",
       "      <td>f98340b4_12+mean</td>\n",
       "      <td>z mean</td>\n",
       "      <td>43e6c5b5_7+mean</td>\n",
       "      <td>X mean</td>\n",
       "      <td>Remove</td>\n",
       "      <td>0.265125</td>\n",
       "      <td>-0.000376</td>\n",
       "      <td>705.479462</td>\n",
       "    </tr>\n",
       "  </tbody>\n",
       "</table>\n",
       "</div>"
      ],
      "text/plain": [
       "             Source Source Tag            Target Target Tag   Change       ATE  Baseline ATE    ATE Ratio\n",
       "0  f98340b4_12+mean     z mean  f2e46af4_11+mean     y mean   Remove  1.999968     -0.000376  5321.786986\n",
       "2  f98340b4_12+mean     z mean   43e6c5b5_7+mean     X mean  Reverse  1.999968     -0.000376  5321.786986\n",
       "1  f98340b4_12+mean     z mean   43e6c5b5_7+mean     X mean   Remove  0.265125     -0.000376   705.479462"
      ]
     },
     "execution_count": 22,
     "metadata": {},
     "output_type": "execute_result"
    }
   ],
   "source": [
    "s.challenge_ate('X mean', 'y mean', method='step')"
   ]
  },
  {
   "cell_type": "markdown",
   "metadata": {},
   "source": [
    "...or we can ask the system to take a step back and consider a broader set of possible graphs and the ATEs they lead to. This approach can accept a large number of configuration parameters through `ClusteringParams` and is generally more time-consuming. In this case, it also comes down to whether or not we assume `z` is a confounder."
   ]
  },
  {
   "cell_type": "code",
   "execution_count": 23,
   "metadata": {},
   "outputs": [
    {
     "data": {
      "application/vnd.jupyter.widget-view+json": {
       "model_id": "2a0df030c69f44d0b7ce1b3756cddafb",
       "version_major": 2,
       "version_minor": 0
      },
      "text/plain": [
       "Loading existing pkl file datasets/xyzw_logs/log_2023-03-14_20:55:49/pickles/effects/43e6c5b5_7+mean_f2e46af4_…"
      ]
     },
     "metadata": {},
     "output_type": "display_data"
    },
    {
     "name": "stdout",
     "output_type": "stream",
     "text": [
      "Found 2 clusters\n",
      "For ate = 1.999968130608398, the following edges are key assumptions made of the causal graph.\n"
     ]
    },
    {
     "data": {
      "text/html": [
       "<div>\n",
       "<style scoped>\n",
       "    .dataframe tbody tr th:only-of-type {\n",
       "        vertical-align: middle;\n",
       "    }\n",
       "\n",
       "    .dataframe tbody tr th {\n",
       "        vertical-align: top;\n",
       "    }\n",
       "\n",
       "    .dataframe thead th {\n",
       "        text-align: right;\n",
       "    }\n",
       "</style>\n",
       "<table border=\"1\" class=\"dataframe\">\n",
       "  <thead>\n",
       "    <tr style=\"text-align: right;\">\n",
       "      <th></th>\n",
       "      <th>Edge</th>\n",
       "      <th>% Expectancy</th>\n",
       "      <th>Status</th>\n",
       "    </tr>\n",
       "  </thead>\n",
       "  <tbody>\n",
       "    <tr>\n",
       "      <th>1</th>\n",
       "      <td>(z mean, y mean)</td>\n",
       "      <td>-0.555556</td>\n",
       "      <td>DOES NOT EXIST</td>\n",
       "    </tr>\n",
       "    <tr>\n",
       "      <th>0</th>\n",
       "      <td>(z mean, X mean)</td>\n",
       "      <td>-0.333333</td>\n",
       "      <td>DOES NOT EXIST</td>\n",
       "    </tr>\n",
       "  </tbody>\n",
       "</table>\n",
       "</div>"
      ],
      "text/plain": [
       "               Edge  % Expectancy          Status\n",
       "1  (z mean, y mean)     -0.555556  DOES NOT EXIST\n",
       "0  (z mean, X mean)     -0.333333  DOES NOT EXIST"
      ]
     },
     "metadata": {},
     "output_type": "display_data"
    },
    {
     "name": "stdout",
     "output_type": "stream",
     "text": [
      "For ate = 0.13237437690649756, the following edges are key assumptions made of the causal graph.\n"
     ]
    },
    {
     "data": {
      "text/html": [
       "<div>\n",
       "<style scoped>\n",
       "    .dataframe tbody tr th:only-of-type {\n",
       "        vertical-align: middle;\n",
       "    }\n",
       "\n",
       "    .dataframe tbody tr th {\n",
       "        vertical-align: top;\n",
       "    }\n",
       "\n",
       "    .dataframe thead th {\n",
       "        text-align: right;\n",
       "    }\n",
       "</style>\n",
       "<table border=\"1\" class=\"dataframe\">\n",
       "  <thead>\n",
       "    <tr style=\"text-align: right;\">\n",
       "      <th></th>\n",
       "      <th>Edge</th>\n",
       "      <th>% Expectancy</th>\n",
       "      <th>Status</th>\n",
       "    </tr>\n",
       "  </thead>\n",
       "  <tbody>\n",
       "    <tr>\n",
       "      <th>1</th>\n",
       "      <td>(z mean, y mean)</td>\n",
       "      <td>1.666667</td>\n",
       "      <td>EXISTS</td>\n",
       "    </tr>\n",
       "    <tr>\n",
       "      <th>0</th>\n",
       "      <td>(z mean, X mean)</td>\n",
       "      <td>1.000000</td>\n",
       "      <td>EXISTS</td>\n",
       "    </tr>\n",
       "  </tbody>\n",
       "</table>\n",
       "</div>"
      ],
      "text/plain": [
       "               Edge  % Expectancy  Status\n",
       "1  (z mean, y mean)      1.666667  EXISTS\n",
       "0  (z mean, X mean)      1.000000  EXISTS"
      ]
     },
     "metadata": {},
     "output_type": "display_data"
    },
    {
     "data": {
      "image/png": "[encoded data removed]",
      "text/plain": [
       "<Figure size 1200x500 with 2 Axes>"
      ]
     },
     "metadata": {},
     "output_type": "display_data"
    },
    {
     "data": {
      "image/png": "[encoded data removed]",
      "text/plain": [
       "<Figure size 1200x500 with 2 Axes>"
      ]
     },
     "metadata": {},
     "output_type": "display_data"
    }
   ],
   "source": [
    "s.challenge_ate('X mean', 'y mean', method='clustering', ignore_current_graph=True)"
   ]
  },
  {
   "cell_type": "markdown",
   "metadata": {},
   "source": [
    "# PostgreSQL/TPC-DS Example"
   ]
  },
  {
   "cell_type": "markdown",
   "metadata": {},
   "source": [
    "Now that we saw the basics of the framework, let's try to apply it to logs from a real system. \n",
    "\n",
    "We set up a PostgreSQL instance and load it with the data from TPC-DS with scale factor 1. We then run a workload in which we issue the queries in the TPC-DS workload once each (except for 4 particularly long-running queries, to expedite development 😅). \n",
    "\n",
    "We use PostgreSQL's logging to capture the execution of this workload:"
   ]
  },
  {
   "cell_type": "code",
   "execution_count": 24,
   "metadata": {},
   "outputs": [
    {
     "data": {
      "text/plain": [
       "['2023-11-01 17:54:53.027 EDT [ 6542c92d.1f943 3/5186 ] postgres@tpcds1 LOG:  statement: BEGIN',\n",
       " '2023-11-01 17:54:53.027 EDT [ 6542c92d.1f943 3/5186 ] postgres@tpcds1 LOG:  duration: 0.033 ms',\n",
       " '2023-11-01 17:54:53.028 EDT [ 6542c92d.1f943 3/5186 ] postgres@tpcds1 LOG:  statement: -- Filename: query080.sql',\n",
       " '\\t',\n",
       " '\\twith ssr as',\n",
       " '\\t (select  s_store_id as store_id,',\n",
       " '\\t          sum(ss_ext_sales_price) as sales,',\n",
       " '\\t          sum(coalesce(sr_return_amt, 0)) as returns,',\n",
       " '\\t          sum(ss_net_profit - coalesce(sr_net_loss, 0)) as profit',\n",
       " '\\t  from store_sales left outer join store_returns on']"
      ]
     },
     "execution_count": 24,
     "metadata": {},
     "output_type": "execute_result"
    }
   ],
   "source": [
    "with open(\"datasets_raw/tpc-ds/work_mem_2_256kB_2_128kB_parallel_1_2.log\", 'r') as f:\n",
    "    log = f.read().split('\\n')\n",
    "log[15:25]"
   ]
  },
  {
   "cell_type": "markdown",
   "metadata": {},
   "source": [
    "We configure logging to print out the latency of every query, and the prefix of each line is set to `%m [ %c %v ] %q%u@%d`, where:\n",
    "- %m = timestamp with milliseconds\n",
    "- %c = session ID\n",
    "- %v = virtual transaction ID\n",
    "- %q = stop here in non-session processes\n",
    "- %u = user name\n",
    "- %d = database name"
   ]
  },
  {
   "cell_type": "markdown",
   "metadata": {},
   "source": [
    "We run this workload 8 times total, each using a new connection -  2 runs each for each of 4 different parameter configurations. \n",
    "\n",
    "For each parameter configuration, we decide on a total memory budget (128 kB or 256 kB). We then set the number of `max_parallel_workers` to 1 or 2, and the amount of `work_mem` to the budget divided by the number of max parallel workers. For example:"
   ]
  },
  {
   "cell_type": "code",
   "execution_count": 25,
   "metadata": {},
   "outputs": [
    {
     "data": {
      "text/plain": [
       "['2023-11-01 17:54:53.018 EDT [ 6542c92d.1f943 3/5184 ] postgres@tpcds1 LOG:  statement: BEGIN',\n",
       " '2023-11-01 17:54:53.019 EDT [ 6542c92d.1f943 3/5184 ] postgres@tpcds1 LOG:  duration: 0.076 ms',\n",
       " '2023-11-01 17:54:53.019 EDT [ 6542c92d.1f943 3/5184 ] postgres@tpcds1 LOG:  statement: SET max_parallel_workers = 1;',\n",
       " '2023-11-01 17:54:53.019 EDT [ 6542c92d.1f943 3/5184 ] postgres@tpcds1 LOG:  duration: 0.062 ms',\n",
       " '2023-11-01 17:54:53.019 EDT [ 6542c92d.1f943 3/5184 ] postgres@tpcds1 LOG:  statement: COMMIT',\n",
       " '2023-11-01 17:54:53.019 EDT [ 6542c92d.1f943 3/0 ] postgres@tpcds1 LOG:  duration: 0.030 ms',\n",
       " '2023-11-01 17:54:53.019 EDT [ 6542c92d.1f943 3/5185 ] postgres@tpcds1 LOG:  statement: BEGIN',\n",
       " '2023-11-01 17:54:53.019 EDT [ 6542c92d.1f943 3/5185 ] postgres@tpcds1 LOG:  duration: 0.023 ms',\n",
       " \"2023-11-01 17:54:53.019 EDT [ 6542c92d.1f943 3/5185 ] postgres@tpcds1 LOG:  statement: SET work_mem = '128.0';\",\n",
       " '2023-11-01 17:54:53.019 EDT [ 6542c92d.1f943 3/5185 ] postgres@tpcds1 LOG:  duration: 0.044 ms',\n",
       " '2023-11-01 17:54:53.019 EDT [ 6542c92d.1f943 3/5185 ] postgres@tpcds1 LOG:  statement: COMMIT',\n",
       " '2023-11-01 17:54:53.019 EDT [ 6542c92d.1f943 3/0 ] postgres@tpcds1 LOG:  duration: 0.026 ms']"
      ]
     },
     "execution_count": 25,
     "metadata": {},
     "output_type": "execute_result"
    }
   ],
   "source": [
    "log[3:15]"
   ]
  },
  {
   "cell_type": "markdown",
   "metadata": {},
   "source": [
    "Can we use Sawmill to find the causal effect of these modifications on query runtime?"
   ]
  },
  {
   "cell_type": "markdown",
   "metadata": {},
   "source": [
    "### Parsing and preparation"
   ]
  },
  {
   "cell_type": "markdown",
   "metadata": {},
   "source": [
    "Since we run each iteration of the workload in a separate connection, we can extract the connection ID from each log line and use it to define our causal units. We also specify that each log message begins with a timestamp, so that Samwill can collapse multi-line log messages into a single message:"
   ]
  },
  {
   "cell_type": "code",
   "execution_count": 26,
   "metadata": {},
   "outputs": [
    {
     "name": "stdout",
     "output_type": "stream",
     "text": [
      "Initialized Sawmill with log file datasets_raw/tpc-ds/work_mem_2_256kB_2_128kB_parallel_1_2.log\n",
      "Work directory set to datasets/tpc-ds\n",
      "Parsing file: datasets_raw/tpc-ds/work_mem_2_256kB_2_128kB_parallel_1_2.log\n"
     ]
    },
    {
     "data": {
      "application/vnd.jupyter.widget-view+json": {
       "model_id": "27d6f22c9e4c42b59c21c489dc224d89",
       "version_major": 2,
       "version_minor": 0
      },
      "text/plain": [
       "Reading and tokenizing log lines...:   0%|          | 0/42108 [00:00<?, ?it/s]"
      ]
     },
     "metadata": {},
     "output_type": "display_data"
    },
    {
     "data": {
      "application/vnd.jupyter.widget-view+json": {
       "model_id": "9a80b05301c44514b895e41bdcb40ad1",
       "version_major": 2,
       "version_minor": 0
      },
      "text/plain": [
       "Determining template for each line...:   0%|          | 0/4687 [00:00<?, ?it/s]"
      ]
     },
     "metadata": {},
     "output_type": "display_data"
    },
    {
     "data": {
      "application/vnd.jupyter.widget-view+json": {
       "model_id": "6030d400866c4979bfcdf2e8b54ff538",
       "version_major": 2,
       "version_minor": 0
      },
      "text/plain": [
       "Extracting variables from each log message...:   0%|          | 0/100 [00:00<?, ?it/s]"
      ]
     },
     "metadata": {},
     "output_type": "display_data"
    },
    {
     "data": {
      "application/vnd.jupyter.widget-view+json": {
       "model_id": "e5261b33e9264b93b1d98357b8182888",
       "version_major": 2,
       "version_minor": 0
      },
      "text/plain": [
       "Determining variable types...:   0%|          | 0/66 [00:00<?, ?it/s]"
      ]
     },
     "metadata": {},
     "output_type": "display_data"
    },
    {
     "data": {
      "application/vnd.jupyter.widget-view+json": {
       "model_id": "a957eb956d214d2aa0bbffa8430630fb",
       "version_major": 2,
       "version_minor": 0
      },
      "text/plain": [
       "Casting date variables...:   0%|          | 0/1 [00:00<?, ?it/s]"
      ]
     },
     "metadata": {},
     "output_type": "display_data"
    },
    {
     "data": {
      "application/vnd.jupyter.widget-view+json": {
       "model_id": "01ca894b82fe4536b8f8159b20d35296",
       "version_major": 2,
       "version_minor": 0
      },
      "text/plain": [
       "Casting date variables round 2...:   0%|          | 0/4687 [00:00<?, ?it/s]"
      ]
     },
     "metadata": {},
     "output_type": "display_data"
    },
    {
     "name": "stderr",
     "output_type": "stream",
     "text": [
      "/home/markakis/logs-venv/lib/python3.11/site-packages/tqdm/std.py:920: FutureWarning: DataFrame.applymap has been deprecated. Use DataFrame.map instead.\n",
      "  return getattr(df, df_function)(wrapper, **kwargs)\n"
     ]
    },
    {
     "data": {
      "application/vnd.jupyter.widget-view+json": {
       "model_id": "19f98d33aaa84efea2d7cca0badc85be",
       "version_major": 2,
       "version_minor": 0
      },
      "text/plain": [
       "Casting time variables...:   0%|          | 0/1 [00:00<?, ?it/s]"
      ]
     },
     "metadata": {},
     "output_type": "display_data"
    },
    {
     "data": {
      "application/vnd.jupyter.widget-view+json": {
       "model_id": "3910ed0f987249749588f0efe3363482",
       "version_major": 2,
       "version_minor": 0
      },
      "text/plain": [
       "Casting time variables round 2...:   0%|          | 0/4687 [00:00<?, ?it/s]"
      ]
     },
     "metadata": {},
     "output_type": "display_data"
    },
    {
     "name": "stderr",
     "output_type": "stream",
     "text": [
      "/home/markakis/logs-venv/lib/python3.11/site-packages/tqdm/std.py:920: FutureWarning: DataFrame.applymap has been deprecated. Use DataFrame.map instead.\n",
      "  return getattr(df, df_function)(wrapper, **kwargs)\n"
     ]
    },
    {
     "data": {
      "application/vnd.jupyter.widget-view+json": {
       "model_id": "347a3f62d0974d2781ab2dd5f87e6881",
       "version_major": 2,
       "version_minor": 0
      },
      "text/plain": [
       "Casting numerical variables...:   0%|          | 0/7 [00:00<?, ?it/s]"
      ]
     },
     "metadata": {},
     "output_type": "display_data"
    },
    {
     "data": {
      "application/vnd.jupyter.widget-view+json": {
       "model_id": "4eaaefe2a2284c598e058bf2b6eeef73",
       "version_major": 2,
       "version_minor": 0
      },
      "text/plain": [
       "Tagging variables...:   0%|          | 0/66 [00:00<?, ?it/s]"
      ]
     },
     "metadata": {},
     "output_type": "display_data"
    },
    {
     "data": {
      "application/vnd.jupyter.widget-view+json": {
       "model_id": "a86306d285a4453681a44ef27f2ca326",
       "version_major": 2,
       "version_minor": 0
      },
      "text/plain": [
       "Detecting identifiers...:   0%|          | 0/66 [00:00<?, ?it/s]"
      ]
     },
     "metadata": {},
     "output_type": "display_data"
    },
    {
     "data": {
      "application/vnd.jupyter.widget-view+json": {
       "model_id": "4bca28196dbf4e11923b0ee51e4e8fce",
       "version_major": 2,
       "version_minor": 0
      },
      "text/plain": [
       "Dumping pkl file to datasets/tpc-ds/work_mem_2_256kB_2_128kB_parallel_1_2.log_parsed_log_None_None.pkl...:   0…"
      ]
     },
     "metadata": {},
     "output_type": "display_data"
    },
    {
     "data": {
      "application/vnd.jupyter.widget-view+json": {
       "model_id": "2aeb35131d344413a545c059ed129793",
       "version_major": 2,
       "version_minor": 0
      },
      "text/plain": [
       "Dumping pkl file to datasets/tpc-ds/work_mem_2_256kB_2_128kB_parallel_1_2.log_parsed_templates_None_None.pkl..…"
      ]
     },
     "metadata": {},
     "output_type": "display_data"
    },
    {
     "data": {
      "application/vnd.jupyter.widget-view+json": {
       "model_id": "874e2f24fe3e4f828089b2116ec8640b",
       "version_major": 2,
       "version_minor": 0
      },
      "text/plain": [
       "Dumping pkl file to datasets/tpc-ds/work_mem_2_256kB_2_128kB_parallel_1_2.log_parsed_variables_None_None.pkl..…"
      ]
     },
     "metadata": {},
     "output_type": "display_data"
    },
    {
     "name": "stdout",
     "output_type": "stream",
     "text": [
      "Parsing complete in 1.022926 seconds!\n",
      "Causal unit set to sessionID (tag: sessionID) \n",
      "Determining the causal unit assignment...\n",
      "Dropped 1 uninteresting columns, out of an original total of 66.\n",
      "Calculating aggregates for each causal unit...\n"
     ]
    },
    {
     "data": {
      "application/vnd.jupyter.widget-view+json": {
       "model_id": "3a4508c10b6145dfb140d563b2b4bafb",
       "version_major": 2,
       "version_minor": 0
      },
      "text/plain": [
       "Imputing missing values...:   0%|          | 0/192 [00:00<?, ?it/s]"
      ]
     },
     "metadata": {},
     "output_type": "display_data"
    },
    {
     "name": "stdout",
     "output_type": "stream",
     "text": [
      "Dropping aggregates that do not add information...\n"
     ]
    },
    {
     "data": {
      "application/vnd.jupyter.widget-view+json": {
       "model_id": "844edbc40e4e449c911f3cd5ab0e344d",
       "version_major": 2,
       "version_minor": 0
      },
      "text/plain": [
       "One-hot encoding categorical variables...:   0%|          | 0/57 [00:00<?, ?it/s]"
      ]
     },
     "metadata": {},
     "output_type": "display_data"
    },
    {
     "data": {
      "application/vnd.jupyter.widget-view+json": {
       "model_id": "a8747fac1ba34c01ad5dd486ac908d65",
       "version_major": 2,
       "version_minor": 0
      },
      "text/plain": [
       "Dumping pkl file to datasets/tpc-ds/work_mem_2_256kB_2_128kB_parallel_1_2.log_prepared_log_sessionID_None.pkl.…"
      ]
     },
     "metadata": {},
     "output_type": "display_data"
    },
    {
     "data": {
      "application/vnd.jupyter.widget-view+json": {
       "model_id": "954858d77cd8436d8671682426345b0e",
       "version_major": 2,
       "version_minor": 0
      },
      "text/plain": [
       "Dumping pkl file to datasets/tpc-ds/work_mem_2_256kB_2_128kB_parallel_1_2.log_prepared_variables_sessionID_Non…"
      ]
     },
     "metadata": {},
     "output_type": "display_data"
    },
    {
     "name": "stdout",
     "output_type": "stream",
     "text": [
      "Successfully prepared the log with causal unit sessionID (tag: sessionID)\n",
      "Pruning edges...\n"
     ]
    },
    {
     "data": {
      "application/vnd.jupyter.widget-view+json": {
       "model_id": "ffe7afe80050460294106597d7ebd618",
       "version_major": 2,
       "version_minor": 0
      },
      "text/plain": [
       "Finding pruned variables...:   0%|          | 0/64 [00:00<?, ?it/s]"
      ]
     },
     "metadata": {},
     "output_type": "display_data"
    },
    {
     "name": "stderr",
     "output_type": "stream",
     "text": [
      "/home/markakis/logs-venv/lib/python3.11/site-packages/sklearn/linear_model/_coordinate_descent.py:628: ConvergenceWarning: Objective did not converge. You might want to increase the number of iterations, check the scale of the features or consider increasing regularisation. Duality gap: 0.000e+00, tolerance: 0.000e+00\n",
      "  model = cd_fast.enet_coordinate_descent(\n",
      "/home/markakis/logs-venv/lib/python3.11/site-packages/sklearn/linear_model/_coordinate_descent.py:628: ConvergenceWarning: Objective did not converge. You might want to increase the number of iterations, check the scale of the features or consider increasing regularisation. Duality gap: 0.000e+00, tolerance: 0.000e+00\n",
      "  model = cd_fast.enet_coordinate_descent(\n",
      "/home/markakis/logs-venv/lib/python3.11/site-packages/sklearn/linear_model/_coordinate_descent.py:628: ConvergenceWarning: Objective did not converge. You might want to increase the number of iterations, check the scale of the features or consider increasing regularisation. Duality gap: 0.000e+00, tolerance: 0.000e+00\n",
      "  model = cd_fast.enet_coordinate_descent(\n",
      "/home/markakis/logs-venv/lib/python3.11/site-packages/sklearn/linear_model/_coordinate_descent.py:628: ConvergenceWarning: Objective did not converge. You might want to increase the number of iterations, check the scale of the features or consider increasing regularisation. Duality gap: 0.000e+00, tolerance: 0.000e+00\n",
      "  model = cd_fast.enet_coordinate_descent(\n",
      "/home/markakis/logs-venv/lib/python3.11/site-packages/sklearn/linear_model/_coordinate_descent.py:628: ConvergenceWarning: Objective did not converge. You might want to increase the number of iterations, check the scale of the features or consider increasing regularisation. Duality gap: 0.000e+00, tolerance: 0.000e+00\n",
      "  model = cd_fast.enet_coordinate_descent(\n",
      "/home/markakis/logs-venv/lib/python3.11/site-packages/sklearn/linear_model/_coordinate_descent.py:628: ConvergenceWarning: Objective did not converge. You might want to increase the number of iterations, check the scale of the features or consider increasing regularisation. Duality gap: 0.000e+00, tolerance: 0.000e+00\n",
      "  model = cd_fast.enet_coordinate_descent(\n",
      "/home/markakis/logs-venv/lib/python3.11/site-packages/sklearn/linear_model/_coordinate_descent.py:628: ConvergenceWarning: Objective did not converge. You might want to increase the number of iterations, check the scale of the features or consider increasing regularisation. Duality gap: 0.000e+00, tolerance: 0.000e+00\n",
      "  model = cd_fast.enet_coordinate_descent(\n",
      "/home/markakis/logs-venv/lib/python3.11/site-packages/sklearn/linear_model/_coordinate_descent.py:628: ConvergenceWarning: Objective did not converge. You might want to increase the number of iterations, check the scale of the features or consider increasing regularisation. Duality gap: 0.000e+00, tolerance: 0.000e+00\n",
      "  model = cd_fast.enet_coordinate_descent(\n",
      "/home/markakis/logs-venv/lib/python3.11/site-packages/sklearn/linear_model/_coordinate_descent.py:628: ConvergenceWarning: Objective did not converge. You might want to increase the number of iterations, check the scale of the features or consider increasing regularisation. Duality gap: 0.000e+00, tolerance: 0.000e+00\n",
      "  model = cd_fast.enet_coordinate_descent(\n",
      "/home/markakis/logs-venv/lib/python3.11/site-packages/sklearn/linear_model/_coordinate_descent.py:628: ConvergenceWarning: Objective did not converge. You might want to increase the number of iterations, check the scale of the features or consider increasing regularisation. Duality gap: 0.000e+00, tolerance: 0.000e+00\n",
      "  model = cd_fast.enet_coordinate_descent(\n",
      "/home/markakis/logs-venv/lib/python3.11/site-packages/sklearn/linear_model/_coordinate_descent.py:628: ConvergenceWarning: Objective did not converge. You might want to increase the number of iterations, check the scale of the features or consider increasing regularisation. Duality gap: 0.000e+00, tolerance: 0.000e+00\n",
      "  model = cd_fast.enet_coordinate_descent(\n",
      "/home/markakis/logs-venv/lib/python3.11/site-packages/sklearn/linear_model/_coordinate_descent.py:628: ConvergenceWarning: Objective did not converge. You might want to increase the number of iterations, check the scale of the features or consider increasing regularisation. Duality gap: 0.000e+00, tolerance: 0.000e+00\n",
      "  model = cd_fast.enet_coordinate_descent(\n",
      "/home/markakis/logs-venv/lib/python3.11/site-packages/sklearn/linear_model/_coordinate_descent.py:628: ConvergenceWarning: Objective did not converge. You might want to increase the number of iterations, check the scale of the features or consider increasing regularisation. Duality gap: 0.000e+00, tolerance: 0.000e+00\n",
      "  model = cd_fast.enet_coordinate_descent(\n",
      "/home/markakis/logs-venv/lib/python3.11/site-packages/sklearn/linear_model/_coordinate_descent.py:628: ConvergenceWarning: Objective did not converge. You might want to increase the number of iterations, check the scale of the features or consider increasing regularisation. Duality gap: 0.000e+00, tolerance: 0.000e+00\n",
      "  model = cd_fast.enet_coordinate_descent(\n",
      "/home/markakis/logs-venv/lib/python3.11/site-packages/sklearn/linear_model/_coordinate_descent.py:628: ConvergenceWarning: Objective did not converge. You might want to increase the number of iterations, check the scale of the features or consider increasing regularisation. Duality gap: 0.000e+00, tolerance: 0.000e+00\n",
      "  model = cd_fast.enet_coordinate_descent(\n",
      "/home/markakis/logs-venv/lib/python3.11/site-packages/sklearn/linear_model/_coordinate_descent.py:628: ConvergenceWarning: Objective did not converge. You might want to increase the number of iterations, check the scale of the features or consider increasing regularisation. Duality gap: 0.000e+00, tolerance: 0.000e+00\n",
      "  model = cd_fast.enet_coordinate_descent(\n",
      "/home/markakis/logs-venv/lib/python3.11/site-packages/sklearn/linear_model/_coordinate_descent.py:628: ConvergenceWarning: Objective did not converge. You might want to increase the number of iterations, check the scale of the features or consider increasing regularisation. Duality gap: 0.000e+00, tolerance: 0.000e+00\n",
      "  model = cd_fast.enet_coordinate_descent(\n",
      "/home/markakis/logs-venv/lib/python3.11/site-packages/sklearn/linear_model/_coordinate_descent.py:628: ConvergenceWarning: Objective did not converge. You might want to increase the number of iterations, check the scale of the features or consider increasing regularisation. Duality gap: 1.037e+05, tolerance: 6.306e+04\n",
      "  model = cd_fast.enet_coordinate_descent(\n",
      "/home/markakis/logs-venv/lib/python3.11/site-packages/sklearn/linear_model/_coordinate_descent.py:628: ConvergenceWarning: Objective did not converge. You might want to increase the number of iterations, check the scale of the features or consider increasing regularisation. Duality gap: 0.000e+00, tolerance: 0.000e+00\n",
      "  model = cd_fast.enet_coordinate_descent(\n",
      "/home/markakis/logs-venv/lib/python3.11/site-packages/sklearn/linear_model/_coordinate_descent.py:628: ConvergenceWarning: Objective did not converge. You might want to increase the number of iterations, check the scale of the features or consider increasing regularisation. Duality gap: 0.000e+00, tolerance: 0.000e+00\n",
      "  model = cd_fast.enet_coordinate_descent(\n",
      "/home/markakis/logs-venv/lib/python3.11/site-packages/sklearn/linear_model/_coordinate_descent.py:628: ConvergenceWarning: Objective did not converge. You might want to increase the number of iterations, check the scale of the features or consider increasing regularisation. Duality gap: 0.000e+00, tolerance: 0.000e+00\n",
      "  model = cd_fast.enet_coordinate_descent(\n",
      "/home/markakis/logs-venv/lib/python3.11/site-packages/sklearn/linear_model/_coordinate_descent.py:628: ConvergenceWarning: Objective did not converge. You might want to increase the number of iterations, check the scale of the features or consider increasing regularisation. Duality gap: 0.000e+00, tolerance: 0.000e+00\n",
      "  model = cd_fast.enet_coordinate_descent(\n",
      "/home/markakis/logs-venv/lib/python3.11/site-packages/sklearn/linear_model/_coordinate_descent.py:628: ConvergenceWarning: Objective did not converge. You might want to increase the number of iterations, check the scale of the features or consider increasing regularisation. Duality gap: 0.000e+00, tolerance: 0.000e+00\n",
      "  model = cd_fast.enet_coordinate_descent(\n",
      "/home/markakis/logs-venv/lib/python3.11/site-packages/sklearn/linear_model/_coordinate_descent.py:628: ConvergenceWarning: Objective did not converge. You might want to increase the number of iterations, check the scale of the features or consider increasing regularisation. Duality gap: 0.000e+00, tolerance: 0.000e+00\n",
      "  model = cd_fast.enet_coordinate_descent(\n",
      "/home/markakis/logs-venv/lib/python3.11/site-packages/sklearn/linear_model/_coordinate_descent.py:628: ConvergenceWarning: Objective did not converge. You might want to increase the number of iterations, check the scale of the features or consider increasing regularisation. Duality gap: 0.000e+00, tolerance: 0.000e+00\n",
      "  model = cd_fast.enet_coordinate_descent(\n",
      "/home/markakis/logs-venv/lib/python3.11/site-packages/sklearn/linear_model/_coordinate_descent.py:628: ConvergenceWarning: Objective did not converge. You might want to increase the number of iterations, check the scale of the features or consider increasing regularisation. Duality gap: 0.000e+00, tolerance: 0.000e+00\n",
      "  model = cd_fast.enet_coordinate_descent(\n",
      "/home/markakis/logs-venv/lib/python3.11/site-packages/sklearn/linear_model/_coordinate_descent.py:628: ConvergenceWarning: Objective did not converge. You might want to increase the number of iterations, check the scale of the features or consider increasing regularisation. Duality gap: 0.000e+00, tolerance: 0.000e+00\n",
      "  model = cd_fast.enet_coordinate_descent(\n",
      "/home/markakis/logs-venv/lib/python3.11/site-packages/sklearn/linear_model/_coordinate_descent.py:628: ConvergenceWarning: Objective did not converge. You might want to increase the number of iterations, check the scale of the features or consider increasing regularisation. Duality gap: 0.000e+00, tolerance: 0.000e+00\n",
      "  model = cd_fast.enet_coordinate_descent(\n",
      "/home/markakis/logs-venv/lib/python3.11/site-packages/sklearn/linear_model/_coordinate_descent.py:628: ConvergenceWarning: Objective did not converge. You might want to increase the number of iterations, check the scale of the features or consider increasing regularisation. Duality gap: 0.000e+00, tolerance: 0.000e+00\n",
      "  model = cd_fast.enet_coordinate_descent(\n",
      "/home/markakis/logs-venv/lib/python3.11/site-packages/sklearn/linear_model/_coordinate_descent.py:628: ConvergenceWarning: Objective did not converge. You might want to increase the number of iterations, check the scale of the features or consider increasing regularisation. Duality gap: 0.000e+00, tolerance: 0.000e+00\n",
      "  model = cd_fast.enet_coordinate_descent(\n",
      "/home/markakis/logs-venv/lib/python3.11/site-packages/sklearn/linear_model/_coordinate_descent.py:628: ConvergenceWarning: Objective did not converge. You might want to increase the number of iterations, check the scale of the features or consider increasing regularisation. Duality gap: 0.000e+00, tolerance: 0.000e+00\n",
      "  model = cd_fast.enet_coordinate_descent(\n",
      "/home/markakis/logs-venv/lib/python3.11/site-packages/sklearn/linear_model/_coordinate_descent.py:628: ConvergenceWarning: Objective did not converge. You might want to increase the number of iterations, check the scale of the features or consider increasing regularisation. Duality gap: 0.000e+00, tolerance: 0.000e+00\n",
      "  model = cd_fast.enet_coordinate_descent(\n",
      "/home/markakis/logs-venv/lib/python3.11/site-packages/sklearn/linear_model/_coordinate_descent.py:628: ConvergenceWarning: Objective did not converge. You might want to increase the number of iterations, check the scale of the features or consider increasing regularisation. Duality gap: 0.000e+00, tolerance: 0.000e+00\n",
      "  model = cd_fast.enet_coordinate_descent(\n",
      "/home/markakis/logs-venv/lib/python3.11/site-packages/sklearn/linear_model/_coordinate_descent.py:628: ConvergenceWarning: Objective did not converge. You might want to increase the number of iterations, check the scale of the features or consider increasing regularisation. Duality gap: 0.000e+00, tolerance: 0.000e+00\n",
      "  model = cd_fast.enet_coordinate_descent(\n",
      "/home/markakis/logs-venv/lib/python3.11/site-packages/sklearn/linear_model/_coordinate_descent.py:628: ConvergenceWarning: Objective did not converge. You might want to increase the number of iterations, check the scale of the features or consider increasing regularisation. Duality gap: 0.000e+00, tolerance: 0.000e+00\n",
      "  model = cd_fast.enet_coordinate_descent(\n",
      "/home/markakis/logs-venv/lib/python3.11/site-packages/sklearn/linear_model/_coordinate_descent.py:628: ConvergenceWarning: Objective did not converge. You might want to increase the number of iterations, check the scale of the features or consider increasing regularisation. Duality gap: 0.000e+00, tolerance: 0.000e+00\n",
      "  model = cd_fast.enet_coordinate_descent(\n",
      "/home/markakis/logs-venv/lib/python3.11/site-packages/sklearn/linear_model/_coordinate_descent.py:628: ConvergenceWarning: Objective did not converge. You might want to increase the number of iterations, check the scale of the features or consider increasing regularisation. Duality gap: 0.000e+00, tolerance: 0.000e+00\n",
      "  model = cd_fast.enet_coordinate_descent(\n",
      "/home/markakis/logs-venv/lib/python3.11/site-packages/sklearn/linear_model/_coordinate_descent.py:628: ConvergenceWarning: Objective did not converge. You might want to increase the number of iterations, check the scale of the features or consider increasing regularisation. Duality gap: 0.000e+00, tolerance: 0.000e+00\n",
      "  model = cd_fast.enet_coordinate_descent(\n",
      "/home/markakis/logs-venv/lib/python3.11/site-packages/sklearn/linear_model/_coordinate_descent.py:628: ConvergenceWarning: Objective did not converge. You might want to increase the number of iterations, check the scale of the features or consider increasing regularisation. Duality gap: 0.000e+00, tolerance: 0.000e+00\n",
      "  model = cd_fast.enet_coordinate_descent(\n",
      "/home/markakis/logs-venv/lib/python3.11/site-packages/sklearn/linear_model/_coordinate_descent.py:628: ConvergenceWarning: Objective did not converge. You might want to increase the number of iterations, check the scale of the features or consider increasing regularisation. Duality gap: 0.000e+00, tolerance: 0.000e+00\n",
      "  model = cd_fast.enet_coordinate_descent(\n",
      "/home/markakis/logs-venv/lib/python3.11/site-packages/sklearn/linear_model/_coordinate_descent.py:628: ConvergenceWarning: Objective did not converge. You might want to increase the number of iterations, check the scale of the features or consider increasing regularisation. Duality gap: 0.000e+00, tolerance: 0.000e+00\n",
      "  model = cd_fast.enet_coordinate_descent(\n",
      "/home/markakis/logs-venv/lib/python3.11/site-packages/sklearn/linear_model/_coordinate_descent.py:628: ConvergenceWarning: Objective did not converge. You might want to increase the number of iterations, check the scale of the features or consider increasing regularisation. Duality gap: 0.000e+00, tolerance: 0.000e+00\n",
      "  model = cd_fast.enet_coordinate_descent(\n",
      "/home/markakis/logs-venv/lib/python3.11/site-packages/sklearn/linear_model/_coordinate_descent.py:628: ConvergenceWarning: Objective did not converge. You might want to increase the number of iterations, check the scale of the features or consider increasing regularisation. Duality gap: 0.000e+00, tolerance: 0.000e+00\n",
      "  model = cd_fast.enet_coordinate_descent(\n",
      "/home/markakis/logs-venv/lib/python3.11/site-packages/sklearn/linear_model/_coordinate_descent.py:628: ConvergenceWarning: Objective did not converge. You might want to increase the number of iterations, check the scale of the features or consider increasing regularisation. Duality gap: 0.000e+00, tolerance: 0.000e+00\n",
      "  model = cd_fast.enet_coordinate_descent(\n",
      "/home/markakis/logs-venv/lib/python3.11/site-packages/sklearn/linear_model/_coordinate_descent.py:628: ConvergenceWarning: Objective did not converge. You might want to increase the number of iterations, check the scale of the features or consider increasing regularisation. Duality gap: 0.000e+00, tolerance: 0.000e+00\n",
      "  model = cd_fast.enet_coordinate_descent(\n",
      "/home/markakis/logs-venv/lib/python3.11/site-packages/sklearn/linear_model/_coordinate_descent.py:628: ConvergenceWarning: Objective did not converge. You might want to increase the number of iterations, check the scale of the features or consider increasing regularisation. Duality gap: 0.000e+00, tolerance: 0.000e+00\n",
      "  model = cd_fast.enet_coordinate_descent(\n",
      "/home/markakis/logs-venv/lib/python3.11/site-packages/sklearn/linear_model/_coordinate_descent.py:628: ConvergenceWarning: Objective did not converge. You might want to increase the number of iterations, check the scale of the features or consider increasing regularisation. Duality gap: 0.000e+00, tolerance: 0.000e+00\n",
      "  model = cd_fast.enet_coordinate_descent(\n",
      "/home/markakis/logs-venv/lib/python3.11/site-packages/sklearn/linear_model/_coordinate_descent.py:628: ConvergenceWarning: Objective did not converge. You might want to increase the number of iterations, check the scale of the features or consider increasing regularisation. Duality gap: 0.000e+00, tolerance: 0.000e+00\n",
      "  model = cd_fast.enet_coordinate_descent(\n",
      "/home/markakis/logs-venv/lib/python3.11/site-packages/sklearn/linear_model/_coordinate_descent.py:628: ConvergenceWarning: Objective did not converge. You might want to increase the number of iterations, check the scale of the features or consider increasing regularisation. Duality gap: 0.000e+00, tolerance: 0.000e+00\n",
      "  model = cd_fast.enet_coordinate_descent(\n",
      "/home/markakis/logs-venv/lib/python3.11/site-packages/sklearn/linear_model/_coordinate_descent.py:628: ConvergenceWarning: Objective did not converge. You might want to increase the number of iterations, check the scale of the features or consider increasing regularisation. Duality gap: 0.000e+00, tolerance: 0.000e+00\n",
      "  model = cd_fast.enet_coordinate_descent(\n",
      "/home/markakis/logs-venv/lib/python3.11/site-packages/sklearn/linear_model/_coordinate_descent.py:628: ConvergenceWarning: Objective did not converge. You might want to increase the number of iterations, check the scale of the features or consider increasing regularisation. Duality gap: 0.000e+00, tolerance: 0.000e+00\n",
      "  model = cd_fast.enet_coordinate_descent(\n",
      "/home/markakis/logs-venv/lib/python3.11/site-packages/sklearn/linear_model/_coordinate_descent.py:628: ConvergenceWarning: Objective did not converge. You might want to increase the number of iterations, check the scale of the features or consider increasing regularisation. Duality gap: 0.000e+00, tolerance: 0.000e+00\n",
      "  model = cd_fast.enet_coordinate_descent(\n",
      "/home/markakis/logs-venv/lib/python3.11/site-packages/sklearn/linear_model/_coordinate_descent.py:628: ConvergenceWarning: Objective did not converge. You might want to increase the number of iterations, check the scale of the features or consider increasing regularisation. Duality gap: 0.000e+00, tolerance: 0.000e+00\n",
      "  model = cd_fast.enet_coordinate_descent(\n",
      "/home/markakis/logs-venv/lib/python3.11/site-packages/sklearn/linear_model/_coordinate_descent.py:628: ConvergenceWarning: Objective did not converge. You might want to increase the number of iterations, check the scale of the features or consider increasing regularisation. Duality gap: 0.000e+00, tolerance: 0.000e+00\n",
      "  model = cd_fast.enet_coordinate_descent(\n",
      "/home/markakis/logs-venv/lib/python3.11/site-packages/sklearn/linear_model/_coordinate_descent.py:628: ConvergenceWarning: Objective did not converge. You might want to increase the number of iterations, check the scale of the features or consider increasing regularisation. Duality gap: 0.000e+00, tolerance: 0.000e+00\n",
      "  model = cd_fast.enet_coordinate_descent(\n",
      "/home/markakis/logs-venv/lib/python3.11/site-packages/sklearn/linear_model/_coordinate_descent.py:628: ConvergenceWarning: Objective did not converge. You might want to increase the number of iterations, check the scale of the features or consider increasing regularisation. Duality gap: 0.000e+00, tolerance: 0.000e+00\n",
      "  model = cd_fast.enet_coordinate_descent(\n",
      "/home/markakis/logs-venv/lib/python3.11/site-packages/sklearn/linear_model/_coordinate_descent.py:628: ConvergenceWarning: Objective did not converge. You might want to increase the number of iterations, check the scale of the features or consider increasing regularisation. Duality gap: 0.000e+00, tolerance: 0.000e+00\n",
      "  model = cd_fast.enet_coordinate_descent(\n",
      "/home/markakis/logs-venv/lib/python3.11/site-packages/sklearn/linear_model/_coordinate_descent.py:628: ConvergenceWarning: Objective did not converge. You might want to increase the number of iterations, check the scale of the features or consider increasing regularisation. Duality gap: 0.000e+00, tolerance: 0.000e+00\n",
      "  model = cd_fast.enet_coordinate_descent(\n"
     ]
    },
    {
     "name": "stdout",
     "output_type": "stream",
     "text": [
      "Preparation complete in 1.676521 seconds! 4070 of the 4096 possible edges were auto-rejected.\n"
     ]
    },
    {
     "data": {
      "text/plain": [
       "'1.676521'"
      ]
     },
     "execution_count": 26,
     "metadata": {},
     "output_type": "execute_result"
    }
   ],
   "source": [
    "s2 = Sawmill(\"datasets_raw/tpc-ds/work_mem_2_256kB_2_128kB_parallel_1_2.log\", workdir=\"datasets/tpc-ds\")\n",
    "s2.parse(regex_dict={\"DateTime\": r'\\d{4}-\\d{2}-\\d{2} \\d{2}:\\d{2}:\\d{2}\\.\\d{3}(?= EDT \\[ )', \n",
    "        \"sessionID\" : r'(?<=EDT \\[ )\\S+\\.\\S+',\n",
    "        \"tID\": r'3/\\d+(?= ] )'\n",
    "        },message_prefix=r'\\d{4}-\\d{2}-\\d{2} \\d{2}:\\d{2}:\\d{2}.\\d{3}', force=True)\n",
    "s2.set_causal_unit(\"sessionID\")\n",
    "custom_agg = {\"sessionID\": [\"first\"]}\n",
    "s2.prepare(force = True, custom_agg=custom_agg)"
   ]
  },
  {
   "cell_type": "code",
   "execution_count": 27,
   "metadata": {},
   "outputs": [
    {
     "data": {
      "text/html": [
       "<div>\n",
       "<style scoped>\n",
       "    .dataframe tbody tr th:only-of-type {\n",
       "        vertical-align: middle;\n",
       "    }\n",
       "\n",
       "    .dataframe tbody tr th {\n",
       "        vertical-align: top;\n",
       "    }\n",
       "\n",
       "    .dataframe thead th {\n",
       "        text-align: right;\n",
       "    }\n",
       "</style>\n",
       "<table border=\"1\" class=\"dataframe\">\n",
       "  <thead>\n",
       "    <tr style=\"text-align: right;\">\n",
       "      <th></th>\n",
       "      <th>Name</th>\n",
       "      <th>Tag</th>\n",
       "      <th>TagOrigin</th>\n",
       "      <th>Type</th>\n",
       "      <th>IsUninteresting</th>\n",
       "      <th>Occurrences</th>\n",
       "      <th>Preceding 3 tokens</th>\n",
       "      <th>Examples</th>\n",
       "      <th>From regex</th>\n",
       "      <th>Aggregates</th>\n",
       "    </tr>\n",
       "  </thead>\n",
       "  <tbody>\n",
       "    <tr>\n",
       "      <th>0</th>\n",
       "      <td>DateTime</td>\n",
       "      <td>DateTime</td>\n",
       "      <td>4</td>\n",
       "      <td>num</td>\n",
       "      <td>False</td>\n",
       "      <td>4687</td>\n",
       "      <td>[]</td>\n",
       "      <td>[2023-11-01 17:54:53.006, 2023-11-01 17:54:53.017, 2023-11-01 17:54:53.018, 2023-11-01 17:54:53.019, 2023-11-01 17:54:53.027]</td>\n",
       "      <td>True</td>\n",
       "      <td>[mean, max, min]</td>\n",
       "    </tr>\n",
       "    <tr>\n",
       "      <th>1</th>\n",
       "      <td>sessionID</td>\n",
       "      <td>sessionID</td>\n",
       "      <td>4</td>\n",
       "      <td>str</td>\n",
       "      <td>False</td>\n",
       "      <td>4687</td>\n",
       "      <td>[]</td>\n",
       "      <td>[6542c92d.1f943, 6542d880.1fc1b, 6542e76c.1fe63, 6543018c.20227, 65431bc7.20615]</td>\n",
       "      <td>True</td>\n",
       "      <td>[first]</td>\n",
       "    </tr>\n",
       "    <tr>\n",
       "      <th>2</th>\n",
       "      <td>tID</td>\n",
       "      <td>tID</td>\n",
       "      <td>4</td>\n",
       "      <td>str</td>\n",
       "      <td>True</td>\n",
       "      <td>4687</td>\n",
       "      <td>[]</td>\n",
       "      <td>[, 3/5183, 3/5184, 3/0, 3/5185]</td>\n",
       "      <td>True</td>\n",
       "      <td>[]</td>\n",
       "    </tr>\n",
       "    <tr>\n",
       "      <th>3</th>\n",
       "      <td>7f9dd6da_22</td>\n",
       "      <td>port</td>\n",
       "      <td>0</td>\n",
       "      <td>num</td>\n",
       "      <td>False</td>\n",
       "      <td>8</td>\n",
       "      <td>[127.0.0.1, port, =]</td>\n",
       "      <td>[42396, 51214, 54898, 47566, 60122]</td>\n",
       "      <td>False</td>\n",
       "      <td>[mean, max, min]</td>\n",
       "    </tr>\n",
       "    <tr>\n",
       "      <th>4</th>\n",
       "      <td>9213789e_11</td>\n",
       "      <td>statement</td>\n",
       "      <td>0</td>\n",
       "      <td>str</td>\n",
       "      <td>False</td>\n",
       "      <td>1552</td>\n",
       "      <td>[:, statement, :]</td>\n",
       "      <td>[BEGIN, COMMIT]</td>\n",
       "      <td>False</td>\n",
       "      <td>[last, mode, first]</td>\n",
       "    </tr>\n",
       "    <tr>\n",
       "      <th>5</th>\n",
       "      <td>2dfe3d16_11</td>\n",
       "      <td>duration</td>\n",
       "      <td>0</td>\n",
       "      <td>num</td>\n",
       "      <td>False</td>\n",
       "      <td>2327</td>\n",
       "      <td>[:, duration, :]</td>\n",
       "      <td>[0.076, 0.062, 0.030, 0.023, 0.044]</td>\n",
       "      <td>False</td>\n",
       "      <td>[mean, max, min]</td>\n",
       "    </tr>\n",
       "    <tr>\n",
       "      <th>6</th>\n",
       "      <td>d046ac78_14</td>\n",
       "      <td>max_parallel_workers</td>\n",
       "      <td>0</td>\n",
       "      <td>num</td>\n",
       "      <td>False</td>\n",
       "      <td>8</td>\n",
       "      <td>[SET, max_parallel_workers, =]</td>\n",
       "      <td>[1, 2]</td>\n",
       "      <td>False</td>\n",
       "      <td>[mean, max, min]</td>\n",
       "    </tr>\n",
       "    <tr>\n",
       "      <th>7</th>\n",
       "      <td>0f62d144_15</td>\n",
       "      <td>work_mem</td>\n",
       "      <td>0</td>\n",
       "      <td>num</td>\n",
       "      <td>False</td>\n",
       "      <td>8</td>\n",
       "      <td>[work_mem, =, ']</td>\n",
       "      <td>[128.0, 64.0, 256.0]</td>\n",
       "      <td>False</td>\n",
       "      <td>[mean, max, min]</td>\n",
       "    </tr>\n",
       "    <tr>\n",
       "      <th>8</th>\n",
       "      <td>7c2f7377_14</td>\n",
       "      <td>Filename</td>\n",
       "      <td>0</td>\n",
       "      <td>str</td>\n",
       "      <td>False</td>\n",
       "      <td>16</td>\n",
       "      <td>[--, Filename, :]</td>\n",
       "      <td>[query012.sql, query020.sql]</td>\n",
       "      <td>False</td>\n",
       "      <td>[last, mode, first]</td>\n",
       "    </tr>\n",
       "    <tr>\n",
       "      <th>9</th>\n",
       "      <td>7c2f7377_28</td>\n",
       "      <td>7c2f7377_28</td>\n",
       "      <td>3</td>\n",
       "      <td>str</td>\n",
       "      <td>False</td>\n",
       "      <td>16</td>\n",
       "      <td>[,, sum, (]</td>\n",
       "      <td>[ws_ext_sales_price, cs_ext_sales_price]</td>\n",
       "      <td>False</td>\n",
       "      <td>[last, mode, first]</td>\n",
       "    </tr>\n",
       "    <tr>\n",
       "      <th>10</th>\n",
       "      <td>7c2f7377_35</td>\n",
       "      <td>7c2f7377_35</td>\n",
       "      <td>3</td>\n",
       "      <td>str</td>\n",
       "      <td>False</td>\n",
       "      <td>16</td>\n",
       "      <td>[,, sum, (]</td>\n",
       "      <td>[ws_ext_sales_price, cs_ext_sales_price]</td>\n",
       "      <td>False</td>\n",
       "      <td>[last, mode, first]</td>\n",
       "    </tr>\n",
       "    <tr>\n",
       "      <th>11</th>\n",
       "      <td>7c2f7377_41</td>\n",
       "      <td>7c2f7377_41</td>\n",
       "      <td>3</td>\n",
       "      <td>str</td>\n",
       "      <td>False</td>\n",
       "      <td>16</td>\n",
       "      <td>[(, sum, (]</td>\n",
       "      <td>[ws_ext_sales_price, cs_ext_sales_price]</td>\n",
       "      <td>False</td>\n",
       "      <td>[last, mode, first]</td>\n",
       "    </tr>\n",
       "    <tr>\n",
       "      <th>12</th>\n",
       "      <td>7c2f7377_53</td>\n",
       "      <td>7c2f7377_53</td>\n",
       "      <td>3</td>\n",
       "      <td>str</td>\n",
       "      <td>False</td>\n",
       "      <td>16</td>\n",
       "      <td>[as, revenueratio, from]</td>\n",
       "      <td>[web_sales, catalog_sales]</td>\n",
       "      <td>False</td>\n",
       "      <td>[last, mode, first]</td>\n",
       "    </tr>\n",
       "    <tr>\n",
       "      <th>13</th>\n",
       "      <td>7c2f7377_59</td>\n",
       "      <td>7c2f7377_59</td>\n",
       "      <td>3</td>\n",
       "      <td>str</td>\n",
       "      <td>False</td>\n",
       "      <td>16</td>\n",
       "      <td>[,, date_dim, where]</td>\n",
       "      <td>[ws_item_sk, cs_item_sk]</td>\n",
       "      <td>False</td>\n",
       "      <td>[last, mode, first]</td>\n",
       "    </tr>\n",
       "    <tr>\n",
       "      <th>14</th>\n",
       "      <td>7c2f7377_79</td>\n",
       "      <td>7c2f7377_79</td>\n",
       "      <td>3</td>\n",
       "      <td>str</td>\n",
       "      <td>False</td>\n",
       "      <td>16</td>\n",
       "      <td>[', ), and]</td>\n",
       "      <td>[ws_sold_date_sk, cs_sold_date_sk]</td>\n",
       "      <td>False</td>\n",
       "      <td>[last, mode, first]</td>\n",
       "    </tr>\n",
       "  </tbody>\n",
       "</table>\n",
       "</div>"
      ],
      "text/plain": [
       "           Name                   Tag  TagOrigin Type  IsUninteresting  Occurrences              Preceding 3 tokens                                                                                                                       Examples  From regex           Aggregates\n",
       "0      DateTime              DateTime          4  num            False         4687                              []  [2023-11-01 17:54:53.006, 2023-11-01 17:54:53.017, 2023-11-01 17:54:53.018, 2023-11-01 17:54:53.019, 2023-11-01 17:54:53.027]        True     [mean, max, min]\n",
       "1     sessionID             sessionID          4  str            False         4687                              []                                               [6542c92d.1f943, 6542d880.1fc1b, 6542e76c.1fe63, 6543018c.20227, 65431bc7.20615]        True              [first]\n",
       "2           tID                   tID          4  str             True         4687                              []                                                                                                [, 3/5183, 3/5184, 3/0, 3/5185]        True                   []\n",
       "3   7f9dd6da_22                  port          0  num            False            8            [127.0.0.1, port, =]                                                                                            [42396, 51214, 54898, 47566, 60122]       False     [mean, max, min]\n",
       "4   9213789e_11             statement          0  str            False         1552               [:, statement, :]                                                                                                                [BEGIN, COMMIT]       False  [last, mode, first]\n",
       "5   2dfe3d16_11              duration          0  num            False         2327                [:, duration, :]                                                                                            [0.076, 0.062, 0.030, 0.023, 0.044]       False     [mean, max, min]\n",
       "6   d046ac78_14  max_parallel_workers          0  num            False            8  [SET, max_parallel_workers, =]                                                                                                                         [1, 2]       False     [mean, max, min]\n",
       "7   0f62d144_15              work_mem          0  num            False            8                [work_mem, =, ']                                                                                                           [128.0, 64.0, 256.0]       False     [mean, max, min]\n",
       "8   7c2f7377_14              Filename          0  str            False           16               [--, Filename, :]                                                                                                   [query012.sql, query020.sql]       False  [last, mode, first]\n",
       "9   7c2f7377_28           7c2f7377_28          3  str            False           16                     [,, sum, (]                                                                                       [ws_ext_sales_price, cs_ext_sales_price]       False  [last, mode, first]\n",
       "10  7c2f7377_35           7c2f7377_35          3  str            False           16                     [,, sum, (]                                                                                       [ws_ext_sales_price, cs_ext_sales_price]       False  [last, mode, first]\n",
       "11  7c2f7377_41           7c2f7377_41          3  str            False           16                     [(, sum, (]                                                                                       [ws_ext_sales_price, cs_ext_sales_price]       False  [last, mode, first]\n",
       "12  7c2f7377_53           7c2f7377_53          3  str            False           16        [as, revenueratio, from]                                                                                                     [web_sales, catalog_sales]       False  [last, mode, first]\n",
       "13  7c2f7377_59           7c2f7377_59          3  str            False           16            [,, date_dim, where]                                                                                                       [ws_item_sk, cs_item_sk]       False  [last, mode, first]\n",
       "14  7c2f7377_79           7c2f7377_79          3  str            False           16                     [', ), and]                                                                                             [ws_sold_date_sk, cs_sold_date_sk]       False  [last, mode, first]"
      ]
     },
     "execution_count": 27,
     "metadata": {},
     "output_type": "execute_result"
    }
   ],
   "source": [
    "s2.parsed_variables.head(15)"
   ]
  },
  {
   "cell_type": "markdown",
   "metadata": {},
   "source": [
    "Now, the prepared log consists of one causal unit per run of the workload:"
   ]
  },
  {
   "cell_type": "code",
   "execution_count": 28,
   "metadata": {},
   "outputs": [
    {
     "data": {
      "text/html": [
       "<div>\n",
       "<style scoped>\n",
       "    .dataframe tbody tr th:only-of-type {\n",
       "        vertical-align: middle;\n",
       "    }\n",
       "\n",
       "    .dataframe tbody tr th {\n",
       "        vertical-align: top;\n",
       "    }\n",
       "\n",
       "    .dataframe thead th {\n",
       "        text-align: right;\n",
       "    }\n",
       "</style>\n",
       "<table border=\"1\" class=\"dataframe\">\n",
       "  <thead>\n",
       "    <tr style=\"text-align: right;\">\n",
       "      <th></th>\n",
       "      <th>DateTime+mean</th>\n",
       "      <th>7f9dd6da_22+mean</th>\n",
       "      <th>2dfe3d16_11+mean</th>\n",
       "      <th>d046ac78_14+mean</th>\n",
       "      <th>0f62d144_15+mean</th>\n",
       "      <th>2c402162_13+mean</th>\n",
       "      <th>2c402162_25+mean</th>\n",
       "      <th>9213789e_11+last=COMMIT</th>\n",
       "      <th>7c2f7377_14+last=query020.sql</th>\n",
       "      <th>7c2f7377_28+last=cs_ext_sales_price</th>\n",
       "      <th>7c2f7377_35+last=cs_ext_sales_price</th>\n",
       "      <th>7c2f7377_41+last=cs_ext_sales_price</th>\n",
       "      <th>7c2f7377_53+last=catalog_sales</th>\n",
       "      <th>7c2f7377_59+last=cs_item_sk</th>\n",
       "      <th>7c2f7377_79+last=cs_sold_date_sk</th>\n",
       "      <th>3e3b083e_14+last=query053.sql</th>\n",
       "      <th>3e3b083e_20+last=i_manufact_id</th>\n",
       "      <th>3e3b083e_39+last=i_manufact_id</th>\n",
       "      <th>3e3b083e_41+last=avg_quarterly_sales</th>\n",
       "      <th>3e3b083e_219+last=i_manufact_id</th>\n",
       "      <th>3e3b083e_221+last=d_qoy</th>\n",
       "      <th>3e3b083e_227+last=avg_quarterly_sales</th>\n",
       "      <th>3e3b083e_235+last=avg_quarterly_sales</th>\n",
       "      <th>3e3b083e_238+last=avg_quarterly_sales</th>\n",
       "      <th>3e3b083e_246+last=avg_quarterly_sales</th>\n",
       "      <th>3e3b083e_248+last=sum_sales</th>\n",
       "      <th>3e3b083e_250+last=i_manufact_id</th>\n",
       "      <th>a092a92c_14+last=query026.sql</th>\n",
       "      <th>a092a92c_20+last=cs_quantity</th>\n",
       "      <th>a092a92c_26+last=cs_list_price</th>\n",
       "      <th>a092a92c_32+last=cs_coupon_amt</th>\n",
       "      <th>a092a92c_38+last=cs_sales_price</th>\n",
       "      <th>a092a92c_42+last=catalog_sales</th>\n",
       "      <th>a092a92c_52+last=cs_sold_date_sk</th>\n",
       "      <th>a092a92c_56+last=cs_item_sk</th>\n",
       "      <th>a092a92c_60+last=cs_bill_cdemo_sk</th>\n",
       "      <th>a092a92c_64+last=cs_promo_sk</th>\n",
       "      <th>c1dbe68b_14+last=query099.sql</th>\n",
       "      <th>c1dbe68b_27+last=cc_name</th>\n",
       "      <th>c1dbe68b_34+last=cs_ship_date_sk</th>\n",
       "      <th>c1dbe68b_36+last=cs_sold_date_sk</th>\n",
       "      <th>c1dbe68b_58+last=cs_ship_date_sk</th>\n",
       "      <th>c1dbe68b_60+last=cs_sold_date_sk</th>\n",
       "      <th>c1dbe68b_66+last=cs_ship_date_sk</th>\n",
       "      <th>c1dbe68b_68+last=cs_sold_date_sk</th>\n",
       "      <th>c1dbe68b_90+last=cs_ship_date_sk</th>\n",
       "      <th>c1dbe68b_92+last=cs_sold_date_sk</th>\n",
       "      <th>c1dbe68b_98+last=cs_ship_date_sk</th>\n",
       "      <th>c1dbe68b_100+last=cs_sold_date_sk</th>\n",
       "      <th>c1dbe68b_122+last=cs_ship_date_sk</th>\n",
       "      <th>c1dbe68b_124+last=cs_sold_date_sk</th>\n",
       "      <th>c1dbe68b_130+last=cs_ship_date_sk</th>\n",
       "      <th>c1dbe68b_132+last=cs_sold_date_sk</th>\n",
       "      <th>c1dbe68b_154+last=cs_ship_date_sk</th>\n",
       "      <th>c1dbe68b_156+last=cs_sold_date_sk</th>\n",
       "      <th>c1dbe68b_172+last=catalog_sales</th>\n",
       "      <th>c1dbe68b_178+last=call_center</th>\n",
       "      <th>c1dbe68b_190+last=cs_ship_date_sk</th>\n",
       "      <th>c1dbe68b_194+last=cs_warehouse_sk</th>\n",
       "      <th>c1dbe68b_198+last=cs_ship_mode_sk</th>\n",
       "      <th>c1dbe68b_202+last=cs_call_center_sk</th>\n",
       "      <th>c1dbe68b_204+last=cc_call_center_sk</th>\n",
       "      <th>c1dbe68b_218+last=cc_name</th>\n",
       "      <th>c1dbe68b_232+last=cc_name</th>\n",
       "    </tr>\n",
       "    <tr>\n",
       "      <th>sessionID+first</th>\n",
       "      <th></th>\n",
       "      <th></th>\n",
       "      <th></th>\n",
       "      <th></th>\n",
       "      <th></th>\n",
       "      <th></th>\n",
       "      <th></th>\n",
       "      <th></th>\n",
       "      <th></th>\n",
       "      <th></th>\n",
       "      <th></th>\n",
       "      <th></th>\n",
       "      <th></th>\n",
       "      <th></th>\n",
       "      <th></th>\n",
       "      <th></th>\n",
       "      <th></th>\n",
       "      <th></th>\n",
       "      <th></th>\n",
       "      <th></th>\n",
       "      <th></th>\n",
       "      <th></th>\n",
       "      <th></th>\n",
       "      <th></th>\n",
       "      <th></th>\n",
       "      <th></th>\n",
       "      <th></th>\n",
       "      <th></th>\n",
       "      <th></th>\n",
       "      <th></th>\n",
       "      <th></th>\n",
       "      <th></th>\n",
       "      <th></th>\n",
       "      <th></th>\n",
       "      <th></th>\n",
       "      <th></th>\n",
       "      <th></th>\n",
       "      <th></th>\n",
       "      <th></th>\n",
       "      <th></th>\n",
       "      <th></th>\n",
       "      <th></th>\n",
       "      <th></th>\n",
       "      <th></th>\n",
       "      <th></th>\n",
       "      <th></th>\n",
       "      <th></th>\n",
       "      <th></th>\n",
       "      <th></th>\n",
       "      <th></th>\n",
       "      <th></th>\n",
       "      <th></th>\n",
       "      <th></th>\n",
       "      <th></th>\n",
       "      <th></th>\n",
       "      <th></th>\n",
       "      <th></th>\n",
       "      <th></th>\n",
       "      <th></th>\n",
       "      <th></th>\n",
       "      <th></th>\n",
       "      <th></th>\n",
       "      <th></th>\n",
       "      <th></th>\n",
       "    </tr>\n",
       "  </thead>\n",
       "  <tbody>\n",
       "    <tr>\n",
       "      <th>6542c92d.1f943</th>\n",
       "      <td>1.698863e+09</td>\n",
       "      <td>42396.0</td>\n",
       "      <td>13483.595990</td>\n",
       "      <td>1.0</td>\n",
       "      <td>128.0</td>\n",
       "      <td>3923.846</td>\n",
       "      <td>42396.0</td>\n",
       "      <td>1</td>\n",
       "      <td>1</td>\n",
       "      <td>1</td>\n",
       "      <td>1</td>\n",
       "      <td>1</td>\n",
       "      <td>1</td>\n",
       "      <td>1</td>\n",
       "      <td>1</td>\n",
       "      <td>1</td>\n",
       "      <td>1</td>\n",
       "      <td>1</td>\n",
       "      <td>1</td>\n",
       "      <td>1</td>\n",
       "      <td>1</td>\n",
       "      <td>1</td>\n",
       "      <td>1</td>\n",
       "      <td>1</td>\n",
       "      <td>1</td>\n",
       "      <td>1</td>\n",
       "      <td>1</td>\n",
       "      <td>1</td>\n",
       "      <td>1</td>\n",
       "      <td>1</td>\n",
       "      <td>1</td>\n",
       "      <td>1</td>\n",
       "      <td>1</td>\n",
       "      <td>1</td>\n",
       "      <td>1</td>\n",
       "      <td>1</td>\n",
       "      <td>1</td>\n",
       "      <td>1</td>\n",
       "      <td>1</td>\n",
       "      <td>1</td>\n",
       "      <td>1</td>\n",
       "      <td>1</td>\n",
       "      <td>1</td>\n",
       "      <td>1</td>\n",
       "      <td>1</td>\n",
       "      <td>1</td>\n",
       "      <td>1</td>\n",
       "      <td>1</td>\n",
       "      <td>1</td>\n",
       "      <td>1</td>\n",
       "      <td>1</td>\n",
       "      <td>1</td>\n",
       "      <td>1</td>\n",
       "      <td>1</td>\n",
       "      <td>1</td>\n",
       "      <td>1</td>\n",
       "      <td>1</td>\n",
       "      <td>1</td>\n",
       "      <td>1</td>\n",
       "      <td>1</td>\n",
       "      <td>1</td>\n",
       "      <td>1</td>\n",
       "      <td>1</td>\n",
       "      <td>1</td>\n",
       "    </tr>\n",
       "    <tr>\n",
       "      <th>6542d880.1fc1b</th>\n",
       "      <td>1.698867e+09</td>\n",
       "      <td>51214.0</td>\n",
       "      <td>13126.180309</td>\n",
       "      <td>1.0</td>\n",
       "      <td>128.0</td>\n",
       "      <td>3819.821</td>\n",
       "      <td>51214.0</td>\n",
       "      <td>1</td>\n",
       "      <td>1</td>\n",
       "      <td>1</td>\n",
       "      <td>1</td>\n",
       "      <td>1</td>\n",
       "      <td>1</td>\n",
       "      <td>1</td>\n",
       "      <td>1</td>\n",
       "      <td>1</td>\n",
       "      <td>1</td>\n",
       "      <td>1</td>\n",
       "      <td>1</td>\n",
       "      <td>1</td>\n",
       "      <td>1</td>\n",
       "      <td>1</td>\n",
       "      <td>1</td>\n",
       "      <td>1</td>\n",
       "      <td>1</td>\n",
       "      <td>1</td>\n",
       "      <td>1</td>\n",
       "      <td>1</td>\n",
       "      <td>1</td>\n",
       "      <td>1</td>\n",
       "      <td>1</td>\n",
       "      <td>1</td>\n",
       "      <td>1</td>\n",
       "      <td>1</td>\n",
       "      <td>1</td>\n",
       "      <td>1</td>\n",
       "      <td>1</td>\n",
       "      <td>1</td>\n",
       "      <td>1</td>\n",
       "      <td>1</td>\n",
       "      <td>1</td>\n",
       "      <td>1</td>\n",
       "      <td>1</td>\n",
       "      <td>1</td>\n",
       "      <td>1</td>\n",
       "      <td>1</td>\n",
       "      <td>1</td>\n",
       "      <td>1</td>\n",
       "      <td>1</td>\n",
       "      <td>1</td>\n",
       "      <td>1</td>\n",
       "      <td>1</td>\n",
       "      <td>1</td>\n",
       "      <td>1</td>\n",
       "      <td>1</td>\n",
       "      <td>1</td>\n",
       "      <td>1</td>\n",
       "      <td>1</td>\n",
       "      <td>1</td>\n",
       "      <td>1</td>\n",
       "      <td>1</td>\n",
       "      <td>1</td>\n",
       "      <td>1</td>\n",
       "      <td>1</td>\n",
       "    </tr>\n",
       "    <tr>\n",
       "      <th>6542e76c.1fe63</th>\n",
       "      <td>1.698872e+09</td>\n",
       "      <td>54898.0</td>\n",
       "      <td>22983.408399</td>\n",
       "      <td>2.0</td>\n",
       "      <td>64.0</td>\n",
       "      <td>6688.275</td>\n",
       "      <td>54898.0</td>\n",
       "      <td>1</td>\n",
       "      <td>1</td>\n",
       "      <td>1</td>\n",
       "      <td>1</td>\n",
       "      <td>1</td>\n",
       "      <td>1</td>\n",
       "      <td>1</td>\n",
       "      <td>1</td>\n",
       "      <td>1</td>\n",
       "      <td>1</td>\n",
       "      <td>1</td>\n",
       "      <td>1</td>\n",
       "      <td>1</td>\n",
       "      <td>1</td>\n",
       "      <td>1</td>\n",
       "      <td>1</td>\n",
       "      <td>1</td>\n",
       "      <td>1</td>\n",
       "      <td>1</td>\n",
       "      <td>1</td>\n",
       "      <td>1</td>\n",
       "      <td>1</td>\n",
       "      <td>1</td>\n",
       "      <td>1</td>\n",
       "      <td>1</td>\n",
       "      <td>1</td>\n",
       "      <td>1</td>\n",
       "      <td>1</td>\n",
       "      <td>1</td>\n",
       "      <td>1</td>\n",
       "      <td>1</td>\n",
       "      <td>1</td>\n",
       "      <td>1</td>\n",
       "      <td>1</td>\n",
       "      <td>1</td>\n",
       "      <td>1</td>\n",
       "      <td>1</td>\n",
       "      <td>1</td>\n",
       "      <td>1</td>\n",
       "      <td>1</td>\n",
       "      <td>1</td>\n",
       "      <td>1</td>\n",
       "      <td>1</td>\n",
       "      <td>1</td>\n",
       "      <td>1</td>\n",
       "      <td>1</td>\n",
       "      <td>1</td>\n",
       "      <td>1</td>\n",
       "      <td>1</td>\n",
       "      <td>1</td>\n",
       "      <td>1</td>\n",
       "      <td>1</td>\n",
       "      <td>1</td>\n",
       "      <td>1</td>\n",
       "      <td>1</td>\n",
       "      <td>1</td>\n",
       "      <td>1</td>\n",
       "    </tr>\n",
       "    <tr>\n",
       "      <th>6543018c.20227</th>\n",
       "      <td>1.698879e+09</td>\n",
       "      <td>47566.0</td>\n",
       "      <td>23075.070997</td>\n",
       "      <td>2.0</td>\n",
       "      <td>64.0</td>\n",
       "      <td>6714.950</td>\n",
       "      <td>47566.0</td>\n",
       "      <td>1</td>\n",
       "      <td>1</td>\n",
       "      <td>1</td>\n",
       "      <td>1</td>\n",
       "      <td>1</td>\n",
       "      <td>1</td>\n",
       "      <td>1</td>\n",
       "      <td>1</td>\n",
       "      <td>1</td>\n",
       "      <td>1</td>\n",
       "      <td>1</td>\n",
       "      <td>1</td>\n",
       "      <td>1</td>\n",
       "      <td>1</td>\n",
       "      <td>1</td>\n",
       "      <td>1</td>\n",
       "      <td>1</td>\n",
       "      <td>1</td>\n",
       "      <td>1</td>\n",
       "      <td>1</td>\n",
       "      <td>1</td>\n",
       "      <td>1</td>\n",
       "      <td>1</td>\n",
       "      <td>1</td>\n",
       "      <td>1</td>\n",
       "      <td>1</td>\n",
       "      <td>1</td>\n",
       "      <td>1</td>\n",
       "      <td>1</td>\n",
       "      <td>1</td>\n",
       "      <td>1</td>\n",
       "      <td>1</td>\n",
       "      <td>1</td>\n",
       "      <td>1</td>\n",
       "      <td>1</td>\n",
       "      <td>1</td>\n",
       "      <td>1</td>\n",
       "      <td>1</td>\n",
       "      <td>1</td>\n",
       "      <td>1</td>\n",
       "      <td>1</td>\n",
       "      <td>1</td>\n",
       "      <td>1</td>\n",
       "      <td>1</td>\n",
       "      <td>1</td>\n",
       "      <td>1</td>\n",
       "      <td>1</td>\n",
       "      <td>1</td>\n",
       "      <td>1</td>\n",
       "      <td>1</td>\n",
       "      <td>1</td>\n",
       "      <td>1</td>\n",
       "      <td>1</td>\n",
       "      <td>1</td>\n",
       "      <td>1</td>\n",
       "      <td>1</td>\n",
       "      <td>1</td>\n",
       "    </tr>\n",
       "    <tr>\n",
       "      <th>65431bc7.20615</th>\n",
       "      <td>1.698883e+09</td>\n",
       "      <td>60122.0</td>\n",
       "      <td>2707.956093</td>\n",
       "      <td>1.0</td>\n",
       "      <td>256.0</td>\n",
       "      <td>808.713</td>\n",
       "      <td>60122.0</td>\n",
       "      <td>1</td>\n",
       "      <td>1</td>\n",
       "      <td>1</td>\n",
       "      <td>1</td>\n",
       "      <td>1</td>\n",
       "      <td>1</td>\n",
       "      <td>1</td>\n",
       "      <td>1</td>\n",
       "      <td>1</td>\n",
       "      <td>1</td>\n",
       "      <td>1</td>\n",
       "      <td>1</td>\n",
       "      <td>1</td>\n",
       "      <td>1</td>\n",
       "      <td>1</td>\n",
       "      <td>1</td>\n",
       "      <td>1</td>\n",
       "      <td>1</td>\n",
       "      <td>1</td>\n",
       "      <td>1</td>\n",
       "      <td>1</td>\n",
       "      <td>1</td>\n",
       "      <td>1</td>\n",
       "      <td>1</td>\n",
       "      <td>1</td>\n",
       "      <td>1</td>\n",
       "      <td>1</td>\n",
       "      <td>1</td>\n",
       "      <td>1</td>\n",
       "      <td>1</td>\n",
       "      <td>1</td>\n",
       "      <td>1</td>\n",
       "      <td>1</td>\n",
       "      <td>1</td>\n",
       "      <td>1</td>\n",
       "      <td>1</td>\n",
       "      <td>1</td>\n",
       "      <td>1</td>\n",
       "      <td>1</td>\n",
       "      <td>1</td>\n",
       "      <td>1</td>\n",
       "      <td>1</td>\n",
       "      <td>1</td>\n",
       "      <td>1</td>\n",
       "      <td>1</td>\n",
       "      <td>1</td>\n",
       "      <td>1</td>\n",
       "      <td>1</td>\n",
       "      <td>1</td>\n",
       "      <td>1</td>\n",
       "      <td>1</td>\n",
       "      <td>1</td>\n",
       "      <td>1</td>\n",
       "      <td>1</td>\n",
       "      <td>1</td>\n",
       "      <td>1</td>\n",
       "      <td>1</td>\n",
       "    </tr>\n",
       "    <tr>\n",
       "      <th>65431ef0.2073a</th>\n",
       "      <td>1.698884e+09</td>\n",
       "      <td>47102.0</td>\n",
       "      <td>2781.880526</td>\n",
       "      <td>1.0</td>\n",
       "      <td>256.0</td>\n",
       "      <td>809.632</td>\n",
       "      <td>47102.0</td>\n",
       "      <td>1</td>\n",
       "      <td>1</td>\n",
       "      <td>1</td>\n",
       "      <td>1</td>\n",
       "      <td>1</td>\n",
       "      <td>1</td>\n",
       "      <td>1</td>\n",
       "      <td>1</td>\n",
       "      <td>1</td>\n",
       "      <td>1</td>\n",
       "      <td>1</td>\n",
       "      <td>1</td>\n",
       "      <td>1</td>\n",
       "      <td>1</td>\n",
       "      <td>1</td>\n",
       "      <td>1</td>\n",
       "      <td>1</td>\n",
       "      <td>1</td>\n",
       "      <td>1</td>\n",
       "      <td>1</td>\n",
       "      <td>1</td>\n",
       "      <td>1</td>\n",
       "      <td>1</td>\n",
       "      <td>1</td>\n",
       "      <td>1</td>\n",
       "      <td>1</td>\n",
       "      <td>1</td>\n",
       "      <td>1</td>\n",
       "      <td>1</td>\n",
       "      <td>1</td>\n",
       "      <td>1</td>\n",
       "      <td>1</td>\n",
       "      <td>1</td>\n",
       "      <td>1</td>\n",
       "      <td>1</td>\n",
       "      <td>1</td>\n",
       "      <td>1</td>\n",
       "      <td>1</td>\n",
       "      <td>1</td>\n",
       "      <td>1</td>\n",
       "      <td>1</td>\n",
       "      <td>1</td>\n",
       "      <td>1</td>\n",
       "      <td>1</td>\n",
       "      <td>1</td>\n",
       "      <td>1</td>\n",
       "      <td>1</td>\n",
       "      <td>1</td>\n",
       "      <td>1</td>\n",
       "      <td>1</td>\n",
       "      <td>1</td>\n",
       "      <td>1</td>\n",
       "      <td>1</td>\n",
       "      <td>1</td>\n",
       "      <td>1</td>\n",
       "      <td>1</td>\n",
       "      <td>1</td>\n",
       "    </tr>\n",
       "    <tr>\n",
       "      <th>6543221a.2085f</th>\n",
       "      <td>1.698886e+09</td>\n",
       "      <td>43972.0</td>\n",
       "      <td>13000.099663</td>\n",
       "      <td>2.0</td>\n",
       "      <td>128.0</td>\n",
       "      <td>3783.136</td>\n",
       "      <td>43972.0</td>\n",
       "      <td>1</td>\n",
       "      <td>1</td>\n",
       "      <td>1</td>\n",
       "      <td>1</td>\n",
       "      <td>1</td>\n",
       "      <td>1</td>\n",
       "      <td>1</td>\n",
       "      <td>1</td>\n",
       "      <td>1</td>\n",
       "      <td>1</td>\n",
       "      <td>1</td>\n",
       "      <td>1</td>\n",
       "      <td>1</td>\n",
       "      <td>1</td>\n",
       "      <td>1</td>\n",
       "      <td>1</td>\n",
       "      <td>1</td>\n",
       "      <td>1</td>\n",
       "      <td>1</td>\n",
       "      <td>1</td>\n",
       "      <td>1</td>\n",
       "      <td>1</td>\n",
       "      <td>1</td>\n",
       "      <td>1</td>\n",
       "      <td>1</td>\n",
       "      <td>1</td>\n",
       "      <td>1</td>\n",
       "      <td>1</td>\n",
       "      <td>1</td>\n",
       "      <td>1</td>\n",
       "      <td>1</td>\n",
       "      <td>1</td>\n",
       "      <td>1</td>\n",
       "      <td>1</td>\n",
       "      <td>1</td>\n",
       "      <td>1</td>\n",
       "      <td>1</td>\n",
       "      <td>1</td>\n",
       "      <td>1</td>\n",
       "      <td>1</td>\n",
       "      <td>1</td>\n",
       "      <td>1</td>\n",
       "      <td>1</td>\n",
       "      <td>1</td>\n",
       "      <td>1</td>\n",
       "      <td>1</td>\n",
       "      <td>1</td>\n",
       "      <td>1</td>\n",
       "      <td>1</td>\n",
       "      <td>1</td>\n",
       "      <td>1</td>\n",
       "      <td>1</td>\n",
       "      <td>1</td>\n",
       "      <td>1</td>\n",
       "      <td>1</td>\n",
       "      <td>1</td>\n",
       "      <td>1</td>\n",
       "    </tr>\n",
       "    <tr>\n",
       "      <th>654330e1.20b8f</th>\n",
       "      <td>1.698890e+09</td>\n",
       "      <td>37380.0</td>\n",
       "      <td>13005.023144</td>\n",
       "      <td>2.0</td>\n",
       "      <td>128.0</td>\n",
       "      <td>3784.566</td>\n",
       "      <td>37380.0</td>\n",
       "      <td>1</td>\n",
       "      <td>1</td>\n",
       "      <td>1</td>\n",
       "      <td>1</td>\n",
       "      <td>1</td>\n",
       "      <td>1</td>\n",
       "      <td>1</td>\n",
       "      <td>1</td>\n",
       "      <td>1</td>\n",
       "      <td>1</td>\n",
       "      <td>1</td>\n",
       "      <td>1</td>\n",
       "      <td>1</td>\n",
       "      <td>1</td>\n",
       "      <td>1</td>\n",
       "      <td>1</td>\n",
       "      <td>1</td>\n",
       "      <td>1</td>\n",
       "      <td>1</td>\n",
       "      <td>1</td>\n",
       "      <td>1</td>\n",
       "      <td>1</td>\n",
       "      <td>1</td>\n",
       "      <td>1</td>\n",
       "      <td>1</td>\n",
       "      <td>1</td>\n",
       "      <td>1</td>\n",
       "      <td>1</td>\n",
       "      <td>1</td>\n",
       "      <td>1</td>\n",
       "      <td>1</td>\n",
       "      <td>1</td>\n",
       "      <td>1</td>\n",
       "      <td>1</td>\n",
       "      <td>1</td>\n",
       "      <td>1</td>\n",
       "      <td>1</td>\n",
       "      <td>1</td>\n",
       "      <td>1</td>\n",
       "      <td>1</td>\n",
       "      <td>1</td>\n",
       "      <td>1</td>\n",
       "      <td>1</td>\n",
       "      <td>1</td>\n",
       "      <td>1</td>\n",
       "      <td>1</td>\n",
       "      <td>1</td>\n",
       "      <td>1</td>\n",
       "      <td>1</td>\n",
       "      <td>1</td>\n",
       "      <td>1</td>\n",
       "      <td>1</td>\n",
       "      <td>1</td>\n",
       "      <td>1</td>\n",
       "      <td>1</td>\n",
       "      <td>1</td>\n",
       "      <td>1</td>\n",
       "    </tr>\n",
       "  </tbody>\n",
       "</table>\n",
       "</div>"
      ],
      "text/plain": [
       "                 DateTime+mean  7f9dd6da_22+mean  2dfe3d16_11+mean  d046ac78_14+mean  0f62d144_15+mean  2c402162_13+mean  2c402162_25+mean  9213789e_11+last=COMMIT  7c2f7377_14+last=query020.sql  7c2f7377_28+last=cs_ext_sales_price  7c2f7377_35+last=cs_ext_sales_price  7c2f7377_41+last=cs_ext_sales_price  7c2f7377_53+last=catalog_sales  7c2f7377_59+last=cs_item_sk  7c2f7377_79+last=cs_sold_date_sk  3e3b083e_14+last=query053.sql  3e3b083e_20+last=i_manufact_id  3e3b083e_39+last=i_manufact_id  3e3b083e_41+last=avg_quarterly_sales  3e3b083e_219+last=i_manufact_id  3e3b083e_221+last=d_qoy  3e3b083e_227+last=avg_quarterly_sales  3e3b083e_235+last=avg_quarterly_sales  3e3b083e_238+last=avg_quarterly_sales  3e3b083e_246+last=avg_quarterly_sales  3e3b083e_248+last=sum_sales  3e3b083e_250+last=i_manufact_id  a092a92c_14+last=query026.sql  a092a92c_20+last=cs_quantity  a092a92c_26+last=cs_list_price  a092a92c_32+last=cs_coupon_amt  a092a92c_38+last=cs_sales_price  a092a92c_42+last=catalog_sales  a092a92c_52+last=cs_sold_date_sk  a092a92c_56+last=cs_item_sk  a092a92c_60+last=cs_bill_cdemo_sk  a092a92c_64+last=cs_promo_sk  c1dbe68b_14+last=query099.sql  c1dbe68b_27+last=cc_name  c1dbe68b_34+last=cs_ship_date_sk  c1dbe68b_36+last=cs_sold_date_sk  c1dbe68b_58+last=cs_ship_date_sk  c1dbe68b_60+last=cs_sold_date_sk  c1dbe68b_66+last=cs_ship_date_sk  c1dbe68b_68+last=cs_sold_date_sk  c1dbe68b_90+last=cs_ship_date_sk  c1dbe68b_92+last=cs_sold_date_sk  c1dbe68b_98+last=cs_ship_date_sk  c1dbe68b_100+last=cs_sold_date_sk  c1dbe68b_122+last=cs_ship_date_sk  c1dbe68b_124+last=cs_sold_date_sk  c1dbe68b_130+last=cs_ship_date_sk  c1dbe68b_132+last=cs_sold_date_sk  c1dbe68b_154+last=cs_ship_date_sk  c1dbe68b_156+last=cs_sold_date_sk  c1dbe68b_172+last=catalog_sales  c1dbe68b_178+last=call_center  c1dbe68b_190+last=cs_ship_date_sk  c1dbe68b_194+last=cs_warehouse_sk  c1dbe68b_198+last=cs_ship_mode_sk  c1dbe68b_202+last=cs_call_center_sk  c1dbe68b_204+last=cc_call_center_sk  c1dbe68b_218+last=cc_name  c1dbe68b_232+last=cc_name\n",
       "sessionID+first                                                                                                                                                                                                                                                                                                                                                                                                                                                                                                                                                                                                                                                                                                                                                                                                                                                                                                                                                                                                                                                                                                                                                                                                                                                                                                                                                                                                                                                                                                                                                                                                                                                                                                                                                                                                                                                                                                                                                                                                                                                                                                 \n",
       "6542c92d.1f943    1.698863e+09           42396.0      13483.595990               1.0             128.0          3923.846           42396.0                        1                              1                                    1                                    1                                    1                               1                            1                                 1                              1                               1                               1                                     1                                1                        1                                      1                                      1                                      1                                      1                            1                                1                              1                             1                               1                               1                                1                               1                                 1                            1                                  1                             1                              1                         1                                 1                                 1                                 1                                 1                                 1                                 1                                 1                                 1                                 1                                  1                                  1                                  1                                  1                                  1                                  1                                  1                                1                              1                                  1                                  1                                  1                                    1                                    1                          1                          1\n",
       "6542d880.1fc1b    1.698867e+09           51214.0      13126.180309               1.0             128.0          3819.821           51214.0                        1                              1                                    1                                    1                                    1                               1                            1                                 1                              1                               1                               1                                     1                                1                        1                                      1                                      1                                      1                                      1                            1                                1                              1                             1                               1                               1                                1                               1                                 1                            1                                  1                             1                              1                         1                                 1                                 1                                 1                                 1                                 1                                 1                                 1                                 1                                 1                                  1                                  1                                  1                                  1                                  1                                  1                                  1                                1                              1                                  1                                  1                                  1                                    1                                    1                          1                          1\n",
       "6542e76c.1fe63    1.698872e+09           54898.0      22983.408399               2.0              64.0          6688.275           54898.0                        1                              1                                    1                                    1                                    1                               1                            1                                 1                              1                               1                               1                                     1                                1                        1                                      1                                      1                                      1                                      1                            1                                1                              1                             1                               1                               1                                1                               1                                 1                            1                                  1                             1                              1                         1                                 1                                 1                                 1                                 1                                 1                                 1                                 1                                 1                                 1                                  1                                  1                                  1                                  1                                  1                                  1                                  1                                1                              1                                  1                                  1                                  1                                    1                                    1                          1                          1\n",
       "6543018c.20227    1.698879e+09           47566.0      23075.070997               2.0              64.0          6714.950           47566.0                        1                              1                                    1                                    1                                    1                               1                            1                                 1                              1                               1                               1                                     1                                1                        1                                      1                                      1                                      1                                      1                            1                                1                              1                             1                               1                               1                                1                               1                                 1                            1                                  1                             1                              1                         1                                 1                                 1                                 1                                 1                                 1                                 1                                 1                                 1                                 1                                  1                                  1                                  1                                  1                                  1                                  1                                  1                                1                              1                                  1                                  1                                  1                                    1                                    1                          1                          1\n",
       "65431bc7.20615    1.698883e+09           60122.0       2707.956093               1.0             256.0           808.713           60122.0                        1                              1                                    1                                    1                                    1                               1                            1                                 1                              1                               1                               1                                     1                                1                        1                                      1                                      1                                      1                                      1                            1                                1                              1                             1                               1                               1                                1                               1                                 1                            1                                  1                             1                              1                         1                                 1                                 1                                 1                                 1                                 1                                 1                                 1                                 1                                 1                                  1                                  1                                  1                                  1                                  1                                  1                                  1                                1                              1                                  1                                  1                                  1                                    1                                    1                          1                          1\n",
       "65431ef0.2073a    1.698884e+09           47102.0       2781.880526               1.0             256.0           809.632           47102.0                        1                              1                                    1                                    1                                    1                               1                            1                                 1                              1                               1                               1                                     1                                1                        1                                      1                                      1                                      1                                      1                            1                                1                              1                             1                               1                               1                                1                               1                                 1                            1                                  1                             1                              1                         1                                 1                                 1                                 1                                 1                                 1                                 1                                 1                                 1                                 1                                  1                                  1                                  1                                  1                                  1                                  1                                  1                                1                              1                                  1                                  1                                  1                                    1                                    1                          1                          1\n",
       "6543221a.2085f    1.698886e+09           43972.0      13000.099663               2.0             128.0          3783.136           43972.0                        1                              1                                    1                                    1                                    1                               1                            1                                 1                              1                               1                               1                                     1                                1                        1                                      1                                      1                                      1                                      1                            1                                1                              1                             1                               1                               1                                1                               1                                 1                            1                                  1                             1                              1                         1                                 1                                 1                                 1                                 1                                 1                                 1                                 1                                 1                                 1                                  1                                  1                                  1                                  1                                  1                                  1                                  1                                1                              1                                  1                                  1                                  1                                    1                                    1                          1                          1\n",
       "654330e1.20b8f    1.698890e+09           37380.0      13005.023144               2.0             128.0          3784.566           37380.0                        1                              1                                    1                                    1                                    1                               1                            1                                 1                              1                               1                               1                                     1                                1                        1                                      1                                      1                                      1                                      1                            1                                1                              1                             1                               1                               1                                1                               1                                 1                            1                                  1                             1                              1                         1                                 1                                 1                                 1                                 1                                 1                                 1                                 1                                 1                                 1                                  1                                  1                                  1                                  1                                  1                                  1                                  1                                1                              1                                  1                                  1                                  1                                    1                                    1                          1                          1"
      ]
     },
     "execution_count": 28,
     "metadata": {},
     "output_type": "execute_result"
    }
   ],
   "source": [
    "s2.prepared_log "
   ]
  },
  {
   "cell_type": "markdown",
   "metadata": {},
   "source": [
    "We ask for candidate causes of query duration:"
   ]
  },
  {
   "cell_type": "code",
   "execution_count": 29,
   "metadata": {},
   "outputs": [
    {
     "name": "stdout",
     "output_type": "stream",
     "text": [
      "Candidate cause exploration complete in 0.860969 seconds!\n"
     ]
    },
    {
     "data": {
      "text/plain": [
       "(          Candidate              Candidate Tag            Target        Slope       P-value Candidate->Target Edge Status Target->Candidate Edge Status\n",
       " 0  2c402162_13+mean                  time mean  2dfe3d16_11+mean     3.442502  1.331652e-16                     Undecided                     Undecided\n",
       " 1  0f62d144_15+mean              work_mem mean  2dfe3d16_11+mean  -100.525674  2.900467e-05                     Undecided                     Undecided\n",
       " 2  d046ac78_14+mean  max_parallel_workers mean  2dfe3d16_11+mean  9990.997321  5.504147e-02                     Undecided                     Undecided\n",
       " 3     DateTime+mean              DateTime mean  2dfe3d16_11+mean    -0.259903  4.372292e-01                     Undecided                     Undecided\n",
       " 4  7f9dd6da_22+mean                  port mean  2dfe3d16_11+mean    -0.145989  7.450969e-01                     Undecided                      Rejected\n",
       " 5  2c402162_25+mean           2c402162_25 mean  2dfe3d16_11+mean    -0.145989  7.450969e-01                     Undecided                      Rejected,\n",
       " '0.860969')"
      ]
     },
     "execution_count": 29,
     "metadata": {},
     "output_type": "execute_result"
    }
   ],
   "source": [
    "s2.explore_candidate_causes(\"duration mean\")"
   ]
  },
  {
   "cell_type": "markdown",
   "metadata": {},
   "source": [
    "Let's learn more about some of the top candidate causes:"
   ]
  },
  {
   "cell_type": "code",
   "execution_count": 30,
   "metadata": {},
   "outputs": [
    {
     "name": "stdout",
     "output_type": "stream",
     "text": [
      "Information about prepared variable 0f62d144_15+mean:\n",
      "\n",
      "--> Variable Information about 0f62d144_15:\n"
     ]
    },
    {
     "data": {
      "text/html": [
       "<div>\n",
       "<style scoped>\n",
       "    .dataframe tbody tr th:only-of-type {\n",
       "        vertical-align: middle;\n",
       "    }\n",
       "\n",
       "    .dataframe tbody tr th {\n",
       "        vertical-align: top;\n",
       "    }\n",
       "\n",
       "    .dataframe thead th {\n",
       "        text-align: right;\n",
       "    }\n",
       "</style>\n",
       "<table border=\"1\" class=\"dataframe\">\n",
       "  <thead>\n",
       "    <tr style=\"text-align: right;\">\n",
       "      <th></th>\n",
       "      <th>Name</th>\n",
       "      <th>Tag</th>\n",
       "      <th>TagOrigin</th>\n",
       "      <th>Type</th>\n",
       "      <th>IsUninteresting</th>\n",
       "      <th>Occurrences</th>\n",
       "      <th>Preceding 3 tokens</th>\n",
       "      <th>Examples</th>\n",
       "      <th>From regex</th>\n",
       "      <th>Aggregates</th>\n",
       "    </tr>\n",
       "  </thead>\n",
       "  <tbody>\n",
       "    <tr>\n",
       "      <th>7</th>\n",
       "      <td>0f62d144_15</td>\n",
       "      <td>work_mem</td>\n",
       "      <td>0</td>\n",
       "      <td>num</td>\n",
       "      <td>False</td>\n",
       "      <td>8</td>\n",
       "      <td>[work_mem, =, ']</td>\n",
       "      <td>[128.0, 64.0, 256.0]</td>\n",
       "      <td>False</td>\n",
       "      <td>[mean, max, min]</td>\n",
       "    </tr>\n",
       "  </tbody>\n",
       "</table>\n",
       "</div>"
      ],
      "text/plain": [
       "          Name       Tag  TagOrigin Type  IsUninteresting  Occurrences Preceding 3 tokens              Examples  From regex        Aggregates\n",
       "7  0f62d144_15  work_mem          0  num            False            8   [work_mem, =, ']  [128.0, 64.0, 256.0]       False  [mean, max, min]"
      ]
     },
     "metadata": {},
     "output_type": "display_data"
    },
    {
     "name": "stdout",
     "output_type": "stream",
     "text": [
      "--> Template Information about 0f62d144:\n"
     ]
    },
    {
     "data": {
      "text/html": [
       "<div>\n",
       "<style scoped>\n",
       "    .dataframe tbody tr th:only-of-type {\n",
       "        vertical-align: middle;\n",
       "    }\n",
       "\n",
       "    .dataframe tbody tr th {\n",
       "        vertical-align: top;\n",
       "    }\n",
       "\n",
       "    .dataframe thead th {\n",
       "        text-align: right;\n",
       "    }\n",
       "</style>\n",
       "<table border=\"1\" class=\"dataframe\">\n",
       "  <thead>\n",
       "    <tr style=\"text-align: right;\">\n",
       "      <th></th>\n",
       "      <th>TemplateText</th>\n",
       "      <th>TemplateId</th>\n",
       "      <th>VariableIndices</th>\n",
       "      <th>RegexIndices</th>\n",
       "      <th>TemplateExample</th>\n",
       "      <th>Occurrences</th>\n",
       "    </tr>\n",
       "  </thead>\n",
       "  <tbody>\n",
       "    <tr>\n",
       "      <th>6</th>\n",
       "      <td>&lt;*0&gt; EDT [ &lt;*1&gt; &lt;*2&gt; ] postgres@tpcds1 LOG : statement : SET work_mem = ' &lt;*&gt; ' ;</td>\n",
       "      <td>0f62d144</td>\n",
       "      <td>[15]</td>\n",
       "      <td>[0, 3, 4]</td>\n",
       "      <td>&lt;*0&gt; EDT  [  &lt;*1&gt; &lt;*2&gt;  ]  postgres@tpcds1 LOG :   statement :  SET work_mem  =   ' 128.0 '  ;</td>\n",
       "      <td>8</td>\n",
       "    </tr>\n",
       "  </tbody>\n",
       "</table>\n",
       "</div>"
      ],
      "text/plain": [
       "                                                                        TemplateText TemplateId VariableIndices RegexIndices                                                                                  TemplateExample  Occurrences\n",
       "6  <*0> EDT [ <*1> <*2> ] postgres@tpcds1 LOG : statement : SET work_mem = ' <*> ' ;   0f62d144            [15]    [0, 3, 4]  <*0> EDT  [  <*1> <*2>  ]  postgres@tpcds1 LOG :   statement :  SET work_mem  =   ' 128.0 '  ;             8"
      ]
     },
     "metadata": {},
     "output_type": "display_data"
    },
    {
     "name": "stdout",
     "output_type": "stream",
     "text": [
      "--> Causal Unit Partial Information:\n"
     ]
    },
    {
     "data": {
      "text/html": [
       "<div>\n",
       "<style scoped>\n",
       "    .dataframe tbody tr th:only-of-type {\n",
       "        vertical-align: middle;\n",
       "    }\n",
       "\n",
       "    .dataframe tbody tr th {\n",
       "        vertical-align: top;\n",
       "    }\n",
       "\n",
       "    .dataframe thead th {\n",
       "        text-align: right;\n",
       "    }\n",
       "</style>\n",
       "<table border=\"1\" class=\"dataframe\">\n",
       "  <thead>\n",
       "    <tr style=\"text-align: right;\">\n",
       "      <th></th>\n",
       "      <th>0f62d144_15+mean (candidate)</th>\n",
       "    </tr>\n",
       "    <tr>\n",
       "      <th>sessionID+first</th>\n",
       "      <th></th>\n",
       "    </tr>\n",
       "  </thead>\n",
       "  <tbody>\n",
       "    <tr>\n",
       "      <th>6542c92d.1f943</th>\n",
       "      <td>128.0</td>\n",
       "    </tr>\n",
       "    <tr>\n",
       "      <th>6542d880.1fc1b</th>\n",
       "      <td>128.0</td>\n",
       "    </tr>\n",
       "    <tr>\n",
       "      <th>6542e76c.1fe63</th>\n",
       "      <td>64.0</td>\n",
       "    </tr>\n",
       "    <tr>\n",
       "      <th>6543018c.20227</th>\n",
       "      <td>64.0</td>\n",
       "    </tr>\n",
       "    <tr>\n",
       "      <th>65431bc7.20615</th>\n",
       "      <td>256.0</td>\n",
       "    </tr>\n",
       "    <tr>\n",
       "      <th>65431ef0.2073a</th>\n",
       "      <td>256.0</td>\n",
       "    </tr>\n",
       "    <tr>\n",
       "      <th>6543221a.2085f</th>\n",
       "      <td>128.0</td>\n",
       "    </tr>\n",
       "    <tr>\n",
       "      <th>654330e1.20b8f</th>\n",
       "      <td>128.0</td>\n",
       "    </tr>\n",
       "  </tbody>\n",
       "</table>\n",
       "</div>"
      ],
      "text/plain": [
       "                 0f62d144_15+mean (candidate)\n",
       "sessionID+first                              \n",
       "6542c92d.1f943                          128.0\n",
       "6542d880.1fc1b                          128.0\n",
       "6542e76c.1fe63                           64.0\n",
       "6543018c.20227                           64.0\n",
       "65431bc7.20615                          256.0\n",
       "65431ef0.2073a                          256.0\n",
       "6543221a.2085f                          128.0\n",
       "654330e1.20b8f                          128.0"
      ]
     },
     "metadata": {},
     "output_type": "display_data"
    }
   ],
   "source": [
    "s2.inspect('work_mem mean')"
   ]
  },
  {
   "cell_type": "code",
   "execution_count": 31,
   "metadata": {},
   "outputs": [
    {
     "name": "stdout",
     "output_type": "stream",
     "text": [
      "Information about prepared variable d046ac78_14+mean:\n",
      "\n",
      "--> Variable Information about d046ac78_14:\n"
     ]
    },
    {
     "data": {
      "text/html": [
       "<div>\n",
       "<style scoped>\n",
       "    .dataframe tbody tr th:only-of-type {\n",
       "        vertical-align: middle;\n",
       "    }\n",
       "\n",
       "    .dataframe tbody tr th {\n",
       "        vertical-align: top;\n",
       "    }\n",
       "\n",
       "    .dataframe thead th {\n",
       "        text-align: right;\n",
       "    }\n",
       "</style>\n",
       "<table border=\"1\" class=\"dataframe\">\n",
       "  <thead>\n",
       "    <tr style=\"text-align: right;\">\n",
       "      <th></th>\n",
       "      <th>Name</th>\n",
       "      <th>Tag</th>\n",
       "      <th>TagOrigin</th>\n",
       "      <th>Type</th>\n",
       "      <th>IsUninteresting</th>\n",
       "      <th>Occurrences</th>\n",
       "      <th>Preceding 3 tokens</th>\n",
       "      <th>Examples</th>\n",
       "      <th>From regex</th>\n",
       "      <th>Aggregates</th>\n",
       "    </tr>\n",
       "  </thead>\n",
       "  <tbody>\n",
       "    <tr>\n",
       "      <th>6</th>\n",
       "      <td>d046ac78_14</td>\n",
       "      <td>max_parallel_workers</td>\n",
       "      <td>0</td>\n",
       "      <td>num</td>\n",
       "      <td>False</td>\n",
       "      <td>8</td>\n",
       "      <td>[SET, max_parallel_workers, =]</td>\n",
       "      <td>[1, 2]</td>\n",
       "      <td>False</td>\n",
       "      <td>[mean, max, min]</td>\n",
       "    </tr>\n",
       "  </tbody>\n",
       "</table>\n",
       "</div>"
      ],
      "text/plain": [
       "          Name                   Tag  TagOrigin Type  IsUninteresting  Occurrences              Preceding 3 tokens Examples  From regex        Aggregates\n",
       "6  d046ac78_14  max_parallel_workers          0  num            False            8  [SET, max_parallel_workers, =]   [1, 2]       False  [mean, max, min]"
      ]
     },
     "metadata": {},
     "output_type": "display_data"
    },
    {
     "name": "stdout",
     "output_type": "stream",
     "text": [
      "--> Template Information about d046ac78:\n"
     ]
    },
    {
     "data": {
      "text/html": [
       "<div>\n",
       "<style scoped>\n",
       "    .dataframe tbody tr th:only-of-type {\n",
       "        vertical-align: middle;\n",
       "    }\n",
       "\n",
       "    .dataframe tbody tr th {\n",
       "        vertical-align: top;\n",
       "    }\n",
       "\n",
       "    .dataframe thead th {\n",
       "        text-align: right;\n",
       "    }\n",
       "</style>\n",
       "<table border=\"1\" class=\"dataframe\">\n",
       "  <thead>\n",
       "    <tr style=\"text-align: right;\">\n",
       "      <th></th>\n",
       "      <th>TemplateText</th>\n",
       "      <th>TemplateId</th>\n",
       "      <th>VariableIndices</th>\n",
       "      <th>RegexIndices</th>\n",
       "      <th>TemplateExample</th>\n",
       "      <th>Occurrences</th>\n",
       "    </tr>\n",
       "  </thead>\n",
       "  <tbody>\n",
       "    <tr>\n",
       "      <th>5</th>\n",
       "      <td>&lt;*0&gt; EDT [ &lt;*1&gt; &lt;*2&gt; ] postgres@tpcds1 LOG : statement : SET max_parallel_workers = &lt;*&gt; ;</td>\n",
       "      <td>d046ac78</td>\n",
       "      <td>[14]</td>\n",
       "      <td>[0, 3, 4]</td>\n",
       "      <td>&lt;*0&gt; EDT  [  &lt;*1&gt; &lt;*2&gt;  ]  postgres@tpcds1 LOG :   statement :  SET max_parallel_workers  =  1 ;</td>\n",
       "      <td>8</td>\n",
       "    </tr>\n",
       "  </tbody>\n",
       "</table>\n",
       "</div>"
      ],
      "text/plain": [
       "                                                                                TemplateText TemplateId VariableIndices RegexIndices                                                                                    TemplateExample  Occurrences\n",
       "5  <*0> EDT [ <*1> <*2> ] postgres@tpcds1 LOG : statement : SET max_parallel_workers = <*> ;   d046ac78            [14]    [0, 3, 4]  <*0> EDT  [  <*1> <*2>  ]  postgres@tpcds1 LOG :   statement :  SET max_parallel_workers  =  1 ;             8"
      ]
     },
     "metadata": {},
     "output_type": "display_data"
    },
    {
     "name": "stdout",
     "output_type": "stream",
     "text": [
      "--> Causal Unit Partial Information:\n"
     ]
    },
    {
     "data": {
      "text/html": [
       "<div>\n",
       "<style scoped>\n",
       "    .dataframe tbody tr th:only-of-type {\n",
       "        vertical-align: middle;\n",
       "    }\n",
       "\n",
       "    .dataframe tbody tr th {\n",
       "        vertical-align: top;\n",
       "    }\n",
       "\n",
       "    .dataframe thead th {\n",
       "        text-align: right;\n",
       "    }\n",
       "</style>\n",
       "<table border=\"1\" class=\"dataframe\">\n",
       "  <thead>\n",
       "    <tr style=\"text-align: right;\">\n",
       "      <th></th>\n",
       "      <th>d046ac78_14+mean (candidate)</th>\n",
       "    </tr>\n",
       "    <tr>\n",
       "      <th>sessionID+first</th>\n",
       "      <th></th>\n",
       "    </tr>\n",
       "  </thead>\n",
       "  <tbody>\n",
       "    <tr>\n",
       "      <th>6542c92d.1f943</th>\n",
       "      <td>1.0</td>\n",
       "    </tr>\n",
       "    <tr>\n",
       "      <th>6542d880.1fc1b</th>\n",
       "      <td>1.0</td>\n",
       "    </tr>\n",
       "    <tr>\n",
       "      <th>6542e76c.1fe63</th>\n",
       "      <td>2.0</td>\n",
       "    </tr>\n",
       "    <tr>\n",
       "      <th>6543018c.20227</th>\n",
       "      <td>2.0</td>\n",
       "    </tr>\n",
       "    <tr>\n",
       "      <th>65431bc7.20615</th>\n",
       "      <td>1.0</td>\n",
       "    </tr>\n",
       "    <tr>\n",
       "      <th>65431ef0.2073a</th>\n",
       "      <td>1.0</td>\n",
       "    </tr>\n",
       "    <tr>\n",
       "      <th>6543221a.2085f</th>\n",
       "      <td>2.0</td>\n",
       "    </tr>\n",
       "    <tr>\n",
       "      <th>654330e1.20b8f</th>\n",
       "      <td>2.0</td>\n",
       "    </tr>\n",
       "  </tbody>\n",
       "</table>\n",
       "</div>"
      ],
      "text/plain": [
       "                 d046ac78_14+mean (candidate)\n",
       "sessionID+first                              \n",
       "6542c92d.1f943                            1.0\n",
       "6542d880.1fc1b                            1.0\n",
       "6542e76c.1fe63                            2.0\n",
       "6543018c.20227                            2.0\n",
       "65431bc7.20615                            1.0\n",
       "65431ef0.2073a                            1.0\n",
       "6543221a.2085f                            2.0\n",
       "654330e1.20b8f                            2.0"
      ]
     },
     "metadata": {},
     "output_type": "display_data"
    }
   ],
   "source": [
    "s2.inspect('max_parallel_workers mean')"
   ]
  },
  {
   "cell_type": "markdown",
   "metadata": {},
   "source": [
    "Indeed, two of them correspond to the two parameters we are tweaking. Assuming we do not know the experiment set up, let's accept them both as causes and reject the rest of the candidates."
   ]
  },
  {
   "cell_type": "code",
   "execution_count": 32,
   "metadata": {},
   "outputs": [
    {
     "data": {
      "text/html": [
       "<img src=\"data:image/png;base64,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\" style=\"max-width: 100%; height: auto;\">"
      ],
      "text/plain": [
       "<IPython.core.display.HTML object>"
      ]
     },
     "metadata": {},
     "output_type": "display_data"
    },
    {
     "data": {
      "text/plain": [
       "(0.9731182795698925, '0f62d144_15+mean', '')"
      ]
     },
     "execution_count": 32,
     "metadata": {},
     "output_type": "execute_result"
    }
   ],
   "source": [
    "s2.accept('work_mem mean', 'duration mean', interactive=False)\n",
    "s2.accept('max_parallel_workers mean', 'duration mean', interactive=False)\n",
    "s2.reject_undecided_incoming('duration mean')"
   ]
  },
  {
   "cell_type": "markdown",
   "metadata": {},
   "source": [
    "Let's now look at the corresponding ATE of the number of `max_parallel_workers` on the max query latency. Intuitively, more parallelism should help so this should be negative:"
   ]
  },
  {
   "cell_type": "code",
   "execution_count": 33,
   "metadata": {},
   "outputs": [
    {
     "data": {
      "image/png": "[encoded data removed]",
      "text/latex": [
       "$\\displaystyle -1588.99225407086$"
      ],
      "text/plain": [
       "-1588.9922540708612"
      ]
     },
     "execution_count": 33,
     "metadata": {},
     "output_type": "execute_result"
    }
   ],
   "source": [
    "s2.get_adjusted_ate(\"max_parallel_workers mean\", \"duration mean\")"
   ]
  },
  {
   "cell_type": "markdown",
   "metadata": {},
   "source": [
    "What if we hadn't considered the amount of working memory as a cause?"
   ]
  },
  {
   "cell_type": "code",
   "execution_count": 34,
   "metadata": {},
   "outputs": [
    {
     "data": {
      "image/png": "[encoded data removed]",
      "text/latex": [
       "$\\displaystyle 9990.99732122586$"
      ],
      "text/plain": [
       "9990.997321225856"
      ]
     },
     "execution_count": 34,
     "metadata": {},
     "output_type": "execute_result"
    }
   ],
   "source": [
    "s2.get_unadjusted_ate(\"max_parallel_workers mean\", \"duration mean\")"
   ]
  },
  {
   "cell_type": "markdown",
   "metadata": {},
   "source": [
    "Surprising discrepancy! Let's look at the underlying data though:"
   ]
  },
  {
   "cell_type": "code",
   "execution_count": 35,
   "metadata": {},
   "outputs": [
    {
     "data": {
      "text/html": [
       "<div>\n",
       "<style scoped>\n",
       "    .dataframe tbody tr th:only-of-type {\n",
       "        vertical-align: middle;\n",
       "    }\n",
       "\n",
       "    .dataframe tbody tr th {\n",
       "        vertical-align: top;\n",
       "    }\n",
       "\n",
       "    .dataframe thead th {\n",
       "        text-align: right;\n",
       "    }\n",
       "</style>\n",
       "<table border=\"1\" class=\"dataframe\">\n",
       "  <thead>\n",
       "    <tr style=\"text-align: right;\">\n",
       "      <th></th>\n",
       "      <th>work_mem</th>\n",
       "      <th>max_parallel_workers</th>\n",
       "      <th>mean_latency</th>\n",
       "    </tr>\n",
       "    <tr>\n",
       "      <th>sessionID+first</th>\n",
       "      <th></th>\n",
       "      <th></th>\n",
       "      <th></th>\n",
       "    </tr>\n",
       "  </thead>\n",
       "  <tbody>\n",
       "    <tr>\n",
       "      <th>6542c92d.1f943</th>\n",
       "      <td>128.0</td>\n",
       "      <td>1.0</td>\n",
       "      <td>13483.595990</td>\n",
       "    </tr>\n",
       "    <tr>\n",
       "      <th>6542d880.1fc1b</th>\n",
       "      <td>128.0</td>\n",
       "      <td>1.0</td>\n",
       "      <td>13126.180309</td>\n",
       "    </tr>\n",
       "    <tr>\n",
       "      <th>6542e76c.1fe63</th>\n",
       "      <td>64.0</td>\n",
       "      <td>2.0</td>\n",
       "      <td>22983.408399</td>\n",
       "    </tr>\n",
       "    <tr>\n",
       "      <th>6543018c.20227</th>\n",
       "      <td>64.0</td>\n",
       "      <td>2.0</td>\n",
       "      <td>23075.070997</td>\n",
       "    </tr>\n",
       "    <tr>\n",
       "      <th>65431bc7.20615</th>\n",
       "      <td>256.0</td>\n",
       "      <td>1.0</td>\n",
       "      <td>2707.956093</td>\n",
       "    </tr>\n",
       "    <tr>\n",
       "      <th>65431ef0.2073a</th>\n",
       "      <td>256.0</td>\n",
       "      <td>1.0</td>\n",
       "      <td>2781.880526</td>\n",
       "    </tr>\n",
       "    <tr>\n",
       "      <th>6543221a.2085f</th>\n",
       "      <td>128.0</td>\n",
       "      <td>2.0</td>\n",
       "      <td>13000.099663</td>\n",
       "    </tr>\n",
       "    <tr>\n",
       "      <th>654330e1.20b8f</th>\n",
       "      <td>128.0</td>\n",
       "      <td>2.0</td>\n",
       "      <td>13005.023144</td>\n",
       "    </tr>\n",
       "  </tbody>\n",
       "</table>\n",
       "</div>"
      ],
      "text/plain": [
       "                 work_mem  max_parallel_workers  mean_latency\n",
       "sessionID+first                                              \n",
       "6542c92d.1f943      128.0                   1.0  13483.595990\n",
       "6542d880.1fc1b      128.0                   1.0  13126.180309\n",
       "6542e76c.1fe63       64.0                   2.0  22983.408399\n",
       "6543018c.20227       64.0                   2.0  23075.070997\n",
       "65431bc7.20615      256.0                   1.0   2707.956093\n",
       "65431ef0.2073a      256.0                   1.0   2781.880526\n",
       "6543221a.2085f      128.0                   2.0  13000.099663\n",
       "654330e1.20b8f      128.0                   2.0  13005.023144"
      ]
     },
     "execution_count": 35,
     "metadata": {},
     "output_type": "execute_result"
    }
   ],
   "source": [
    "t = s2.prepared_log[[\"0f62d144_15+mean\", \"d046ac78_14+mean\", \"2dfe3d16_11+mean\"]]\n",
    "t.columns = [\"work_mem\", \"max_parallel_workers\", \"mean_latency\"]\n",
    "t"
   ]
  },
  {
   "cell_type": "markdown",
   "metadata": {},
   "source": [
    "Indeed, for a fixed amount of working memory, more parallelism leads to lower latency. But because of how we set up the experiment, more parallelism comes at the expense of working memory, so naively looking at only the 2 right-hand columns above would indeed make us think that more parallelism means *higher* latency!"
   ]
  }
 ],
 "metadata": {
  "kernelspec": {
   "display_name": "Python 3",
   "language": "python",
   "name": "python3"
  },
  "language_info": {
   "codemirror_mode": {
    "name": "ipython",
    "version": 3
   },
   "file_extension": ".py",
   "mimetype": "text/x-python",
   "name": "python",
   "nbconvert_exporter": "python",
   "pygments_lexer": "ipython3",
   "version": "3.11.5"
  },
  "orig_nbformat": 4
 },
 "nbformat": 4,
 "nbformat_minor": 2
}
