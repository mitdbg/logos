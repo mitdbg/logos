{
 "cells": [
  {
   "cell_type": "markdown",
   "metadata": {},
   "source": [
    "# Welcome!\n",
    "\n",
    "This is a quick demo of LOGos - a system for processing logs to help extract causal insights!\n",
    "\n",
    "If you would like to take a fuller look at the API, you can read the documentation [here](https://mitdbg.github.io/logos)."
   ]
  },
  {
   "cell_type": "code",
   "execution_count": 1,
   "metadata": {},
   "outputs": [
    {
     "name": "stderr",
     "output_type": "stream",
     "text": [
      "/home/markakis/markos-3.11.9-venv/lib/python3.11/site-packages/tqdm/auto.py:21: TqdmWarning: IProgress not found. Please update jupyter and ipywidgets. See https://ipywidgets.readthedocs.io/en/stable/user_install.html\n",
      "  from .autonotebook import tqdm as notebook_tqdm\n"
     ]
    }
   ],
   "source": [
    "import sys\n",
    "sys.path.append(\"..\")\n",
    "from src.logos.logos import LOGos\n",
    "import pandas as pd\n",
    "pd.set_option('display.max_colwidth', None)"
   ]
  },
  {
   "cell_type": "markdown",
   "metadata": {},
   "source": [
    "## The Log\n",
    "\n",
    "For this demo, we will analyze a simple a synthetic log, stored at `demo/demo.log`. This log contains three different log line *templates*, each of which reports the value of one of the variables `x`, `y` and `z`. Here is an example of each line:\n",
    "\n",
    "```\n",
    "2023-03-14T20:55:49.234591Z DATA The current line will include the value of z = 100.0\n",
    "2023-03-14T20:55:49.233591Z DATA Short message with x = 199.05342369055703\n",
    "2023-03-14T20:55:49.232591Z DATA This is a log message that reports y = 399.82103707673997\n",
    "```\n",
    "\n",
    "Each millisecond, we decide whether or not to \"flip\" the value of `z` between 100 and 200, with probability `1%`. If we end up flipping it, we print a log line that reports the new value (first template above).\n",
    "\n",
    "Each millisecond, we print the value of `x` (second template above), which is generated each time by taking the most recent value of `z` and adding random noise in `[-1,1]`.\n",
    "\n",
    "Finally, each millisecond we print the value of `y` with probability `50%`(third template above). The value of `y` is generated each time by taking the most recent value of `z`, multiplying it by `2` and adding random noise in `[-1,1]`.\n",
    "\n",
    "Our objective is to find what is causing the variation in `y`, while appropriately adjusting for any confounders.\n"
   ]
  },
  {
   "cell_type": "markdown",
   "metadata": {},
   "source": [
    "## LOGos: Log Converter"
   ]
  },
  {
   "cell_type": "markdown",
   "metadata": {},
   "source": [
    "Let's create a LOGos instance and initialize it with the path to the log above."
   ]
  },
  {
   "cell_type": "code",
   "execution_count": 2,
   "metadata": {},
   "outputs": [],
   "source": [
    "s = LOGos(\"demo.log\", workdir='.', skip_writeout=True)"
   ]
  },
  {
   "cell_type": "markdown",
   "metadata": {},
   "source": [
    "### Parsing and tagging variables"
   ]
  },
  {
   "cell_type": "markdown",
   "metadata": {},
   "source": [
    "We can call the `parse()` function to parse the log into a table using the [Drain](https://jiemingzhu.github.io/pub/pjhe_icws2017.pdf) algorithm. \n",
    "\n",
    "The Drain algorithm can first extract named variables from each log line using regular expressions. By default, LOGos provides a single regular expression to capture timestamps in the format shown above, naming the resulting field `Timestamp`, but users can parse additional regular expressions to the `parse()` call as a dictionary, via the `regex_dict` parameter.\n",
    "\n",
    "Then, the Drain algorithm separated log lines into \"templates\" and \"variables\", based on the similarity of each new line to the lines seen before it. You can find more information in the paper."
   ]
  },
  {
   "cell_type": "code",
   "execution_count": 3,
   "metadata": {},
   "outputs": [
    {
     "name": "stderr",
     "output_type": "stream",
     "text": [
      "Reading and tokenizing log lines...: 100%|██████████| 15121/15121 [00:00<00:00, 93090.88it/s]\n",
      "Determining template for each line...: 100%|██████████| 15121/15121 [00:00<00:00, 100668.52it/s]\n",
      "Extracting variables from each log message...: 100%|██████████| 3/3 [00:00<00:00, 165.84it/s]\n",
      "Determining variable types...: 100%|██████████| 4/4 [00:00<00:00, 1464.36it/s]\n",
      "Casting date variables...: 100%|██████████| 1/1 [00:00<00:00, 72.59it/s]\n",
      "Casting date variables round 2...:   0%|          | 0/15121 [00:00<?, ?it/s]/home/markakis/markos-3.11.9-venv/lib/python3.11/site-packages/tqdm/std.py:917: FutureWarning: DataFrame.applymap has been deprecated. Use DataFrame.map instead.\n",
      "  return getattr(df, df_function)(wrapper, **kwargs)\n",
      "Casting date variables round 2...: 100%|██████████| 15121/15121 [00:00<00:00, 350851.77it/s]\n",
      "Casting time variables...: 1it [00:00, 2683.50it/s]\n",
      "Casting time variables round 2...: 0it [00:00, ?it/s]/home/markakis/markos-3.11.9-venv/lib/python3.11/site-packages/tqdm/std.py:917: FutureWarning: DataFrame.applymap has been deprecated. Use DataFrame.map instead.\n",
      "  return getattr(df, df_function)(wrapper, **kwargs)\n",
      "Casting time variables round 2...: 0it [00:00, ?it/s]\n",
      "Casting numerical variables...: 100%|██████████| 4/4 [00:00<00:00, 517.70it/s]\n",
      "Tagging variables...: 100%|██████████| 4/4 [00:00<00:00, 6647.07it/s]\n",
      "Detecting identifiers...: 100%|██████████| 4/4 [00:00<00:00, 2373.01it/s]\n"
     ]
    },
    {
     "data": {
      "text/html": [
       "<div>\n",
       "<style scoped>\n",
       "    .dataframe tbody tr th:only-of-type {\n",
       "        vertical-align: middle;\n",
       "    }\n",
       "\n",
       "    .dataframe tbody tr th {\n",
       "        vertical-align: top;\n",
       "    }\n",
       "\n",
       "    .dataframe thead th {\n",
       "        text-align: right;\n",
       "    }\n",
       "</style>\n",
       "<table border=\"1\" class=\"dataframe\">\n",
       "  <thead>\n",
       "    <tr style=\"text-align: right;\">\n",
       "      <th></th>\n",
       "      <th>TemplateId</th>\n",
       "      <th>Timestamp</th>\n",
       "      <th>43e6c5b5_7</th>\n",
       "      <th>f2e46af4_11</th>\n",
       "      <th>f98340b4_12</th>\n",
       "    </tr>\n",
       "  </thead>\n",
       "  <tbody>\n",
       "    <tr>\n",
       "      <th>0</th>\n",
       "      <td>43e6c5b5</td>\n",
       "      <td>1.678827e+09</td>\n",
       "      <td>100.002860</td>\n",
       "      <td>NaN</td>\n",
       "      <td>NaN</td>\n",
       "    </tr>\n",
       "    <tr>\n",
       "      <th>1</th>\n",
       "      <td>f2e46af4</td>\n",
       "      <td>1.678827e+09</td>\n",
       "      <td>NaN</td>\n",
       "      <td>200.189963</td>\n",
       "      <td>NaN</td>\n",
       "    </tr>\n",
       "    <tr>\n",
       "      <th>2</th>\n",
       "      <td>43e6c5b5</td>\n",
       "      <td>1.678827e+09</td>\n",
       "      <td>100.812299</td>\n",
       "      <td>NaN</td>\n",
       "      <td>NaN</td>\n",
       "    </tr>\n",
       "    <tr>\n",
       "      <th>3</th>\n",
       "      <td>f2e46af4</td>\n",
       "      <td>1.678827e+09</td>\n",
       "      <td>NaN</td>\n",
       "      <td>200.458986</td>\n",
       "      <td>NaN</td>\n",
       "    </tr>\n",
       "    <tr>\n",
       "      <th>4</th>\n",
       "      <td>43e6c5b5</td>\n",
       "      <td>1.678827e+09</td>\n",
       "      <td>100.260164</td>\n",
       "      <td>NaN</td>\n",
       "      <td>NaN</td>\n",
       "    </tr>\n",
       "  </tbody>\n",
       "</table>\n",
       "</div>"
      ],
      "text/plain": [
       "  TemplateId     Timestamp  43e6c5b5_7  f2e46af4_11  f98340b4_12\n",
       "0   43e6c5b5  1.678827e+09  100.002860          NaN          NaN\n",
       "1   f2e46af4  1.678827e+09         NaN   200.189963          NaN\n",
       "2   43e6c5b5  1.678827e+09  100.812299          NaN          NaN\n",
       "3   f2e46af4  1.678827e+09         NaN   200.458986          NaN\n",
       "4   43e6c5b5  1.678827e+09  100.260164          NaN          NaN"
      ]
     },
     "execution_count": 3,
     "metadata": {},
     "output_type": "execute_result"
    }
   ],
   "source": [
    "s.parse()\n",
    "s.parsed_log.head()"
   ]
  },
  {
   "cell_type": "markdown",
   "metadata": {},
   "source": [
    "Let's take a look at the extracted templates. Indeed, Drain has detected the three templates in the synthetic log. Each template is given a hash-based template ID. For each template, we see that a variable has been detected (at word indices 7, 11 and 12, respectively) and replaced with `<*>` in the template text. \n",
    "\n",
    "For each template, we also got a regular expression match at index 0, corresponding to the regular expression that matches timestamps. The timestamps were correspondingly replaced by `<*0>`, since that was the 0th (and only) regular expression we provided."
   ]
  },
  {
   "cell_type": "code",
   "execution_count": 4,
   "metadata": {},
   "outputs": [
    {
     "data": {
      "text/html": [
       "<div>\n",
       "<style scoped>\n",
       "    .dataframe tbody tr th:only-of-type {\n",
       "        vertical-align: middle;\n",
       "    }\n",
       "\n",
       "    .dataframe tbody tr th {\n",
       "        vertical-align: top;\n",
       "    }\n",
       "\n",
       "    .dataframe thead th {\n",
       "        text-align: right;\n",
       "    }\n",
       "</style>\n",
       "<table border=\"1\" class=\"dataframe\">\n",
       "  <thead>\n",
       "    <tr style=\"text-align: right;\">\n",
       "      <th></th>\n",
       "      <th>TemplateText</th>\n",
       "      <th>TemplateId</th>\n",
       "      <th>VariableIndices</th>\n",
       "      <th>RegexIndices</th>\n",
       "      <th>TemplateExample</th>\n",
       "      <th>Occurrences</th>\n",
       "    </tr>\n",
       "  </thead>\n",
       "  <tbody>\n",
       "    <tr>\n",
       "      <th>0</th>\n",
       "      <td>&lt;*0&gt; DATA Short message with x = &lt;*&gt;</td>\n",
       "      <td>43e6c5b5</td>\n",
       "      <td>[7]</td>\n",
       "      <td>[0]</td>\n",
       "      <td>&lt;*0&gt; DATA Short message with x  =  100.00285967800117</td>\n",
       "      <td>10000</td>\n",
       "    </tr>\n",
       "    <tr>\n",
       "      <th>1</th>\n",
       "      <td>&lt;*0&gt; DATA This is a log message that reports y = &lt;*&gt;</td>\n",
       "      <td>f2e46af4</td>\n",
       "      <td>[11]</td>\n",
       "      <td>[0]</td>\n",
       "      <td>&lt;*0&gt; DATA This is a log message that reports y  =  200.1899632341074</td>\n",
       "      <td>5006</td>\n",
       "    </tr>\n",
       "    <tr>\n",
       "      <th>2</th>\n",
       "      <td>&lt;*0&gt; DATA The current line will include the value of z = &lt;*&gt;</td>\n",
       "      <td>f98340b4</td>\n",
       "      <td>[12]</td>\n",
       "      <td>[0]</td>\n",
       "      <td>&lt;*0&gt; DATA The current line will include the value of z  =  200.0</td>\n",
       "      <td>115</td>\n",
       "    </tr>\n",
       "  </tbody>\n",
       "</table>\n",
       "</div>"
      ],
      "text/plain": [
       "                                                   TemplateText TemplateId  \\\n",
       "0                          <*0> DATA Short message with x = <*>   43e6c5b5   \n",
       "1          <*0> DATA This is a log message that reports y = <*>   f2e46af4   \n",
       "2  <*0> DATA The current line will include the value of z = <*>   f98340b4   \n",
       "\n",
       "  VariableIndices RegexIndices  \\\n",
       "0             [7]          [0]   \n",
       "1            [11]          [0]   \n",
       "2            [12]          [0]   \n",
       "\n",
       "                                                        TemplateExample  \\\n",
       "0                 <*0> DATA Short message with x  =  100.00285967800117   \n",
       "1  <*0> DATA This is a log message that reports y  =  200.1899632341074   \n",
       "2      <*0> DATA The current line will include the value of z  =  200.0   \n",
       "\n",
       "   Occurrences  \n",
       "0        10000  \n",
       "1         5006  \n",
       "2          115  "
      ]
     },
     "execution_count": 4,
     "metadata": {},
     "output_type": "execute_result"
    }
   ],
   "source": [
    "s.parsed_templates"
   ]
  },
  {
   "cell_type": "markdown",
   "metadata": {},
   "source": [
    "We can also look at the extracted variables. For variables that were extracted via a regular expression, like the timestamp, the user has already provided a name (in this case, `Timestamp`). For the rest, a variable name is generated from the corresponding template ID and the index that the variable appear in, within the template. For each variable, we also report the preceding 3 tokens and some example values. \n",
    "\n",
    "Since the automatically-generated names are not meaningful, we also allow for each variable to carry a tag. Initial values of these tags are guessed from the preceding tokens of each variable, or using language models. However, the user can also manually edit these tags later on. You can find more information in our paper."
   ]
  },
  {
   "cell_type": "code",
   "execution_count": 5,
   "metadata": {},
   "outputs": [
    {
     "data": {
      "text/html": [
       "<div>\n",
       "<style scoped>\n",
       "    .dataframe tbody tr th:only-of-type {\n",
       "        vertical-align: middle;\n",
       "    }\n",
       "\n",
       "    .dataframe tbody tr th {\n",
       "        vertical-align: top;\n",
       "    }\n",
       "\n",
       "    .dataframe thead th {\n",
       "        text-align: right;\n",
       "    }\n",
       "</style>\n",
       "<table border=\"1\" class=\"dataframe\">\n",
       "  <thead>\n",
       "    <tr style=\"text-align: right;\">\n",
       "      <th></th>\n",
       "      <th>Name</th>\n",
       "      <th>Tag</th>\n",
       "      <th>TagOrigin</th>\n",
       "      <th>Type</th>\n",
       "      <th>IsUninteresting</th>\n",
       "      <th>Occurrences</th>\n",
       "      <th>Preceding 3 tokens</th>\n",
       "      <th>Examples</th>\n",
       "      <th>From regex</th>\n",
       "    </tr>\n",
       "  </thead>\n",
       "  <tbody>\n",
       "    <tr>\n",
       "      <th>0</th>\n",
       "      <td>Timestamp</td>\n",
       "      <td>Timestamp</td>\n",
       "      <td>4</td>\n",
       "      <td>num</td>\n",
       "      <td>False</td>\n",
       "      <td>15121</td>\n",
       "      <td>[]</td>\n",
       "      <td>[2023-03-14T20:55:49.165591Z, 2023-03-14T20:55:49.166591Z, 2023-03-14T20:55:49.167591Z, 2023-03-14T20:55:49.168591Z, 2023-03-14T20:55:49.169591Z]</td>\n",
       "      <td>True</td>\n",
       "    </tr>\n",
       "    <tr>\n",
       "      <th>1</th>\n",
       "      <td>43e6c5b5_7</td>\n",
       "      <td>x</td>\n",
       "      <td>0</td>\n",
       "      <td>num</td>\n",
       "      <td>False</td>\n",
       "      <td>10000</td>\n",
       "      <td>[with, x, =]</td>\n",
       "      <td>[100.00285967800117, 100.81229891323964, 100.26016363495995, 199.4482406365968, 200.98748260974]</td>\n",
       "      <td>False</td>\n",
       "    </tr>\n",
       "    <tr>\n",
       "      <th>2</th>\n",
       "      <td>f2e46af4_11</td>\n",
       "      <td>y</td>\n",
       "      <td>0</td>\n",
       "      <td>num</td>\n",
       "      <td>False</td>\n",
       "      <td>5006</td>\n",
       "      <td>[reports, y, =]</td>\n",
       "      <td>[200.1899632341074, 200.45898567905772, 399.6905765982258, 400.22712382793407, 400.08343040509993]</td>\n",
       "      <td>False</td>\n",
       "    </tr>\n",
       "    <tr>\n",
       "      <th>3</th>\n",
       "      <td>f98340b4_12</td>\n",
       "      <td>z</td>\n",
       "      <td>0</td>\n",
       "      <td>num</td>\n",
       "      <td>False</td>\n",
       "      <td>115</td>\n",
       "      <td>[of, z, =]</td>\n",
       "      <td>[200.0, 100.0]</td>\n",
       "      <td>False</td>\n",
       "    </tr>\n",
       "  </tbody>\n",
       "</table>\n",
       "</div>"
      ],
      "text/plain": [
       "          Name        Tag  TagOrigin Type  IsUninteresting  Occurrences  \\\n",
       "0    Timestamp  Timestamp          4  num            False        15121   \n",
       "1   43e6c5b5_7          x          0  num            False        10000   \n",
       "2  f2e46af4_11          y          0  num            False         5006   \n",
       "3  f98340b4_12          z          0  num            False          115   \n",
       "\n",
       "  Preceding 3 tokens  \\\n",
       "0                 []   \n",
       "1       [with, x, =]   \n",
       "2    [reports, y, =]   \n",
       "3         [of, z, =]   \n",
       "\n",
       "                                                                                                                                            Examples  \\\n",
       "0  [2023-03-14T20:55:49.165591Z, 2023-03-14T20:55:49.166591Z, 2023-03-14T20:55:49.167591Z, 2023-03-14T20:55:49.168591Z, 2023-03-14T20:55:49.169591Z]   \n",
       "1                                                   [100.00285967800117, 100.81229891323964, 100.26016363495995, 199.4482406365968, 200.98748260974]   \n",
       "2                                                 [200.1899632341074, 200.45898567905772, 399.6905765982258, 400.22712382793407, 400.08343040509993]   \n",
       "3                                                                                                                                     [200.0, 100.0]   \n",
       "\n",
       "   From regex  \n",
       "0        True  \n",
       "1       False  \n",
       "2       False  \n",
       "3       False  "
      ]
     },
     "execution_count": 5,
     "metadata": {},
     "output_type": "execute_result"
    }
   ],
   "source": [
    "s.parsed_variables"
   ]
  },
  {
   "cell_type": "markdown",
   "metadata": {},
   "source": [
    "### Defining the causal unit and aggregating"
   ]
  },
  {
   "cell_type": "markdown",
   "metadata": {},
   "source": [
    "To continue our analysis, we would like to structure and complete the parsed information to form \"causal units\", which will be the units on which our causal analysis will be performed. If we think of causality in other contexts, the causal units could be patients in a medical context, or individuals in an economic/social study.\n",
    "\n",
    "Causal units are defined by one of the available attributes. In a medical context, this could be \"patient name\". In a systems context, we could pick one of the variables parsed from the log. This decision should come from the user's domain knowledge.  The user can then call `set_causal_unit()`. For example, the call below indicates that each causal unit should be a `1 ms`-long time interval (not that this choice may not be appropriate in every setting):"
   ]
  },
  {
   "cell_type": "code",
   "execution_count": 6,
   "metadata": {},
   "outputs": [],
   "source": [
    "s.set_causal_unit(\"Timestamp\", num_units=10000)"
   ]
  },
  {
   "cell_type": "markdown",
   "metadata": {},
   "source": [
    "Given the causal unit, we can then ask Sawmill to perpare the log for analysis by using `prepare()`. Preparing the log involves two distinct tasks:\n",
    "\n",
    "1. Aggregation: Based on our choice of causal unit, there might be variables that take a multitude of values on different log lines associated with the same causal unit. For example, had we chosen a 10ms window as our causal unit, there would have been 10 lines reporting values of `x`. From this multitude of values, a fixed set of values must be derived (e.g. we could always keep the mean, or the last value seen). By default, Sawmill will generate the `min`, `max` and `mean` for numerical variables; the most recent value for string variables; and the least recent value for date-typed variables.\n",
    "\n",
    "2. Imputation: On the other end of the spectrum, there might be variables that are never observed within some causal unit. For example, `z` is only reported every approximately `100 ms`, so it should be missing most of the time, if our causal unit is a `1 ms` window. Whether and how to impute such missing values is application-dependent, since we must avoid information leakage from one causal unit to another or risk violating SUTVA. In this case, we know that `z` should be interpreted as a \"sticky\" value, but `x` and `y` should not be imputed.\n",
    "\n",
    "After aggregating and imputing, we drop any causal units that still have missing values."
   ]
  },
  {
   "cell_type": "code",
   "execution_count": 7,
   "metadata": {},
   "outputs": [
    {
     "name": "stderr",
     "output_type": "stream",
     "text": [
      "Imputing missing values...: 100%|██████████| 9/9 [00:00<00:00, 3364.12it/s]\n",
      "One-hot encoding categorical variables...: 0it [00:00, ?it/s]\n"
     ]
    },
    {
     "data": {
      "text/html": [
       "<div>\n",
       "<style scoped>\n",
       "    .dataframe tbody tr th:only-of-type {\n",
       "        vertical-align: middle;\n",
       "    }\n",
       "\n",
       "    .dataframe tbody tr th {\n",
       "        vertical-align: top;\n",
       "    }\n",
       "\n",
       "    .dataframe thead th {\n",
       "        text-align: right;\n",
       "    }\n",
       "</style>\n",
       "<table border=\"1\" class=\"dataframe\">\n",
       "  <thead>\n",
       "    <tr style=\"text-align: right;\">\n",
       "      <th></th>\n",
       "      <th>43e6c5b5_7+mean</th>\n",
       "      <th>f2e46af4_11+mean</th>\n",
       "      <th>f98340b4_12+mean</th>\n",
       "    </tr>\n",
       "    <tr>\n",
       "      <th>Timestamp+max</th>\n",
       "      <th></th>\n",
       "      <th></th>\n",
       "      <th></th>\n",
       "    </tr>\n",
       "  </thead>\n",
       "  <tbody>\n",
       "    <tr>\n",
       "      <th>1678827349.170591</th>\n",
       "      <td>199.659262</td>\n",
       "      <td>399.690577</td>\n",
       "      <td>200.0</td>\n",
       "    </tr>\n",
       "    <tr>\n",
       "      <th>1678827349.173591</th>\n",
       "      <td>199.755998</td>\n",
       "      <td>400.227124</td>\n",
       "      <td>200.0</td>\n",
       "    </tr>\n",
       "    <tr>\n",
       "      <th>1678827349.175591</th>\n",
       "      <td>200.098576</td>\n",
       "      <td>400.083430</td>\n",
       "      <td>200.0</td>\n",
       "    </tr>\n",
       "    <tr>\n",
       "      <th>1678827349.178591</th>\n",
       "      <td>200.158634</td>\n",
       "      <td>399.188180</td>\n",
       "      <td>200.0</td>\n",
       "    </tr>\n",
       "    <tr>\n",
       "      <th>1678827349.179591</th>\n",
       "      <td>200.934658</td>\n",
       "      <td>400.514334</td>\n",
       "      <td>200.0</td>\n",
       "    </tr>\n",
       "    <tr>\n",
       "      <th>1678827349.181591</th>\n",
       "      <td>199.626578</td>\n",
       "      <td>399.894171</td>\n",
       "      <td>200.0</td>\n",
       "    </tr>\n",
       "    <tr>\n",
       "      <th>1678827349.182591</th>\n",
       "      <td>200.937334</td>\n",
       "      <td>400.577257</td>\n",
       "      <td>200.0</td>\n",
       "    </tr>\n",
       "    <tr>\n",
       "      <th>1678827349.183591</th>\n",
       "      <td>199.831092</td>\n",
       "      <td>399.077464</td>\n",
       "      <td>200.0</td>\n",
       "    </tr>\n",
       "    <tr>\n",
       "      <th>1678827349.188591</th>\n",
       "      <td>199.372097</td>\n",
       "      <td>399.650472</td>\n",
       "      <td>200.0</td>\n",
       "    </tr>\n",
       "    <tr>\n",
       "      <th>1678827349.193591</th>\n",
       "      <td>200.476665</td>\n",
       "      <td>400.613001</td>\n",
       "      <td>200.0</td>\n",
       "    </tr>\n",
       "  </tbody>\n",
       "</table>\n",
       "</div>"
      ],
      "text/plain": [
       "                   43e6c5b5_7+mean  f2e46af4_11+mean  f98340b4_12+mean\n",
       "Timestamp+max                                                         \n",
       "1678827349.170591       199.659262        399.690577             200.0\n",
       "1678827349.173591       199.755998        400.227124             200.0\n",
       "1678827349.175591       200.098576        400.083430             200.0\n",
       "1678827349.178591       200.158634        399.188180             200.0\n",
       "1678827349.179591       200.934658        400.514334             200.0\n",
       "1678827349.181591       199.626578        399.894171             200.0\n",
       "1678827349.182591       200.937334        400.577257             200.0\n",
       "1678827349.183591       199.831092        399.077464             200.0\n",
       "1678827349.188591       199.372097        399.650472             200.0\n",
       "1678827349.193591       200.476665        400.613001             200.0"
      ]
     },
     "execution_count": 7,
     "metadata": {},
     "output_type": "execute_result"
    }
   ],
   "source": [
    "imputation_functions = {'z': 'ffill_imp'}\n",
    "aggregation_functions = {'Timestamp': ['max']}\n",
    "s.prepare(custom_agg=aggregation_functions, custom_imp=imputation_functions, force=True)\n",
    "s.prepared_log.head(10)"
   ]
  },
  {
   "cell_type": "code",
   "execution_count": 8,
   "metadata": {},
   "outputs": [
    {
     "data": {
      "text/html": [
       "<div>\n",
       "<style scoped>\n",
       "    .dataframe tbody tr th:only-of-type {\n",
       "        vertical-align: middle;\n",
       "    }\n",
       "\n",
       "    .dataframe tbody tr th {\n",
       "        vertical-align: top;\n",
       "    }\n",
       "\n",
       "    .dataframe thead th {\n",
       "        text-align: right;\n",
       "    }\n",
       "</style>\n",
       "<table border=\"1\" class=\"dataframe\">\n",
       "  <thead>\n",
       "    <tr style=\"text-align: right;\">\n",
       "      <th></th>\n",
       "      <th>Name</th>\n",
       "      <th>Base</th>\n",
       "      <th>Pre-agg Value</th>\n",
       "      <th>Agg</th>\n",
       "      <th>Post-agg Value</th>\n",
       "      <th>Tag</th>\n",
       "      <th>Base Variable Occurences</th>\n",
       "      <th>Type</th>\n",
       "      <th>Examples</th>\n",
       "      <th>From regex</th>\n",
       "      <th>TemplateText</th>\n",
       "    </tr>\n",
       "  </thead>\n",
       "  <tbody>\n",
       "    <tr>\n",
       "      <th>0</th>\n",
       "      <td>43e6c5b5_7+mean</td>\n",
       "      <td>43e6c5b5_7</td>\n",
       "      <td></td>\n",
       "      <td>mean</td>\n",
       "      <td></td>\n",
       "      <td>x mean</td>\n",
       "      <td>10000</td>\n",
       "      <td>num</td>\n",
       "      <td>[100.00285967800117, 100.81229891323964, 100.26016363495995, 199.4482406365968, 200.98748260974]</td>\n",
       "      <td>False</td>\n",
       "      <td>&lt;*0&gt; DATA Short message with x = &lt;*&gt;</td>\n",
       "    </tr>\n",
       "    <tr>\n",
       "      <th>1</th>\n",
       "      <td>f2e46af4_11+mean</td>\n",
       "      <td>f2e46af4_11</td>\n",
       "      <td></td>\n",
       "      <td>mean</td>\n",
       "      <td></td>\n",
       "      <td>y mean</td>\n",
       "      <td>5006</td>\n",
       "      <td>num</td>\n",
       "      <td>[200.1899632341074, 200.45898567905772, 399.6905765982258, 400.22712382793407, 400.08343040509993]</td>\n",
       "      <td>False</td>\n",
       "      <td>&lt;*0&gt; DATA This is a log message that reports y = &lt;*&gt;</td>\n",
       "    </tr>\n",
       "    <tr>\n",
       "      <th>2</th>\n",
       "      <td>f98340b4_12+mean</td>\n",
       "      <td>f98340b4_12</td>\n",
       "      <td></td>\n",
       "      <td>mean</td>\n",
       "      <td></td>\n",
       "      <td>z mean</td>\n",
       "      <td>115</td>\n",
       "      <td>num</td>\n",
       "      <td>[200.0, 100.0]</td>\n",
       "      <td>False</td>\n",
       "      <td>&lt;*0&gt; DATA The current line will include the value of z = &lt;*&gt;</td>\n",
       "    </tr>\n",
       "  </tbody>\n",
       "</table>\n",
       "</div>"
      ],
      "text/plain": [
       "               Name         Base Pre-agg Value   Agg Post-agg Value     Tag  \\\n",
       "0   43e6c5b5_7+mean   43e6c5b5_7                mean                 x mean   \n",
       "1  f2e46af4_11+mean  f2e46af4_11                mean                 y mean   \n",
       "2  f98340b4_12+mean  f98340b4_12                mean                 z mean   \n",
       "\n",
       "   Base Variable Occurences Type  \\\n",
       "0                     10000  num   \n",
       "1                      5006  num   \n",
       "2                       115  num   \n",
       "\n",
       "                                                                                             Examples  \\\n",
       "0    [100.00285967800117, 100.81229891323964, 100.26016363495995, 199.4482406365968, 200.98748260974]   \n",
       "1  [200.1899632341074, 200.45898567905772, 399.6905765982258, 400.22712382793407, 400.08343040509993]   \n",
       "2                                                                                      [200.0, 100.0]   \n",
       "\n",
       "   From regex                                                  TemplateText  \n",
       "0       False                          <*0> DATA Short message with x = <*>  \n",
       "1       False          <*0> DATA This is a log message that reports y = <*>  \n",
       "2       False  <*0> DATA The current line will include the value of z = <*>  "
      ]
     },
     "execution_count": 8,
     "metadata": {},
     "output_type": "execute_result"
    }
   ],
   "source": [
    "s.prepared_variables"
   ]
  },
  {
   "cell_type": "markdown",
   "metadata": {},
   "source": [
    "This dataset can now serve as the input to LOGos's two human-in-the-loop modules."
   ]
  },
  {
   "cell_type": "markdown",
   "metadata": {},
   "source": [
    "## LOGos: Candidate Cause Ranker"
   ]
  },
  {
   "cell_type": "markdown",
   "metadata": {},
   "source": [
    "In this variable, we iteratively pick the variable that interests us and ask the system for candidate causes for it. Remember from our data generation process, that `y` appears to be roughly equal to `2x`, but that both `x` and `y` are in fact driven by the value of `z`:"
   ]
  },
  {
   "cell_type": "code",
   "execution_count": 9,
   "metadata": {},
   "outputs": [
    {
     "data": {
      "text/html": [
       "<div>\n",
       "<style scoped>\n",
       "    .dataframe tbody tr th:only-of-type {\n",
       "        vertical-align: middle;\n",
       "    }\n",
       "\n",
       "    .dataframe tbody tr th {\n",
       "        vertical-align: top;\n",
       "    }\n",
       "\n",
       "    .dataframe thead th {\n",
       "        text-align: right;\n",
       "    }\n",
       "</style>\n",
       "<table border=\"1\" class=\"dataframe\">\n",
       "  <thead>\n",
       "    <tr style=\"text-align: right;\">\n",
       "      <th></th>\n",
       "      <th>Candidate</th>\n",
       "      <th>Candidate Tag</th>\n",
       "      <th>Target Tag</th>\n",
       "      <th>Slope</th>\n",
       "      <th>P-value</th>\n",
       "      <th>Candidate-&gt;Target Edge Status</th>\n",
       "      <th>Target-&gt;Candidate Edge Status</th>\n",
       "    </tr>\n",
       "  </thead>\n",
       "  <tbody>\n",
       "    <tr>\n",
       "      <th>0</th>\n",
       "      <td>43e6c5b5_7+mean</td>\n",
       "      <td>x mean</td>\n",
       "      <td>y mean</td>\n",
       "      <td>1.999968</td>\n",
       "      <td>0.0</td>\n",
       "      <td>Undecided</td>\n",
       "      <td>Undecided</td>\n",
       "    </tr>\n",
       "    <tr>\n",
       "      <th>1</th>\n",
       "      <td>f98340b4_12+mean</td>\n",
       "      <td>z mean</td>\n",
       "      <td>y mean</td>\n",
       "      <td>2.000228</td>\n",
       "      <td>0.0</td>\n",
       "      <td>Undecided</td>\n",
       "      <td>Undecided</td>\n",
       "    </tr>\n",
       "  </tbody>\n",
       "</table>\n",
       "</div>"
      ],
      "text/plain": [
       "          Candidate Candidate Tag Target Tag     Slope  P-value  \\\n",
       "0   43e6c5b5_7+mean        x mean     y mean  1.999968      0.0   \n",
       "1  f98340b4_12+mean        z mean     y mean  2.000228      0.0   \n",
       "\n",
       "  Candidate->Target Edge Status Target->Candidate Edge Status  \n",
       "0                     Undecided                     Undecided  \n",
       "1                     Undecided                     Undecided  "
      ]
     },
     "execution_count": 9,
     "metadata": {},
     "output_type": "execute_result"
    }
   ],
   "source": [
    "ranking, latency = s.rank_candidate_causes('y mean')\n",
    "ranking"
   ]
  },
  {
   "cell_type": "markdown",
   "metadata": {},
   "source": [
    "As expected, the system cannot meaningfully distinguish between the impact of `x` and `z` on `y`, since `x` is essentially a slightly noisy version of `z`. Both are reported with similar relationship strengths. However, based on our domain knowledge, `x` is a more plausible cause of `y`, so we accept it into the graph:"
   ]
  },
  {
   "cell_type": "code",
   "execution_count": 10,
   "metadata": {},
   "outputs": [
    {
     "data": {
      "text/html": [
       "<img src=\"data:image/png;base64,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\" style=\"max-width: 100%; height: auto;\">"
      ],
      "text/plain": [
       "<IPython.core.display.HTML object>"
      ]
     },
     "metadata": {},
     "output_type": "display_data"
    },
    {
     "data": {
      "text/plain": [
       "(np.float64(0.3333333333333333), '43e6c5b5_7+mean', '')"
      ]
     },
     "execution_count": 10,
     "metadata": {},
     "output_type": "execute_result"
    }
   ],
   "source": [
    "s.accept('x mean', 'y mean')"
   ]
  },
  {
   "cell_type": "markdown",
   "metadata": {},
   "source": [
    "We can then use LOGos to calculate the average treatment effect of `x mean` on `y mean`:"
   ]
  },
  {
   "cell_type": "code",
   "execution_count": 11,
   "metadata": {},
   "outputs": [
    {
     "data": {
      "image/png": "[encoded data removed]",
      "text/latex": [
       "$\\displaystyle 1.9999681306084$"
      ],
      "text/plain": [
       "1.9999681306083983"
      ]
     },
     "execution_count": 11,
     "metadata": {},
     "output_type": "execute_result"
    }
   ],
   "source": [
    "s.get_adjusted_ate('x mean', 'y mean')"
   ]
  },
  {
   "cell_type": "markdown",
   "metadata": {},
   "source": [
    "## LOGos: Interactive Causal Graph Refiner"
   ]
  },
  {
   "cell_type": "markdown",
   "metadata": {},
   "source": [
    "However, accepting this ATE value would be still premature. There may be other log variables that confound the observed effect. To determine such variables, we can use the following function to receive pairs of variables into which we should take a closer look. We can then choose what edge, if any, to add between them. "
   ]
  },
  {
   "cell_type": "code",
   "execution_count": 12,
   "metadata": {},
   "outputs": [
    {
     "data": {
      "text/plain": [
       "('z mean', 'x mean')"
      ]
     },
     "execution_count": 12,
     "metadata": {},
     "output_type": "execute_result"
    }
   ],
   "source": [
    "(src,dst), latency = s.get_causal_graph_refinement_suggestion(treatment='x mean', outcome='y mean')\n",
    "(src,dst)"
   ]
  },
  {
   "cell_type": "code",
   "execution_count": 13,
   "metadata": {},
   "outputs": [
    {
     "data": {
      "text/html": [
       "<img src=\"data:image/png;base64,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\" style=\"max-width: 100%; height: auto;\">"
      ],
      "text/plain": [
       "<IPython.core.display.HTML object>"
      ]
     },
     "metadata": {},
     "output_type": "display_data"
    },
    {
     "data": {
      "text/plain": [
       "(np.float64(0.6666666666666666), 'f2e46af4_11+mean', '')"
      ]
     },
     "execution_count": 13,
     "metadata": {},
     "output_type": "execute_result"
    }
   ],
   "source": [
    "s.accept(src, dst)"
   ]
  },
  {
   "cell_type": "markdown",
   "metadata": {},
   "source": [
    "We can continue this process as long as we receive suggestions that lead to graph edits."
   ]
  },
  {
   "cell_type": "code",
   "execution_count": 14,
   "metadata": {},
   "outputs": [
    {
     "data": {
      "text/plain": [
       "('z mean', 'y mean')"
      ]
     },
     "execution_count": 14,
     "metadata": {},
     "output_type": "execute_result"
    }
   ],
   "source": [
    "(src,dst), latency = s.get_causal_graph_refinement_suggestion(treatment='x mean', outcome='y mean')\n",
    "(src,dst)"
   ]
  },
  {
   "cell_type": "code",
   "execution_count": 15,
   "metadata": {},
   "outputs": [
    {
     "data": {
      "text/html": [
       "<img src=\"data:image/png;base64,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\" style=\"max-width: 100%; height: auto;\">"
      ],
      "text/plain": [
       "<IPython.core.display.HTML object>"
      ]
     },
     "metadata": {},
     "output_type": "display_data"
    },
    {
     "data": {
      "text/plain": [
       "(np.float64(1.0), None, '')"
      ]
     },
     "execution_count": 15,
     "metadata": {},
     "output_type": "execute_result"
    }
   ],
   "source": [
    "s.accept(src, dst)"
   ]
  },
  {
   "cell_type": "markdown",
   "metadata": {},
   "source": [
    "We can then calculate the correctly adjusted ATE:"
   ]
  },
  {
   "cell_type": "code",
   "execution_count": 16,
   "metadata": {},
   "outputs": [
    {
     "data": {
      "image/png": "[encoded data removed]",
      "text/latex": [
       "$\\displaystyle -0.0003758076255167$"
      ],
      "text/plain": [
       "-0.00037580762551669977"
      ]
     },
     "execution_count": 16,
     "metadata": {},
     "output_type": "execute_result"
    }
   ],
   "source": [
    "s.get_adjusted_ate('x mean', 'y mean')"
   ]
  }
 ],
 "metadata": {
  "kernelspec": {
   "display_name": "Python 3",
   "language": "python",
   "name": "python3"
  },
  "language_info": {
   "codemirror_mode": {
    "name": "ipython",
    "version": 3
   },
   "file_extension": ".py",
   "mimetype": "text/x-python",
   "name": "python",
   "nbconvert_exporter": "python",
   "pygments_lexer": "ipython3",
   "version": "3.11.9"
  },
  "orig_nbformat": 4
 },
 "nbformat": 4,
 "nbformat_minor": 2
}
