{
 "cells": [
  {
   "cell_type": "markdown",
   "metadata": {},
   "source": [
    "# Welcome!\n",
    "\n",
    "This is a quick demo of LOGos - a system for processing logs to help extract causal insights!\n",
    "\n",
    "If you would like to take a fuller look at the API, you can read the documentation [here](https://mitdbg.github.io/logos)."
   ]
  },
  {
   "cell_type": "code",
   "execution_count": 2,
   "metadata": {},
   "outputs": [],
   "source": [
    "import sys\n",
    "sys.path.append(\"..\")\n",
    "from src.logos.logos import LOGos"
   ]
  },
  {
   "cell_type": "markdown",
   "metadata": {},
   "source": [
    "## The Log\n",
    "\n",
    "For this demo, we will analyze a simple a synthetic log, stored at `demo/demo.log`. This log contains three different log line *templates*, each of which reports the value of one of the variables `x`, `y` and `z`. Here is an example of each line:\n",
    "\n",
    "```\n",
    "2023-03-14T20:55:49.234591Z DATA The current line will include the value of z = 100.0\n",
    "2023-03-14T20:55:49.233591Z DATA Short message with x = 199.05342369055703\n",
    "2023-03-14T20:55:49.232591Z DATA This is a log message that reports y = 399.82103707673997\n",
    "```\n",
    "\n",
    "Each millisecond, we decide whether or not to \"flip\" the value of `z` between 100 and 200, with probability `1%`. If we end up flipping it, we print a log line that reports the new value (first template above).\n",
    "\n",
    "Each millisecond, we print the value of `x` (second template above), which is generated each time by taking the most recent value of `z` and adding random noise in `[-1,1]`.\n",
    "\n",
    "Finally, each millisecond we print the value of `y` with probability `50%`(third template above). The value of `y` is generated each time by taking the most recent value of `z`, multiplying it by `2` and adding random noise in `[-1,1]`.\n",
    "\n",
    "Our objective is to find what is causing the variation in `y`, while appropriately adjusting for any confounders.\n"
   ]
  },
  {
   "cell_type": "markdown",
   "metadata": {},
   "source": [
    "## LOGos: Log Converter"
   ]
  },
  {
   "cell_type": "markdown",
   "metadata": {},
   "source": [
    "Let's create a LOGos instance and initialize it with the path to the log above."
   ]
  },
  {
   "cell_type": "code",
   "execution_count": 3,
   "metadata": {},
   "outputs": [],
   "source": [
    "s = LOGos(\"demo.log\", workdir='.', skip_writeout=True)"
   ]
  },
  {
   "cell_type": "markdown",
   "metadata": {},
   "source": [
    "### Parsing and tagging variables"
   ]
  },
  {
   "cell_type": "markdown",
   "metadata": {},
   "source": [
    "We can call the `parse()` function to parse the log into a table using the [Drain](https://logparser.readthedocs.io/en/latest/tools/Drain.html) algorithm. \n",
    "\n",
    "The Drain algorithm can first extract named variables from each log line using regular expressions. By default, LOGos provides a single regular expression to capture timestamps in the format shown above, naming the resulting field `Timestamp`, but users can parse additional regular expressions to the `parse()` call as a dictionary, via the `regex_dict` parameter.\n",
    "\n",
    "Then, the Drain algorithm separated log lines into \"templates\" and \"variables\", based on the similarity of each new line to the lines seen before it. You can find more information in the paper."
   ]
  },
  {
   "cell_type": "code",
   "execution_count": 4,
   "metadata": {},
   "outputs": [
    {
     "name": "stderr",
     "output_type": "stream",
     "text": [
      "Reading and tokenizing log lines...: 100%|██████████| 15121/15121 [00:00<00:00, 35360.39it/s]\n",
      "Determining template for each line...: 100%|██████████| 15121/15121 [00:00<00:00, 97791.02it/s] \n",
      "Extracting variables from each log message...: 100%|██████████| 3/3 [00:00<00:00, 133.33it/s]\n",
      "Determining variable types...: 100%|██████████| 4/4 [00:00<00:00, 972.09it/s]\n",
      "Casting date variables...: 100%|██████████| 1/1 [00:00<00:00, 67.42it/s]\n",
      "Casting date variables round 2...:   0%|          | 0/15121 [00:00<?, ?it/s]/home/markakis/markos-3.11.9-venv/lib/python3.11/site-packages/tqdm/std.py:917: FutureWarning: DataFrame.applymap has been deprecated. Use DataFrame.map instead.\n",
      "  return getattr(df, df_function)(wrapper, **kwargs)\n",
      "Casting date variables round 2...: 100%|██████████| 15121/15121 [00:00<00:00, 307932.43it/s]\n",
      "Casting time variables...: 1it [00:00, 2056.03it/s]\n",
      "Casting time variables round 2...: 0it [00:00, ?it/s]/home/markakis/markos-3.11.9-venv/lib/python3.11/site-packages/tqdm/std.py:917: FutureWarning: DataFrame.applymap has been deprecated. Use DataFrame.map instead.\n",
      "  return getattr(df, df_function)(wrapper, **kwargs)\n",
      "Casting time variables round 2...: 0it [00:00, ?it/s]\n",
      "Casting numerical variables...: 100%|██████████| 4/4 [00:00<00:00, 541.25it/s]\n",
      "Tagging variables...: 100%|██████████| 4/4 [00:00<00:00, 5178.15it/s]\n",
      "Detecting identifiers...: 100%|██████████| 4/4 [00:00<00:00, 1714.23it/s]\n"
     ]
    },
    {
     "data": {
      "text/html": [
       "<div>\n",
       "<style scoped>\n",
       "    .dataframe tbody tr th:only-of-type {\n",
       "        vertical-align: middle;\n",
       "    }\n",
       "\n",
       "    .dataframe tbody tr th {\n",
       "        vertical-align: top;\n",
       "    }\n",
       "\n",
       "    .dataframe thead th {\n",
       "        text-align: right;\n",
       "    }\n",
       "</style>\n",
       "<table border=\"1\" class=\"dataframe\">\n",
       "  <thead>\n",
       "    <tr style=\"text-align: right;\">\n",
       "      <th></th>\n",
       "      <th>TemplateId</th>\n",
       "      <th>Timestamp</th>\n",
       "      <th>43e6c5b5_7</th>\n",
       "      <th>f2e46af4_11</th>\n",
       "      <th>f98340b4_12</th>\n",
       "    </tr>\n",
       "  </thead>\n",
       "  <tbody>\n",
       "    <tr>\n",
       "      <th>0</th>\n",
       "      <td>43e6c5b5</td>\n",
       "      <td>1.678827e+09</td>\n",
       "      <td>100.002860</td>\n",
       "      <td>NaN</td>\n",
       "      <td>NaN</td>\n",
       "    </tr>\n",
       "    <tr>\n",
       "      <th>1</th>\n",
       "      <td>f2e46af4</td>\n",
       "      <td>1.678827e+09</td>\n",
       "      <td>NaN</td>\n",
       "      <td>200.189963</td>\n",
       "      <td>NaN</td>\n",
       "    </tr>\n",
       "    <tr>\n",
       "      <th>2</th>\n",
       "      <td>43e6c5b5</td>\n",
       "      <td>1.678827e+09</td>\n",
       "      <td>100.812299</td>\n",
       "      <td>NaN</td>\n",
       "      <td>NaN</td>\n",
       "    </tr>\n",
       "    <tr>\n",
       "      <th>3</th>\n",
       "      <td>f2e46af4</td>\n",
       "      <td>1.678827e+09</td>\n",
       "      <td>NaN</td>\n",
       "      <td>200.458986</td>\n",
       "      <td>NaN</td>\n",
       "    </tr>\n",
       "    <tr>\n",
       "      <th>4</th>\n",
       "      <td>43e6c5b5</td>\n",
       "      <td>1.678827e+09</td>\n",
       "      <td>100.260164</td>\n",
       "      <td>NaN</td>\n",
       "      <td>NaN</td>\n",
       "    </tr>\n",
       "  </tbody>\n",
       "</table>\n",
       "</div>"
      ],
      "text/plain": [
       "  TemplateId     Timestamp  43e6c5b5_7  f2e46af4_11  f98340b4_12\n",
       "0   43e6c5b5  1.678827e+09  100.002860          NaN          NaN\n",
       "1   f2e46af4  1.678827e+09         NaN   200.189963          NaN\n",
       "2   43e6c5b5  1.678827e+09  100.812299          NaN          NaN\n",
       "3   f2e46af4  1.678827e+09         NaN   200.458986          NaN\n",
       "4   43e6c5b5  1.678827e+09  100.260164          NaN          NaN"
      ]
     },
     "execution_count": 4,
     "metadata": {},
     "output_type": "execute_result"
    }
   ],
   "source": [
    "s.parse()\n",
    "s.parsed_log.head()"
   ]
  },
  {
   "cell_type": "markdown",
   "metadata": {},
   "source": [
    "Let's take a look at the extracted templates. Indeed, Drain has detected the three templates in the synthetic log. Each template is given a hash-based template ID. For each template, we see that a variable has been detected (at word indices 7, 11 and 12, respectively) and replaced with `<*>` in the template text. \n",
    "\n",
    "For each template, we also got a regular expression match at index 0, corresponding to the regular expression that matches timestamps. The timestamps were correspondingly replaced by `<*0>`, since that was the 0th (and only) regular expression we provided."
   ]
  },
  {
   "cell_type": "code",
   "execution_count": 5,
   "metadata": {},
   "outputs": [
    {
     "data": {
      "text/html": [
       "<div>\n",
       "<style scoped>\n",
       "    .dataframe tbody tr th:only-of-type {\n",
       "        vertical-align: middle;\n",
       "    }\n",
       "\n",
       "    .dataframe tbody tr th {\n",
       "        vertical-align: top;\n",
       "    }\n",
       "\n",
       "    .dataframe thead th {\n",
       "        text-align: right;\n",
       "    }\n",
       "</style>\n",
       "<table border=\"1\" class=\"dataframe\">\n",
       "  <thead>\n",
       "    <tr style=\"text-align: right;\">\n",
       "      <th></th>\n",
       "      <th>TemplateText</th>\n",
       "      <th>TemplateId</th>\n",
       "      <th>VariableIndices</th>\n",
       "      <th>RegexIndices</th>\n",
       "      <th>TemplateExample</th>\n",
       "      <th>Occurrences</th>\n",
       "    </tr>\n",
       "  </thead>\n",
       "  <tbody>\n",
       "    <tr>\n",
       "      <th>0</th>\n",
       "      <td>&lt;*0&gt; DATA Short message with x = &lt;*&gt;</td>\n",
       "      <td>43e6c5b5</td>\n",
       "      <td>[7]</td>\n",
       "      <td>[0]</td>\n",
       "      <td>&lt;*0&gt; DATA Short message with x  =  100.0028596...</td>\n",
       "      <td>10000</td>\n",
       "    </tr>\n",
       "    <tr>\n",
       "      <th>1</th>\n",
       "      <td>&lt;*0&gt; DATA This is a log message that reports y...</td>\n",
       "      <td>f2e46af4</td>\n",
       "      <td>[11]</td>\n",
       "      <td>[0]</td>\n",
       "      <td>&lt;*0&gt; DATA This is a log message that reports y...</td>\n",
       "      <td>5006</td>\n",
       "    </tr>\n",
       "    <tr>\n",
       "      <th>2</th>\n",
       "      <td>&lt;*0&gt; DATA The current line will include the va...</td>\n",
       "      <td>f98340b4</td>\n",
       "      <td>[12]</td>\n",
       "      <td>[0]</td>\n",
       "      <td>&lt;*0&gt; DATA The current line will include the va...</td>\n",
       "      <td>115</td>\n",
       "    </tr>\n",
       "  </tbody>\n",
       "</table>\n",
       "</div>"
      ],
      "text/plain": [
       "                                        TemplateText TemplateId  \\\n",
       "0               <*0> DATA Short message with x = <*>   43e6c5b5   \n",
       "1  <*0> DATA This is a log message that reports y...   f2e46af4   \n",
       "2  <*0> DATA The current line will include the va...   f98340b4   \n",
       "\n",
       "  VariableIndices RegexIndices  \\\n",
       "0             [7]          [0]   \n",
       "1            [11]          [0]   \n",
       "2            [12]          [0]   \n",
       "\n",
       "                                     TemplateExample  Occurrences  \n",
       "0  <*0> DATA Short message with x  =  100.0028596...        10000  \n",
       "1  <*0> DATA This is a log message that reports y...         5006  \n",
       "2  <*0> DATA The current line will include the va...          115  "
      ]
     },
     "execution_count": 5,
     "metadata": {},
     "output_type": "execute_result"
    }
   ],
   "source": [
    "s.parsed_templates"
   ]
  },
  {
   "cell_type": "markdown",
   "metadata": {},
   "source": [
    "We can also look at the extracted variables. For variables that were extracted via a regular expression, like the timestamp, the user has already provided a name (in this case, `Timestamp`). For the rest, a variable name is generated from the corresponding template ID and the index that the variable appear in, within the template. For each variable, we also report the preceding 3 tokens and some example values. \n",
    "\n",
    "Since the automatically-generated names are not meaningful, we also allow for each variable to carry a tag. Initial values of these tags are guessed from the preceding tokens of each variable, or using language models. However, the user can also manually edit these tags later on. You can find more information in our paper."
   ]
  },
  {
   "cell_type": "code",
   "execution_count": 6,
   "metadata": {},
   "outputs": [
    {
     "data": {
      "text/html": [
       "<div>\n",
       "<style scoped>\n",
       "    .dataframe tbody tr th:only-of-type {\n",
       "        vertical-align: middle;\n",
       "    }\n",
       "\n",
       "    .dataframe tbody tr th {\n",
       "        vertical-align: top;\n",
       "    }\n",
       "\n",
       "    .dataframe thead th {\n",
       "        text-align: right;\n",
       "    }\n",
       "</style>\n",
       "<table border=\"1\" class=\"dataframe\">\n",
       "  <thead>\n",
       "    <tr style=\"text-align: right;\">\n",
       "      <th></th>\n",
       "      <th>Name</th>\n",
       "      <th>Tag</th>\n",
       "      <th>TagOrigin</th>\n",
       "      <th>Type</th>\n",
       "      <th>IsUninteresting</th>\n",
       "      <th>Occurrences</th>\n",
       "      <th>Preceding 3 tokens</th>\n",
       "      <th>Examples</th>\n",
       "      <th>From regex</th>\n",
       "    </tr>\n",
       "  </thead>\n",
       "  <tbody>\n",
       "    <tr>\n",
       "      <th>0</th>\n",
       "      <td>Timestamp</td>\n",
       "      <td>Timestamp</td>\n",
       "      <td>4</td>\n",
       "      <td>num</td>\n",
       "      <td>False</td>\n",
       "      <td>15121</td>\n",
       "      <td>[]</td>\n",
       "      <td>[2023-03-14T20:55:49.165591Z, 2023-03-14T20:55...</td>\n",
       "      <td>True</td>\n",
       "    </tr>\n",
       "    <tr>\n",
       "      <th>1</th>\n",
       "      <td>43e6c5b5_7</td>\n",
       "      <td>x</td>\n",
       "      <td>0</td>\n",
       "      <td>num</td>\n",
       "      <td>False</td>\n",
       "      <td>10000</td>\n",
       "      <td>[with, x, =]</td>\n",
       "      <td>[100.00285967800117, 100.81229891323964, 100.2...</td>\n",
       "      <td>False</td>\n",
       "    </tr>\n",
       "    <tr>\n",
       "      <th>2</th>\n",
       "      <td>f2e46af4_11</td>\n",
       "      <td>y</td>\n",
       "      <td>0</td>\n",
       "      <td>num</td>\n",
       "      <td>False</td>\n",
       "      <td>5006</td>\n",
       "      <td>[reports, y, =]</td>\n",
       "      <td>[200.1899632341074, 200.45898567905772, 399.69...</td>\n",
       "      <td>False</td>\n",
       "    </tr>\n",
       "    <tr>\n",
       "      <th>3</th>\n",
       "      <td>f98340b4_12</td>\n",
       "      <td>z</td>\n",
       "      <td>0</td>\n",
       "      <td>num</td>\n",
       "      <td>False</td>\n",
       "      <td>115</td>\n",
       "      <td>[of, z, =]</td>\n",
       "      <td>[200.0, 100.0]</td>\n",
       "      <td>False</td>\n",
       "    </tr>\n",
       "  </tbody>\n",
       "</table>\n",
       "</div>"
      ],
      "text/plain": [
       "          Name        Tag  TagOrigin Type  IsUninteresting  Occurrences  \\\n",
       "0    Timestamp  Timestamp          4  num            False        15121   \n",
       "1   43e6c5b5_7          x          0  num            False        10000   \n",
       "2  f2e46af4_11          y          0  num            False         5006   \n",
       "3  f98340b4_12          z          0  num            False          115   \n",
       "\n",
       "  Preceding 3 tokens                                           Examples  \\\n",
       "0                 []  [2023-03-14T20:55:49.165591Z, 2023-03-14T20:55...   \n",
       "1       [with, x, =]  [100.00285967800117, 100.81229891323964, 100.2...   \n",
       "2    [reports, y, =]  [200.1899632341074, 200.45898567905772, 399.69...   \n",
       "3         [of, z, =]                                     [200.0, 100.0]   \n",
       "\n",
       "   From regex  \n",
       "0        True  \n",
       "1       False  \n",
       "2       False  \n",
       "3       False  "
      ]
     },
     "execution_count": 6,
     "metadata": {},
     "output_type": "execute_result"
    }
   ],
   "source": [
    "s.parsed_variables"
   ]
  },
  {
   "cell_type": "markdown",
   "metadata": {},
   "source": [
    "### Defining the causal unit and aggregating"
   ]
  },
  {
   "cell_type": "markdown",
   "metadata": {},
   "source": [
    "To continue our analysis, we would like to structure and complete the parsed information to form \"causal units\", which will be the units on which our causal analysis will be performed. If we think of causality in other contexts, the causal units could be patients in a medical context, or individuals in an economic/social study.\n",
    "\n",
    "Causal units are defined by one of the available attributes. In a medical context, this could be \"patient name\". In a systems context, we could pick one of the variables parsed from the log. This decision should come from the user's domain knowledge.  The user can then call `set_causal_unit()`. For example, the call below indicates that each causal unit should be a `1 ms`-long time interval (not that this choice may not be appropriate in every setting):"
   ]
  },
  {
   "cell_type": "code",
   "execution_count": 7,
   "metadata": {},
   "outputs": [],
   "source": [
    "s.set_causal_unit(\"Timestamp\", num_units=10000)"
   ]
  },
  {
   "cell_type": "markdown",
   "metadata": {},
   "source": [
    "Given the causal unit, we can then ask Sawmill to perpare the log for analysis by using `prepare()`. Preparing the log involves two distinct tasks:\n",
    "\n",
    "1. Aggregation: Based on our choice of causal unit, there might be variables that take a multitude of values on different log lines associated with the same causal unit. For example, had we chosen a 10ms window as our causal unit, there would have been 10 lines reporting values of `x`. From this multitude of values, a fixed set of values must be derived (e.g. we could always keep the mean, or the last value seen). By default, Sawmill will generate the `min`, `max` and `mean` for numerical variables; the most recent value for string variables; and the least recent value for date-typed variables.\n",
    "\n",
    "2. Imputation: On the other end of the spectrum, there might be variables that are never observed within some causal unit. For example, `z` is only reported every approximately `100 ms`, so it should be missing most of the time, if our causal unit is a `1 ms` window. Whether and how to impute such missing values is application-dependent, since we must avoid information leakage from one causal unit to another or risk violating SUTVA. In this case, we know that `z` should be interpreted as a \"sticky\" value, but `x` and `y` should not be imputed.\n",
    "\n",
    "After aggregating and imputing, we drop any causal units that still have missing values."
   ]
  },
  {
   "cell_type": "code",
   "execution_count": 8,
   "metadata": {},
   "outputs": [
    {
     "name": "stderr",
     "output_type": "stream",
     "text": [
      "Imputing missing values...: 100%|██████████| 9/9 [00:00<00:00, 3004.99it/s]\n",
      "One-hot encoding categorical variables...: 0it [00:00, ?it/s]\n"
     ]
    },
    {
     "data": {
      "text/html": [
       "<div>\n",
       "<style scoped>\n",
       "    .dataframe tbody tr th:only-of-type {\n",
       "        vertical-align: middle;\n",
       "    }\n",
       "\n",
       "    .dataframe tbody tr th {\n",
       "        vertical-align: top;\n",
       "    }\n",
       "\n",
       "    .dataframe thead th {\n",
       "        text-align: right;\n",
       "    }\n",
       "</style>\n",
       "<table border=\"1\" class=\"dataframe\">\n",
       "  <thead>\n",
       "    <tr style=\"text-align: right;\">\n",
       "      <th></th>\n",
       "      <th>43e6c5b5_7+mean</th>\n",
       "      <th>f2e46af4_11+mean</th>\n",
       "      <th>f98340b4_12+mean</th>\n",
       "    </tr>\n",
       "    <tr>\n",
       "      <th>Timestamp+max</th>\n",
       "      <th></th>\n",
       "      <th></th>\n",
       "      <th></th>\n",
       "    </tr>\n",
       "  </thead>\n",
       "  <tbody>\n",
       "    <tr>\n",
       "      <th>1678827349.170591</th>\n",
       "      <td>199.659262</td>\n",
       "      <td>399.690577</td>\n",
       "      <td>200.0</td>\n",
       "    </tr>\n",
       "    <tr>\n",
       "      <th>1678827349.173591</th>\n",
       "      <td>199.755998</td>\n",
       "      <td>400.227124</td>\n",
       "      <td>200.0</td>\n",
       "    </tr>\n",
       "    <tr>\n",
       "      <th>1678827349.175591</th>\n",
       "      <td>200.098576</td>\n",
       "      <td>400.083430</td>\n",
       "      <td>200.0</td>\n",
       "    </tr>\n",
       "    <tr>\n",
       "      <th>1678827349.178591</th>\n",
       "      <td>200.158634</td>\n",
       "      <td>399.188180</td>\n",
       "      <td>200.0</td>\n",
       "    </tr>\n",
       "    <tr>\n",
       "      <th>1678827349.179591</th>\n",
       "      <td>200.934658</td>\n",
       "      <td>400.514334</td>\n",
       "      <td>200.0</td>\n",
       "    </tr>\n",
       "    <tr>\n",
       "      <th>1678827349.181591</th>\n",
       "      <td>199.626578</td>\n",
       "      <td>399.894171</td>\n",
       "      <td>200.0</td>\n",
       "    </tr>\n",
       "    <tr>\n",
       "      <th>1678827349.182591</th>\n",
       "      <td>200.937334</td>\n",
       "      <td>400.577257</td>\n",
       "      <td>200.0</td>\n",
       "    </tr>\n",
       "    <tr>\n",
       "      <th>1678827349.183591</th>\n",
       "      <td>199.831092</td>\n",
       "      <td>399.077464</td>\n",
       "      <td>200.0</td>\n",
       "    </tr>\n",
       "    <tr>\n",
       "      <th>1678827349.188591</th>\n",
       "      <td>199.372097</td>\n",
       "      <td>399.650472</td>\n",
       "      <td>200.0</td>\n",
       "    </tr>\n",
       "    <tr>\n",
       "      <th>1678827349.193591</th>\n",
       "      <td>200.476665</td>\n",
       "      <td>400.613001</td>\n",
       "      <td>200.0</td>\n",
       "    </tr>\n",
       "  </tbody>\n",
       "</table>\n",
       "</div>"
      ],
      "text/plain": [
       "                   43e6c5b5_7+mean  f2e46af4_11+mean  f98340b4_12+mean\n",
       "Timestamp+max                                                         \n",
       "1678827349.170591       199.659262        399.690577             200.0\n",
       "1678827349.173591       199.755998        400.227124             200.0\n",
       "1678827349.175591       200.098576        400.083430             200.0\n",
       "1678827349.178591       200.158634        399.188180             200.0\n",
       "1678827349.179591       200.934658        400.514334             200.0\n",
       "1678827349.181591       199.626578        399.894171             200.0\n",
       "1678827349.182591       200.937334        400.577257             200.0\n",
       "1678827349.183591       199.831092        399.077464             200.0\n",
       "1678827349.188591       199.372097        399.650472             200.0\n",
       "1678827349.193591       200.476665        400.613001             200.0"
      ]
     },
     "execution_count": 8,
     "metadata": {},
     "output_type": "execute_result"
    }
   ],
   "source": [
    "imputation_functions = {'z': 'ffill_imp'}\n",
    "aggregation_functions = {'Timestamp': ['max']}\n",
    "s.prepare(custom_agg=aggregation_functions, custom_imp=imputation_functions, force=True)\n",
    "s.prepared_log.head(10)"
   ]
  },
  {
   "cell_type": "code",
   "execution_count": 9,
   "metadata": {},
   "outputs": [
    {
     "data": {
      "text/html": [
       "<div>\n",
       "<style scoped>\n",
       "    .dataframe tbody tr th:only-of-type {\n",
       "        vertical-align: middle;\n",
       "    }\n",
       "\n",
       "    .dataframe tbody tr th {\n",
       "        vertical-align: top;\n",
       "    }\n",
       "\n",
       "    .dataframe thead th {\n",
       "        text-align: right;\n",
       "    }\n",
       "</style>\n",
       "<table border=\"1\" class=\"dataframe\">\n",
       "  <thead>\n",
       "    <tr style=\"text-align: right;\">\n",
       "      <th></th>\n",
       "      <th>Name</th>\n",
       "      <th>Base</th>\n",
       "      <th>Pre-agg Value</th>\n",
       "      <th>Agg</th>\n",
       "      <th>Post-agg Value</th>\n",
       "      <th>Tag</th>\n",
       "      <th>Base Variable Occurences</th>\n",
       "      <th>Type</th>\n",
       "      <th>Examples</th>\n",
       "      <th>From regex</th>\n",
       "      <th>TemplateText</th>\n",
       "    </tr>\n",
       "  </thead>\n",
       "  <tbody>\n",
       "    <tr>\n",
       "      <th>0</th>\n",
       "      <td>43e6c5b5_7+mean</td>\n",
       "      <td>43e6c5b5_7</td>\n",
       "      <td></td>\n",
       "      <td>mean</td>\n",
       "      <td></td>\n",
       "      <td>x mean</td>\n",
       "      <td>10000</td>\n",
       "      <td>num</td>\n",
       "      <td>[100.00285967800117, 100.81229891323964, 100.2...</td>\n",
       "      <td>False</td>\n",
       "      <td>&lt;*0&gt; DATA Short message with x = &lt;*&gt;</td>\n",
       "    </tr>\n",
       "    <tr>\n",
       "      <th>1</th>\n",
       "      <td>f2e46af4_11+mean</td>\n",
       "      <td>f2e46af4_11</td>\n",
       "      <td></td>\n",
       "      <td>mean</td>\n",
       "      <td></td>\n",
       "      <td>y mean</td>\n",
       "      <td>5006</td>\n",
       "      <td>num</td>\n",
       "      <td>[200.1899632341074, 200.45898567905772, 399.69...</td>\n",
       "      <td>False</td>\n",
       "      <td>&lt;*0&gt; DATA This is a log message that reports y...</td>\n",
       "    </tr>\n",
       "    <tr>\n",
       "      <th>2</th>\n",
       "      <td>f98340b4_12+mean</td>\n",
       "      <td>f98340b4_12</td>\n",
       "      <td></td>\n",
       "      <td>mean</td>\n",
       "      <td></td>\n",
       "      <td>z mean</td>\n",
       "      <td>115</td>\n",
       "      <td>num</td>\n",
       "      <td>[200.0, 100.0]</td>\n",
       "      <td>False</td>\n",
       "      <td>&lt;*0&gt; DATA The current line will include the va...</td>\n",
       "    </tr>\n",
       "  </tbody>\n",
       "</table>\n",
       "</div>"
      ],
      "text/plain": [
       "               Name         Base Pre-agg Value   Agg Post-agg Value     Tag  \\\n",
       "0   43e6c5b5_7+mean   43e6c5b5_7                mean                 x mean   \n",
       "1  f2e46af4_11+mean  f2e46af4_11                mean                 y mean   \n",
       "2  f98340b4_12+mean  f98340b4_12                mean                 z mean   \n",
       "\n",
       "   Base Variable Occurences Type  \\\n",
       "0                     10000  num   \n",
       "1                      5006  num   \n",
       "2                       115  num   \n",
       "\n",
       "                                            Examples  From regex  \\\n",
       "0  [100.00285967800117, 100.81229891323964, 100.2...       False   \n",
       "1  [200.1899632341074, 200.45898567905772, 399.69...       False   \n",
       "2                                     [200.0, 100.0]       False   \n",
       "\n",
       "                                        TemplateText  \n",
       "0               <*0> DATA Short message with x = <*>  \n",
       "1  <*0> DATA This is a log message that reports y...  \n",
       "2  <*0> DATA The current line will include the va...  "
      ]
     },
     "execution_count": 9,
     "metadata": {},
     "output_type": "execute_result"
    }
   ],
   "source": [
    "s.prepared_variables"
   ]
  },
  {
   "cell_type": "markdown",
   "metadata": {},
   "source": [
    "This dataset can now serve as the input to LOGos's two human-in-the-loop modules."
   ]
  },
  {
   "cell_type": "markdown",
   "metadata": {},
   "source": [
    "## LOGos: Candidate Cause Ranker"
   ]
  },
  {
   "cell_type": "markdown",
   "metadata": {},
   "source": [
    "In this variable, we iteratively pick the variable that interests us and ask the system for candidate causes for it. Remember from our data generation process, that `y` appears to be roughly equal to `2x`, but that both `x` and `y` are in fact driven by the value of `z`:"
   ]
  },
  {
   "cell_type": "code",
   "execution_count": 10,
   "metadata": {},
   "outputs": [
    {
     "data": {
      "text/html": [
       "<div>\n",
       "<style scoped>\n",
       "    .dataframe tbody tr th:only-of-type {\n",
       "        vertical-align: middle;\n",
       "    }\n",
       "\n",
       "    .dataframe tbody tr th {\n",
       "        vertical-align: top;\n",
       "    }\n",
       "\n",
       "    .dataframe thead th {\n",
       "        text-align: right;\n",
       "    }\n",
       "</style>\n",
       "<table border=\"1\" class=\"dataframe\">\n",
       "  <thead>\n",
       "    <tr style=\"text-align: right;\">\n",
       "      <th></th>\n",
       "      <th>Candidate</th>\n",
       "      <th>Candidate Tag</th>\n",
       "      <th>Target Tag</th>\n",
       "      <th>Slope</th>\n",
       "      <th>P-value</th>\n",
       "      <th>Candidate-&gt;Target Edge Status</th>\n",
       "      <th>Target-&gt;Candidate Edge Status</th>\n",
       "    </tr>\n",
       "  </thead>\n",
       "  <tbody>\n",
       "    <tr>\n",
       "      <th>0</th>\n",
       "      <td>43e6c5b5_7+mean</td>\n",
       "      <td>x mean</td>\n",
       "      <td>y mean</td>\n",
       "      <td>1.999968</td>\n",
       "      <td>0.0</td>\n",
       "      <td>Undecided</td>\n",
       "      <td>Undecided</td>\n",
       "    </tr>\n",
       "    <tr>\n",
       "      <th>1</th>\n",
       "      <td>f98340b4_12+mean</td>\n",
       "      <td>z mean</td>\n",
       "      <td>y mean</td>\n",
       "      <td>2.000228</td>\n",
       "      <td>0.0</td>\n",
       "      <td>Undecided</td>\n",
       "      <td>Undecided</td>\n",
       "    </tr>\n",
       "  </tbody>\n",
       "</table>\n",
       "</div>"
      ],
      "text/plain": [
       "          Candidate Candidate Tag Target Tag     Slope  P-value  \\\n",
       "0   43e6c5b5_7+mean        x mean     y mean  1.999968      0.0   \n",
       "1  f98340b4_12+mean        z mean     y mean  2.000228      0.0   \n",
       "\n",
       "  Candidate->Target Edge Status Target->Candidate Edge Status  \n",
       "0                     Undecided                     Undecided  \n",
       "1                     Undecided                     Undecided  "
      ]
     },
     "execution_count": 10,
     "metadata": {},
     "output_type": "execute_result"
    }
   ],
   "source": [
    "ranking, latency = s.rank_candidate_causes('y mean')\n",
    "ranking"
   ]
  },
  {
   "cell_type": "markdown",
   "metadata": {},
   "source": [
    "As expected, the system cannot meaningfully distinguish between the impact of `x` and `z` on `y`, since `x` is essentially a slightly noisy version of `z`. Both are reported with similar relationship strengths. However, based on our domain knowledge, `x` is a more plausible cause of `y`, so we accept it into the graph:"
   ]
  },
  {
   "cell_type": "code",
   "execution_count": 11,
   "metadata": {},
   "outputs": [
    {
     "data": {
      "text/html": [
       "<img src=\"data:image/png;base64,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\" style=\"max-width: 100%; height: auto;\">"
      ],
      "text/plain": [
       "<IPython.core.display.HTML object>"
      ]
     },
     "metadata": {},
     "output_type": "display_data"
    },
    {
     "data": {
      "text/plain": [
       "(np.float64(0.3333333333333333), '43e6c5b5_7+mean', '')"
      ]
     },
     "execution_count": 11,
     "metadata": {},
     "output_type": "execute_result"
    }
   ],
   "source": [
    "s.accept('x mean', 'y mean')"
   ]
  },
  {
   "cell_type": "markdown",
   "metadata": {},
   "source": [
    "We can then use LOGos to calculate the average treatment effect of `x mean` on `y mean`:"
   ]
  },
  {
   "cell_type": "code",
   "execution_count": 12,
   "metadata": {},
   "outputs": [
    {
     "data": {
      "image/png": "[encoded data removed]",
      "text/latex": [
       "$\\displaystyle 1.9999681306084$"
      ],
      "text/plain": [
       "1.9999681306083983"
      ]
     },
     "execution_count": 12,
     "metadata": {},
     "output_type": "execute_result"
    }
   ],
   "source": [
    "s.get_adjusted_ate('x mean', 'y mean')"
   ]
  },
  {
   "cell_type": "markdown",
   "metadata": {},
   "source": [
    "## LOGos: Interactive Causal Graph Refiner"
   ]
  },
  {
   "cell_type": "markdown",
   "metadata": {},
   "source": [
    "However, accepting this ATE value would be still premature. There may be other log variables that confound the observed effect. To determine such variables, we can use the following function to receive pairs of variables into which we should take a closer look. We can then choose what edge, if any, to add between them. "
   ]
  },
  {
   "cell_type": "code",
   "execution_count": 13,
   "metadata": {},
   "outputs": [
    {
     "data": {
      "text/plain": [
       "('z mean', 'x mean')"
      ]
     },
     "execution_count": 13,
     "metadata": {},
     "output_type": "execute_result"
    }
   ],
   "source": [
    "(src,dst), latency = s.get_causal_graph_refinement_suggestion(treatment='x mean', outcome='y mean')\n",
    "(src,dst)"
   ]
  },
  {
   "cell_type": "code",
   "execution_count": 14,
   "metadata": {},
   "outputs": [
    {
     "data": {
      "text/html": [
       "<img src=\"data:image/png;base64,iVBORw0KGgoAAAANSUhEUgAAAoAAAAHgCAYAAAA10dzkAAAAOXRFWHRTb2Z0d2FyZQBNYXRwbG90bGliIHZlcnNpb24zLjkuMSwgaHR0cHM6Ly9tYXRwbG90bGliLm9yZy/TGe4hAAAACXBIWXMAAA9hAAAPYQGoP6dpAABClklEQVR4nO3deXxUhbn/8e9Mksm+ErIStixAQiAIKPsiqwugFRXQStW2auvyu+1t7Utr9bq0arXaXutGe6tVREQQUFA2lU1RtrAkgbAkgQRIAoHsyWRmzu+PyKHUpYAkk+R83v9UnplJnvNSkm+fc55zbIZhGAIAAIBl2L3dAAAAAFoXARAAAMBiCIAAAAAWQwAEAACwGAIgAACAxRAAAQAALIYACAAAYDEEQAAAAIshAAIAAFgMARAAAMBiCIAAAAAWQwAEAACwGAIgAACAxRAAAQAALIYACAAAYDEEQAAAAIshAAIAAFgMARAAAMBiCIAAAAAWQwAEAACwGAIgAACAxRAAAQAALIYACAAAYDEEQAAAAIshAAIAAFgMARAAAMBiCIAAAAAWQwAEAACwGAIgAACAxRAAAQAALIYACAAAYDEEQAAAAIshAAIAAFgMARAAAMBiCIAAAAAWQwAEAACwGAIgAACAxRAAAQAALIYACAAAYDEEQAAAAIshAAIAAFgMARAAAMBiCIAAAAAWQwAEAACwGAIgAACAxRAAAQAALIYACAAAYDEEQAAAAIshAAIAAFgMARAAAMBiCIAAAAAWQwAEAACwGAIgAACAxRAAAQAALIYACAAAYDEEQAAAAIshAAIAAFgMARAAAMBiCIAAAAAWQwAEAACwGAIgAACAxRAAAQAALIYACAAAYDEEQAAAAIshAAIAAFgMARAAAMBiCIAAAAAWQwAEAACwGAIgAACAxRAAAQAALMbX2w0AAABrWLZsmfz9/TVixAgFBAR4ux1LYwIIAABa1Nq1a5WWlqapU6dq0qRJmjVrljZs2ODttizNZhiG4e0mAABAx3Po0CGFhYXp/vvvV0VFhaZNm6by8nI98cQT6tOnj95//31FRER4u01L4hQwAAC46NavX68rrrhCycnJcrlcevPNNzVgwABJkt1u1zPPPKNHH31Uf/rTn7zcqTVxChgAAFw0Ho9HkpSVlaUhQ4aopKREl156qQYMGCCXyyVJ+tGPfqSxY8dq7ty5ys7O9mK31kUABAAA31tlZaWk5umeJIWGhuq+++5TY2OjtmzZIkny9fWV2+1WeHi4Zs2apfDwcD3yyCPeatnSCIAAAMDkdrtVX1+vuro61dfXy+12f+f7Dx06pNmzZ+uaa67RzTffrDfffNN8bcqUKbrhhhuUn5+vefPmSTozIZw0aZKmTZum9evXa/HixS12PPhmLIEAAGBxDQ0NqqioUE1NjZxO59dedzgcCgkJUVRU1Fm3b3nuuef0P//zP0pISFD37t2Vn5+vgwcP6o033tCsWbNks9m0efNm3XTTTYqMjNQnn3yioKAgNTU1yc/PT9nZ2brjjjtUWlqqwsLCVjxiMAEEAMCinE6nCgoKtH//flVUVHxj+Dv9voqKCu3fv18FBQVqbGzU0qVL9dprr+m2227T22+/reXLl2v79u2aNWuWHnjgAe3atUuSNHjwYN1www3as2eP/vznP0s6c5o4KytL06ZN0+TJk1VXVydmUq2HCSAAABZUUVGho0ePnnPoMgxDNptNkmSz2bRw4UIVFRXpkUceUVJSkiTpvffe0y9+8QsVFRXpzjvv1JNPPqmwsDAVFxdr+vTpqqio0EcffaSePXvK6XTK4XCY00C0LgIgAAAWU1ZWprKysnN+f11dnWw2mwIDA81afX29unXrppiYGJ04cUKzZ8/Whx9+qJtuuknh4eF69dVX9f7772vcuHHy8fHR3/72N/3Xf/2XrrzySs2fP/9r38Pj8ZiTQbQ87gMIAICFVFRUnFf4e+mll7Rq1SrZ7XZFR0frvvvuU0pKigIDA1VaWqrS0lLdddddqqqq0sKFCzV+/Hjl5OTo73//u1555RVlZmYqPj5eP/zhD/Xee+8pMzNT0tkTRUmEv1bGBBAAAItwOp3at2/fOZ32LS4u1oMPPqiCggKNGzdODQ0NysnJUUNDg+677z5dddVVkqQPPvhAjz32mObMmaMbb7xRPj4+Ki8vV1pamqqqqvTCCy/o9ttvl8PhUENDA88AbiOYAAIAYBElJSXnfM3f6tWrdezYMT388MO69NJLFRoaqqamJo0YMUIvv/yy0tLSlJqaqmPHjsntdmvy5Mny8fFRbW2t/vKXv+iSSy5RXV2dlixZoltvvVWSFBAQIMMwZBgGEz8vIwACAGABDQ0Nqq2tPaf31tbWasWKFRowYIDGjRsnSSooKNCrr76q+vp6DR8+XEFBQZKkfv36yc/PT7/61a80fvx4nThxQgsXLtQdd9yhW2+9VWFhYWd9bZvNdtapX3gHARAAAAuoqKj41tdOnTqliIgI88/+/v46efKkGf6efvppzZs3T2lpaXruuec0YMAARUZGSpIyMzP1s5/9TH/84x81b948eTwe3XbbbbrrrrvkcDgkSS6XS76+RI62hGsAAQCwgPz8/K/d52/9+vV6+eWXZbfbNXnyZF1++eWKj49XZWWlHnroIe3atcuc1v3oRz/SFVdcoU6dOpmnbwsLC5WUlCQfHx8VFBTIZrOpd+/eSklJkfT1RQ+0HZyABwCgg3O73Wb4Oz33WbFihR555BHZbDbV1dXpqaee0lNPPSVJCg8PV69evdTQ0KCEhAQtXrxY06dPV+fOnWW321VbW6tHHnlEL774onlauUePHrriiiuUkpIij8cjj8dD+GvDCIAAAHRwp8Of2+3WqVOnJElbt27VxIkT9cwzz2jhwoW64YYb9Nlnn2nOnDmSpKuuuko9e/bUwYMHVVZWZl7zV1RUpAULFmjLli3q0aPHWfcGdDqd5oIHSx5tGyfkAQDo4AzD0DvvvKN58+YpKChIo0aNUnZ2th599FHFxcVJkmbPnq3Dhw/r73//u6655hp1795ds2fP1gsvvKBbbrlFAwcOVGRkpAoLC5WTk6Prr79eP/rRj856igenfNsP4jkAAB2Yx+PRK6+8oldffVWJiYlyOp2aM2eOjh49KofDIY/HI8MwlJSUpClTpshms+nZZ5+VJI0bN05//etfNWHCBJWWlurAgQMKDQ3V66+/rt/85jcKDAw867YyhL/2gyUQAAA6IKfTqZ/85CcKDAw0t3xvueUWhYWF6cknn9Rbb72lhx9+WNddd525pVtXV6cnnnhCH3zwgV5//XVlZWVJOjPZO378uKKjoyU1B0vp7Cd49OnTRz4+Pq1+rDh/TAABAOiAamtrZbPZ9Oqrr2rr1q267bbbzHvyXX/99Ro0aJBefPFF1dXVydfXV263W0FBQZoyZYoSExPNKaB0ZnHkdPhzu91fu87P4XAQ/toRAiAAAB1QZGSk7rjjDg0YMEDV1dWqr683g1xycrKuvfZanTx5Uq+88spZnxsyZIhGjhypHTt2aOvWrZK+/pzebwp6ISEhLXQkaAkEQAAAOqj+/ftrxowZKisr06FDh866Rm/o0KGaOHGi3njjDR06dEg+Pj5yuVySpJtvvlkLFizQwIEDz/l7RUVFXfT+0XIIgAAAtFOnTp3Su+++K0nf+IzfoKAgTZ06VUOGDNGf/vQnNTQ0mK9FR0drypQpioqK0jPPPCPpzGQvKSlJvXr1Mp/b+58EBwcrICDgYhwSWgkBEACAdsjlcunXv/61Zs+eLenbN3BTU1P185//XLt379bq1avPet+AAQM0duxYffrppyoqKvra1ziX5/babDYlJiZ+z6NBayMAAgDQDvn6+io2NlZRUVHauXPnN76npq5RewrLdVLR6jtopJ79059UV1dnvh4UFKRbbrlFq1atUrdu3S6oj/j4ePOZv2g/uBE0AADtQH19vfnUjdO3bRk8eLCeeOIJ85YsDc4m5R4s06HSUzp07KQqquq/+rRdmUMmaX9utl555RU9+uijqqiokNR8uldq3uw93y3emJgYrv1rp5gAAgDQxj3xxBMaPXq01qxZI+nMtXoZGRkKCQnRhg0bZBiGXlm0SUvX5yo7/4gZ/k5fw5fQvZcGDx+jRYsWyWazKSEh4azTu+cT/k5/PiYm5mIdIloZARAAgDZu4MCBOnz4sG699VZ99NFHZnAzDEPx8fHKycmRy+1WY5P7a589/d7A4BD99fmnVVJSovj4eEVFRSk1NVXBwcHn1UtwcLBSU1OZ/LVzBEAAANq4yZMna8GCBcrMzNT06dP1l7/8RW63WykpKercubOKiork5+urK4b2+tavkZkcpz5pKQoMDDRv9+JwONSjRw+lpKQoKirqW6/lczgcioqKUkpKinr06ME1fx0A1wACANAOjBgxQosWLdKMGTP0+OOPa//+/frLX/6iCRMm6IUXXlB1dbVq6p3f+vkhmV3Nf/b1PfvXf0BAgBISEiQ1XwvodDrNx7/xhI+OiQAIAEA7YBiG/P39NWfOHL366qv67W9/K8MwVFNTo9i4OP35/96VK6jLN362W1yEEqLDzun7+Pj4mMsm6LgIgAAAtAOnr+WLjo7WAw88oODgYP3jH//QgQMH5HQ26UBxhbqldZHh8WjEgB4qKDmpI8erJElD+l7YLV7QcREAAQBoh+677z5FRsfp4UcfV+G+HBXm71TPPlm6ZmxfZabEq6auUWu27FdkaJB6d+/s7XbRxrAEAgBAO2MYhvYWlau4qbOmzv6VAoNCVXuqXDPHN4c/SQoJ8te0URkaNaDHf3yaB6yHCSAAAO2IYRj6bFeRVn2xT26XS5Gd49X3kiGyNVQopWusubwBfBcmgAAAtBMut0dL1uVq1Rf7JEk+vr5K7xGrwf3SVFRUqFOnThH+cE6YAAIA0A7U1Ds1f1W2DpdWmrUR/bupW5Rdv9+wXoMHD1ZY2Llt+gIEQAAA2rhjJ6o1b2W2KmsaJEm+PnZdMzpDXToF6N5771VBQYEeeeQR2e2c2MO5sRmnHxIIAADanD2FZVr4yW41uZof8xYa5K8ZE/srsXO4JGnt2rUaMmSI/P39vdkm2hkCIAAAbZBhGNqwo1BrNu83awmdwzRjQn+FBQd4sTN0BJwCBgCgjWlyufX++jzt3H/UrPVNjtW0URny8+WxbPj+CIAAALQh1XWNmr9qh4rLzix7jB2YzP38cFERAAEAaCOOHq/SvJU7VFXbvOzh52vXtWP6Kr1HrJc7Q0dDAAQAoA3ILSjVe5/uVpPLI0kKC/bXzIlZio/m1i64+AiAAAB4kWEYWre9QJ9sPWDWEmPCNWNCf4UGsdmLlkEABADAS5pcbi1Zl6PdB0rNWmZKnKaOTGfZAy2KAAgAgBdU1Tbo7VU7dKS8yqyNG5yiEf27s+yBFkcABACglZWUV+rtlTtUXdcoSfLz9dF1Y/uqd/cYL3cGqyAAAgDQinYfOKbFa3Pkcjcve4SHBGjmxCzFdQr1cmewEgIgAACtwGMYWrvtoNZuO2jWkmIjdOOE/goJdHixM1gRARAAgBbmdLm1+NMc5RacWfbonxqvKSPT5etj92JnsCoCIAAALaiypkFvr8rW0ePVZm3CZakaltmNZQ94DQEQAIAWUlxWqbdXZaumzilJcvj56LqxmerVrbOXO4PVEQABAGgBu/Yf1ZJ1ueayR0RIgGZOGqDYqBAvdwYQAAEAuKg8hqFPthzQ+uwCs9YtLkI3jO+vYJY90EYQAAEAuEgam1x679Mc7SksM2sDeiXoquF9WPZAm0IABADgIjhVU695K7JVWlEjSbLZpImXpWlI364se6DNIQACAPA9HS49pbdX7VBtffOyh7+fr6aPy1RqUrSXOwO+GQEQAIDvYce+I1q6LldujyFJigwL1KyJWeocybIH2i4CIAAAF8BjGFqzeb827ig0a93jI3XD+H4KCmDZA20bARAAgPPU6HRp0ae7tbeo3KwN7J2oK4f3lo+dZQ+0fQRAAADOw8nqes1bma2yf1n2mDykly7NSGLZA+0GARAAgHNUdOyk5q/aobqGJkmSv8NX14/rp5QunbzcGXB+CIAAAJyD7flH9P76XHm+WvaICgvSrElZio4I9nJnwPkjAAIA8B08HkOrvtynz3cVmbWeiVG6flw/Bfr7ebEz4MIRAAEA+BYNTpcWfrxL+w4fN2uD05M0eWgayx5o1wiAAAB8g4qqOs1bma3yk7WSJJvNpiuH9dLg9CQvdwZ8fwRAAAD+TeHRCs1ftVP1jc3LHgH+vrphXH/1TIzycmfAxUEABADgX2zdU6xlG/bIYzQve3QKb1726BTOsgc6DgIgAACS3B6PVn2xT5t2HzJryYmdNH1cJsse6HAIgAAAy2twNmnBml06UHzCrF3Wt6smXpbKsgc6JAIgAMDSTlQ2L3scP9W87GG32XTViN4a2LuLlzsDWg4BEABgWQdLKvTOmh1qaHRJkgL9/XTjhH7qHs+yBzo2AiAAwJI25x7Wh5/tNZc9OkcEa+akLEWFBXm5M6DlEQABAJbi9ni04vN8fZl72KylJkXrusszFeDg1yKsgf/SAQCWUd/YpAVrdupgSYVZG5rZTRMuTZXdbvNiZ0DrIgACACzh+KlazVuZrROVdZIku92mq0f00SW9Er3cGdD6CIAAgA7vQMkJLVi9Uw3O5mWPoAA/3Ti+v7rFR3q5M8A7CIAAgA7LMAxtzi3Wh5/vlfHVskdMZIhmTspSZGigl7sDvIcACADokNwejz78bK+25BWbtbSu0bpubKb8WfaAxfE3AADQ4dQ1OPXO6p0qPHrSrA3v313jBqWw7AGIAAgA6GDKT9borZXZOllVL0nysds0ZWS6stISvNwZ0HYQAAEAHca+w8f17ppdamxqXvYIDnToxgn91TU2wruNAW0MARAA0O4ZhqEvcg5rxaa9+mrXQ7FRIZo5MUsRLHsAX0MABAC0ay63R8s37tG2vSVmrXe3zrp2bF/5+/FrDvgm/M0AALRbtV8texT9y7LHyKweGjsoWXYbyx7AtyEAAgDapbKK5mWPU9VfLXv42DVtVLr6pcR7uTOg7SMAAgDanfxD5Xr3411yNrklSSGBDs2YmKUuMeFe7gxoHwiAAIB2wzAMfbarSKu+2GfW4qNDNWNClsJDArzYGdC+EAABAO2Cy+3RBxvylJ1/xKyl94jRNaP7yuHn48XOgPaHAAgAaPNq6p16Z9UOHSo9ZdZGX9JToy/pybIHcAEIgACANq20olpvrchWZU2DJMnXx65rRmeob3KclzsD2i8CIACgzdpTVKZFn+w2lz1Cg/w1Y2J/JXZm2QP4PgiAAIA2xzAMbdxRqNWb95u1hOgwzZjYX2HBLHsA3xcBEADQpjS53Hp/fZ527j9q1jJ6xmra6Aw5fFn2AC4GAiAAoM2ormvU/FU7VFxWadbGDkzWqAE9ZGPZA7hoCIAAgDbh6IlqzVuRrara5mUPP1+7rh3TV+k9Yr3cGdDxEAABAF6XW1Cq9z7drSaXR5IUFuyvmROzFB8d5uXOgI6JAAgA8BrDMLQ+u0Afbzlg1hJjwjVjQn+FBvl7sTOgYyMAAgC8osnl1pJ1udp94JhZy0yJ09SR6fJj2QNoUQRAAECrq65r1Nsrs1VSXmXWxg1O0Yj+3Vn2AFoBARAA0KqOHK/SvJXZqq5tlCT5+froB2P7qk/3GC93BlgHARAA0GpyDjYve7jczcse4SEBmjkxS3GdQr3cGWAtBEAAQIszDENrtx/Up1sPmrWk2HDdOL6/Qlj2AFodARAA0KKcLreWrM1RzsFSs9Y/NV5TRqbL18fuxc4A6yIAAgBaTFVtg+atzNbR49VmbcKlqRrWrxvLHoAXEQABAC2ipLxS81Zmq6bOKUly+PnourGZ6tWts5c7A0AABABcdLsOHNOStTnmskdESIBmTspSbBTLHkBbQAAEAFw0HsPQp1sPaN32ArPWNS5CN47vr+BAhxc7A/CvCIAAgIvC2eTWe2t3K6+gzKwNSEvQVSP6sOwBtDEEQADA91ZZ07zscexE87KHzSZNvCxNQ/p2ZdkDaIMIgACA7+Vw6Sm9vWqHauublz38/Xw1fVymUpOivdwZgG9DAAQAXLAd+45q6fpcub9a9ogMDdTMSVmKiQzxcmcAvgsBEABw3jyGoY8379eGHYVmrXt8pG4Y309BASx7AG0dARAAcF4am1xa9Mlu7S0qN2sDeyfqimG9WfYA2gkCIADgnJ2qrte8ldkqraiR1LzsMWlIL12WkcSyB9COEAABAOfk0LFTentVtuoamiRJ/g5fXT+un1K6dPJyZwDOFwEQAPAfZecf0fvrc+X2GJKkqLBAzZw0QJ0jgr3cGYALQQAEAHwrj8fQ6s379NnOIrPWIyFK14/rp6AAPy92BuD7IAACAL5Rg9OlRZ/sUv6h42ZtcHoXTR7aSz52lj2A9owACAD4moqqOs1bma3yk7WSJJvNpiuG9dKl6Ule7gzAxUAABACcpfDoSc1ftUP1jc3LHgH+vrphXD/1TGTZA+goCIAAANO2PSX6YGOePF8te3QKD9KsSVnqFM6yB9CREAABAPJ4DK38Il+bdh8ya8mJnTR9XKYC/Vn2ADoaAiAAWFyDs0nvrtml/cUnzNplGUmaOCSNZQ+ggyIAAoCFVVTV6a0V2Tp+qnnZw26z6crhvTWoTxcvdwagJREAAcCiCo5U6J3VO81lj0B/P90wvp96JER5uTMALY0ACAAWtCWvWMs37pHHaF72iI4I1qxJWYoKC/JyZwBaAwEQACzE7fFoxaZ8fZlz2KylJHXS9MszFeBg2QOwCgIgAFhEfWOTFqzZqYMlFWZtaGZXTbg0TXa7zYudAWhtBEAAsIDjp2o1b2W2TlTWSZLsdpuuHt5Hl/RO9HJnALyBAAgAHdyBkhNasHqnGpwuSVJQgJ9uGN9f3eMjvdwZAG8hAAJAB/Zl7mF9+NleGV8te3SODNasiQMUGRbo5c4AeBMBEAA6ILfHow8/26stecVmLa1rtH4wNlMBDn70A1bHTwEA6GDqGpqXPQqOnFn2GN6vu8YNTmHZA4AkAiAAdCjlp2o1b8V2VVTVS5J87DZNGZmurLQEL3cGoC0hAAJAB7H/8HEt+HiXGr9a9ggOdOjGCf3VNTbCu40BaHMIgADQzhmGoS9yDmvFpr36atdDsVEhmjkxSxGhLHsA+DoCIAC0Yy63R8s/26Nte0rMWu9unXXt2L7y9+NHPIBvxk8HAGin6hqcmr96p4qOnjRrI7K66/JBKbLbWPYA8O0IgADQDpWdrNG8Fdk6Wf3VsoePXdNGpatfSryXOwPQHhAAAaCdyT9Urnc/3iVnk1tS87LHjAn9lcSyB4BzRAAEgHbCMAx9vuuQVn2Zby57xHUK1cyJWQoPCfBucwDaFQIgALQDLrdHyzbkaXv+EbPWp0eMrh3dVw4/Hy92BqA9IgACQBtXW+/U/NU7dOjYKbM2akAPjRmYzLIHgAtCAASANqy0olpvrchWZU2DJMnXx65rRmeob3KclzsD0J4RAAGgjdpbVK6Fn5xZ9ggJcmjmxCwldg73cmcA2jsCIAC0MYZhaOPOIq3+cp9Zi49uXvYIC2bZA8D3RwAEgDbE5fbo/fW52rHvqFnL6BmraaMz5PBl2QPAxUEABIA2oqauUW+v2qHiskqzNnZgskYN6CEbyx4ALiICIAC0AcdOVGveyrOXPa4d01cZPWO93BmAjogACABelldYpkWf7FaTq3nZIzTYXzMnZikhOszLnQHoqAiAAOAlhmFofXahPt6y36wldg7TjIlZCg3y92JnADo6AiAAeEGTy62l63K168Axs5aZHKepo9Llx7IHgBZGAASAVlZd16i3V2arpLzKrF0+KEUjs7qz7AGgVRAAAaAVHTlepbdXZquqtlGS5Odr1w/GZKpPjxgvdwbASgiAANBKcgtKteiT3XK5PZKksOAAzZyUpfhOoV7uDIDVEAABoIUZhqG12w/q060HzVqXmHDNmNBfISx7APACAiAAtKAml1uL1+Yo52CpWeufGq8pI9Pl62P3YmcArIwACAAtpKq2QW+v3KEjx88se4y/NFXD+3Vj2QOAVxEAAaAFlJRX6u2VO1Rd17zs4fDz0Q/G9lXvbix7APA+AiAAXGS7DxzT4rU55rJHREjzskdsFMseANoGAiAAXCQew9CnWw9o3fYCs9Y1NkI3Tuiv4ECHFzsDgLMRAAHgInA2ufXe2t3KKygza1lpCbp6RB+WPQC0OQRAAPieKmsaNG9lto6dqJYk2WzShEvTNDSzK8seANokAiAAfA/FZZV6e2W2auqdkpqXPaZfnqm0rp293BkAfDsCIABcoJ37j2rJuly5v1r2iAwN1MxJWYqJDPFyZwDw3QiAAHCePIahT7Yc0PrsM8se3eIjdcP4fgoOYNkDQNtHAASA89DY5NJ7n+ZoT+GZZY9LeifqymG9WfYA0G4QAAHgHJ2qrte8ldkqraiR1LzsMWlIL12WkcSyB4B2hQAIAOfgUOkpzV+1Q7VfLXv4O3x1/eWZSkmK9nJnAHD+CIAA8B9k5x/R++tz5fYYkqSosEDNnDRAnSOCvdwZAFwYAiAAfAuPx9Cazfu1PvuAXE6nHAGB6pEQpevH9VNQgJ+32wOAC0YABIBv0Oh0aeEnuzT3n/+nHZ+vVlBwmKbPuElTr7+F8Aeg3bMZhmF4uwkAaEtOVtdr3ops/fPlP2rH56sV26W7nDUnVVV5Uj/72c/09NNPe7tFAPheuGcBAPyLnXsKNOHKa7Xorb/pZPlRXT3rZ1q06D0dKTmsyZMn66233tKSJUu83SYAfC9MAAHgK9v3lujlNxbrzT8/KB9fP8UldtWnH69WQkykJGnz5s2655575HK5tGXLFi93CwAXjgkgAMvzeAx99PkeLVmXq/huaRo0ZopqKk+oT0qSEmIi1djYKEkaPHiwrr/+ehUWFuqPf/yjl7sGgAvHBBBAh+F2u+V0OmUYhmw2mxwOh3x8fL71/bt27dKmL75UcbWPat2BCgmPkiSlxPrrz4//t/Jyc7Vr1y716NFDTqdTDodDxcXFuvPOO7V7925t2rRJcXFxrXV4AHDREAABtGsNDQ2qqKhQTU2NnE7n1153OBwKCQlRVFSUAgICJEkVFRW6++67tXDhQvn6+auxsUHxXVN1831P6LoJgzSoTxfNmTNH999/v66//nq98sorkmQGy3nz5umBBx7QuHHj9Le//a1VjxcALgYCIIB2yel0qqSkRLW1tef8meDgYJ08eVL33Xefjp84qbSB4xTeOVEnSou18aP5GnjJAM2f96aio6PldDo1ffp0bdq0SfPnz9fYsWPNKWBtba1mz56tNWvWaOfOnUpKSmrBIwWAi48ACKDdqaio0NGjR3UhP75ef/11rVy9RunDpqlHnwFy+AcqOiJYny1+SW/Pm6vXXntNM2bMkMPh0PLly/XTn/5U/fr10/LlyyVJLpdLvr6+2rVrlzp16qSEhISLfXgA0OIIgADalbKyMpWVlV3w57dv3y6PxyP/zmnaU1Ij16kivffacyouLlZYWJiCg4O1bNkyJScnS5Luuusuvfvuu/r973+vn/zkJ3K73d95XSEAtAdsAQNoNyoqKs45/NXV1Wnu3LlauHChNmzYYNYHDBiggQMHqndCoAo2LdJTD9yl1NRUrVy5Uq+88ooOHDigt956SzU1NZKkO++8Ux6PR6+//rqcTifhD0CHwAQQQLvgdDq1b9++czrtO3/+fD3//PMKCgpSbW2t6urq9IMf/EA/+tGP1L17d0nS3r17dffdd+uWW27RL37xC8XGxmrv3r3KzMxUUlKS3n77bQ0aNEg2m00rV67UyJEjFRgY2MJHCQCtg2cBA2gXSkpKzin8rVu3Tv/4xz909dVX66qrrlJYWJhycnL0u9/9TnV1dXrkkUcUFBSkFStWqLy8XOPHj1dsbKwkqby8XKmpqcrLy9PDDz+sBQsWKDg4WBMnTmzpwwOAVkUABNDmNTQ0/MdtX4/HI7vdrsWLFyswMFC33367eY8+m80mSSooKNCBAweUmZmptLQ02Ww2lZSU6NixYyorK9Pvf/97jRs3Tn/4wx/k4+Oj4ODgFj82APAGAiCANq+iouI7XzcMQ3a7XfX19crLy9ONN96ouLg4HT16VM8884xWrVqlkSNH6rbbblNqaqokKSMjQwMHDtTtt9+ufv36qa6uTvX19br//vs1evTo1jgsAPAargEE0Obl5+d/7SbPq1evVmVlpUaMGKHOnTubAfDHP/6xOnXqpMsuu0zPP/+8unTpop/+9KcaNmyYQkNDZbfb1dTUJD8/P504cUIvv/yySktL1atXLz3++OPq1KmTl44SAFoPARBAm+Z2u5WXl2f+uaioSA8++KB27twpSerRo4duueUWXXfddWpsbNQf/vAHLVmyRA6HQ/fcc49Gjx6txMRE2e3NNz3Ytm2b8vLyNHXqVIWGhkpqXjDp378/G74ALIPbwABo0/598rdhwwYFBgbqj3/8o55//nm5XC795S9/0c6dO+Xv76/hw4erU6dOSk5O1s0336ykpCTZ7XY5nU5t375df/jDH7Rjxw75+fmZX9PhcHzjY+QAoKPiGkAAbZphGFqwYIGk5uv2Vq5cqRkzZmjSpEmSmhc8nnrqKT399NN68803NWHCBG3btk1z587Vgw8+qOnTp8tms2nv3r1699131dTUpGuvvdZ8LvC/fh8AsAoCIIA2a9OmTZo1a5aKi4vlcrmUnJwst9utXr16me8ZO3asduzYof/7v//Te++9p2uvvVazZ89WbGys/va3v+n9999XdHS0ampqNGzYMD344IPq3Lnz177X6U1hALACrgEE0OZs27ZNNptN77zzjvbs2aMrr7xSNTU1evHFF3XgwAHNnTtXmZmZ5nN58/Pz9dBDD+nEiRNasWKFeS3fnj17dOzYMVVWVio1NVXp6enf+j379OnDNYAALIMACKBNKS0t1YQJE7R3717169dPzz77rOLi4uR0OrVmzRo9/vjj6t+/v55//nkZhmFO7ubOnatnn31Wt956q+65556zXvtPHA6H0tLSWvKwAKBNYQkEQJsSHR2tX//614qIiFBJSYl69uypkJAQSdLQoUM1bdo0ffzxx/rss89ks9nkcrkkSZMmTdLw4cM1Z84clZSUmOHvXP4/7umvDwBWQQAE0Kb4+PhozJgxmjx5smpqanTs2DFFRUVJkoKCgjRhwgSlpKToT3/6kyTJ19dXhmEoOjpakyZN0pVXXqmAgAAz+J3LFPD01wcAqyAAAvCK0wHtmyZ0iYmJmn79jbLbffS/f31Jvr6+5mPZ0tPTdd111yk/P1/vvPOOpOZ7BUrSVVddpSeffFKdOnU659O/wcHBX9sIBoCOjmsAAbQawzDkcrl09913KzMzU3fffbdcbo+y84/oyPEqVVY36GR1napqG1VTXa11y+bqy0+WaO78Rbr26onat2+fDMNQcXGxHnvsMX3++efasGGDwsLCLqgfm82m1NRUORyOi3ykANC2cRsYAK3GZrNp3759mjNnjj7++GNJ0pa8Yn30+d6vvTcgKFiZl45V/s5Nev65Z3TVxDGKj4/XkSNH1KVLF02dOlXJyckKDAy84H7i4+MJfwAsiVPAAFrVgQMH5HA4zNO2gf5+3/rezgndNHLitdqyaaOWLl2qqKgoxcTESJKuuOIK/frXvz7riR7nIyYmhmv/AFgWARBAiykpKdENN9ygF154QSUlJZKaTwM7nU4lJSVJkjKT49Q5IvgbP+/r59Av775NgwcP1r333qvy8nLFxMQoISHhgu/ZZ7PZlJCQYAZJALAiTgEDaDE7duxQSUmJ7r33Xj3//PN66KGHtGPHDiUkJEiSGp0urfpyn8pP1X7j5zOT4zR8cF/98pe/VGFhofkEj6ioKIWEhKikpES1td/82W8SHBysxMRETvsCsDyWQAC0uGXLlmnOnDlau3atKisrFRkZqfeWrdGWg1Wqqm2U4fHIZj/7hISfr10/nz5MEaHffY1fQ0ODKioqVFNTI6fT+bXXHQ6HQkJCFBUVxbYvAHyFAAig1Wzbtk0/v/tufbFpk+K7pqp7r/4aPukGhUdG6fLBydq1/5iOlFdJksYM7KkxlySf19d3u91yOp3mU0AcDgePdwOAb8A1gABanMfjkSQ5QmPUqCDFdklWSHiUNq15T3/7/c9Vlb9G4fZaXTc2U13jItQ3OU7D+3U/7+/j4+OjwMBABQUFKTAwkPAHAN+CCSCAFlff2KSPPt+rHfuOas4TdysqNlEz7/qt4gNqtOmT5tPDwcHB2rZtm1JTU73dLgB0eARAAC1qT1GZPlifp5p6p5qcjXr18Z+pT98sLX1vviJCmq/v27x5sxISEpSYmOjlbgHAGtgCBtAi6hqc+vCzvdp14Jik5tu/hIQEy0cuDR+UoYiQQLlcLvn6+mrw4MFe7hYArIUACOCiyy0o1bKNe1Rbf2YrN61rZ2Uk+uvB0mMKDw+XJPn68iMIALyBU8AALpqaeqeWb8xTbkGZWQtw+Gry0F7qnxqvEydO6OWXX9b9999/wU/wAAB8fwRAAN+bYRjafbBUyzfuUX1jk1nv1a2zrh7RR6FB/l7sDgDw7zj/AuB7qa5r1LINedpTVG7WAv39dOXw3urbM1Y2m82L3QEAvgkBEMAFMQxDO/cf1Yef71VDo8usp/eI1ZXDeyskkMetAUBbRQAEcN6qahv0/vo87Tt83KwFBfjpquF9lNEz1oudAQDOBQEQwDkzDEPb849oxaZ8NTrPTP36JsfpimG9FBzA1A8A2gMCIIBzcqqmXu+vz9OB4hNmLSTQoatH9FHv7jFe7AwAcL4IgAC+k2EY2rqnRCu/yJezyW3W+6fGa9KQXgoK4HYuANDeEAABfKuTVfVauj5XBUcqzFposL+mjOijtK6dvdgZAOD7IAAC+BqPYWhz7mGt/nK/mlxnpn4DeiVo0pA0BTiY+gFAe0YABHCWE5V1WrouR0XHTpm18JAATRmZrpQunbzXGADgoiEAApAkeTyGvsg5pDWb98vl9pj1QX26aPylqQpw8OMCADoKfqID0PFTtVq8NkfFZZVmLSI0UFNHpqtnYpQXOwMAtAQCIGBhbo9Hn+86pE+2HpD7X6Z+l2YkadzgFPn78SMCADoifroDFlVWUaPF63J0pLzKrEWFBWraqAx1i4/0YmcAgJZGAAQsxu3xaOOOQq3ddlBuj2HWh2Z21dhBKXL4+nixOwBAayAAAhZy7ES1Fq/N0bET1WatU3iQrhmdoaTYCO81BgBoVQRAwAJcbo/WZxdo/fYCeYzmqZ/NJg3L7K4xA3vKj6kfAFgKARDo4I4cr9KStTkqragxa50jg3XN6Awldg73YmcAAG8hAAIdlMvt0dptB7VhR6EMc+pn08is7ho1oKd8fexe7hAA4C0EQKADKi6r1JJ1OSo/WWvWYqNCNG10hhKiw7zYGQCgLSAAAh1Ik8utT7Ye0Oe7ivTV0E92m02jBvTQiKweTP0AAJIIgECHcaj0lJaszdGJyjqzFh8dqmmjMhTXKdSLnQEA2hoCINDOOV1ufbx5vzbtPmTWfOw2jb4kWcP7d5OPnakfAOBsBECgHSs8elJL1+WooqrerCV2DtO0URmKiQrxYmcAgLaMAAi0Q41NLq35cr++zD1s1nx87Lp8YLKGZHZl6gcA+E4EQKCdOVhyQkvX5epUTYNZS4oN17RRGYqOCPZiZwCA9oIACLQTDU6XVn2Rr617Ssyar49d4wan6LKMrrLbbV7sDgDQnhAAgXZg/+HjWro+T1W1Z6Z+3eIiNHVUhjqFB3mxMwBAe0QABNqw+sYmrdyUr+35R8yan6+PJlyaqkHpXWS3MfUDAJw/AiDQRuUfKtf76/NUXddo1nokRGnqyHRFhgV6sTMAQHtHAATamLqGJn30+V7t3H/UrDn8fDTxsjQN7J0oG1M/AMD3RAAE2pC8wjIt25CnmnqnWUvu0klTRvZRRAhTPwDAxUEABNqA2ganPvxsj3YfKDVr/g5fTR6Spqy0BKZ+AICLigAIeFnOwVIt25inuoYms5aaFK0pI/soLDjAi50BADoqAiDgJTV1jVr22R7lFZSZtQB/X10xtLf6pcQx9QMAtBgCINDKDMPQrgPH9OFne1XfeGbq17tbZ101oo9Cg/y92B0AwAoIgEArqq5r1Acb8rS3qNysBfr76crhvdW3ZyxTPwBAqyAAAq3AMAzt2HdUH32+Vw1Ol1lP7xGrK4f3Vkigw4vdAQCshgAItLDKmgZ9sCFP+w4fN2vBgQ5dNby30nvEerEzAIBVEQCBFmIYhrbtLdHKTfvU2HRm6peZHKcrhvVSUABTPwCAdxAAgRZwqrpeS9fn6mBJhVkLCXLo6hF91LtbjBc7AwCAAAhcVB7D0Na8Yq36cp+cTW6z3j81XpOH9lKgv58XuwMAoBkBELhIKqrqtHRdrgqPnjRrocH+mjoyXalJ0V7sDACAsxEAge/JYxj6Muew1mzepyaXx6xf0itRE4ekKsDB1A8A0LYQAIHv4URlrZaszdWh0lNmLTwkQFNHpiu5SyfvNQYAwHcgAAIXwOMxtGn3IX28Zb9c7jNTv0F9umjCpanyd/BXCwDQdvFbCjhP5SdrtGRdrorLKs1aRGigpo1KV4+EKC92BgDAuSEAAufI7fHo851F+mTbQbn/Zep3WUaSxg1OlcPPx4vdAQBw7giAwDkorajRknU5OlJeZdaiwoI0bXS6usVFerEzAADOHwEQ+A5uj0cbsgu1dvtBeTyGWR+a2U1jByXL4cvUDwDQ/hAAgW9x7ES1Fq/N0bET1WYtOiJY00alKyk2wnuNAQDwPREAgX/jcnu0PrtA67cXyGM0T/1sNml4v+4afUlP+TH1AwC0cwRA4F8cKa/S4nU5KquoMWsxkSGaNjpdiZ3DvdgZAAAXDwEQkNTkcmvt9oPauKNIxldTP7vNphFZ3TVqQE/5+ti93CEAABcPARCWV1xWqcVrc3T8VK1Zi40K0TWjMxQfHebFzgAAaBkEQFhWk8utT7Ye0Oe7ivTV0E92u02jB/TUiKzu8rEz9QMAdEwEQFjSoWOntGRdjk5U1pm1+OhQXTM6Q7FRoV7sDACAlkcAhKU4m9xas2W/vth9yKz52G0aMzBZw/p1Y+oHALAEAiAso/BohZasy9XJqnqzlhgTrmmj0hUTGeLFzgAAaF0EQHR4jU0urf5ynzbnFps1Xx+7Lh+UrCF9u8lut3mxOwAAWh8BEB3awZITWrIuV5U1DWYtKTZC00alKzoi2IudAQDgPQRAdEgNTpdWfZGvrXtKzJqvj13jL03VpelJTP0AAJZGAESHs+/wcb2/PldVtY1mrVt8pKaNSldUWJAXOwMAoG0gAKLDqG9s0opN+crOP2LW/Hx9NOGyVA3q00V2G1M/AAAkAiA6iL1F5fpgQ56q685M/XomRmnKyHRFhgZ6sTMAANoeAiDatbqGJn30+V7t3H/UrDn8fDRpSJou6ZUoG1M/AAC+hgCIdiuvoEwfbMxTbb3TrKV06aQpI9MVHhLgxc4AAGjbCIBod2rrnVr+2R7lHCw1a/4OX00e2ktZqfFM/QAA+A8IgGg3DMNQzsFSLf9sj+oamsx6WtdoXT2ij8KCmfoBAHAuCIBoF2rqGrVs4x7lFZaZtUB/P10xrJcyk+OY+gEAcB4IgGjTDMPQrgPH9OFne1XfeGbq16d7jK4c3luhQf5e7A4AgPaJAIg2q6q2QR9syFP+oeNmLSjAT1cO662MnrFM/QAAuEAEQLQ5hmEoe99Rrfh8rxqcLrOe0TNWVw7rreBAhxe7AwCg/SMAok2prGnQ+xtytf/wCbMWHOjQ1cP7qE+PGC92BgBAx0EARJtgGIa27S3Ryk371Nh0ZurXLyVek4emKSiAqR8AABcLARBed7K6Xu+vz9XBkgqzFhrkr6tH9FGvbp292BkAAB0TARBe4zEMbc0r1qov98nZ5DbrWWkJmjQkTYH+fl7sDgCAjosACK+oqKrT0nW5Kjx60qyFBftrysh0pSZFe7EzAAA6PgIgWpXHMPRlzmGt2bxPTS6PWb+kd6ImXpaqAAdTPwAAWhoBEK3mRGWtlqzN1aHSU2YtPCRAU0elKzmxk/caAwDAYgiAaHEej6FNu4v08ZYDcrnPTP0Gpydp/OAU+Tv4zxAAgNbEb160qPKTNVqyLlfFZZVmLTI0UFNHpatHQpQXOwMAwLoIgGgRbo9Hn+0s0qfbDsr9L1O/y/p21bhBKXL4+XixOwAArI0AiIuutKJGS9bm6MjxKrPWKTxI00ZlqGtchPcaAwAAkgiAuIjcHo82ZBdq7faD8ngMSZLNJg3N7KaxA5Pl58vUDwCAtoAAiIvi6IlqLVmbo2Mnqs1adESwrhmdoS4x4V7sDAAA/DsCIC6YYRhyewyt235QG7IL5TFOT/1sGt6/m0YP6MnUDwCANogAiPOyZs0aBQQEaPDgwSqvrNeStbkqO1ljvh4TFaJrRmUooXOYF7sEAADfhQCIc7J582bddtttysnJkSQNGXG50odPVZeefSRJdptNIwf00MisHvL1sXuzVQAA8B8QAPGdysvL1djYqLlz5yo5OVmzb7tDm3Ye0Ptvv6qyE6d09c33qXevVE0bnaH4TqHebhcAAJwDAiC+1ZYtWzR69GhdcsklKiws1H/99mlV+0Sr77Beqm1w6vOVC1S862M9e/9N8rEz9QMAoL3gtza+1aBBg9S/f39t356t+B4ZqrJHy+12S5KmTb9ZI4YP084tG7V+3TovdwoAAM4HAbCDcrvdqq+vV11dnerr683g9l1qamrO+rOzya1rf/hz1dbVqmBfrtyuJvn5+WlMVjf95NrL9F/33SOPx6O//vWvLXUYAACgBXAKuANpaGhQRUWFampq5HQ6v/a6w+FQSEiIoqKiFBAQYNbLy8v10EMPqaioSHFxcZoyZYoGDBmjpetyVesbo6yhE5SzdZ2K8zbp6f/5tTqFB8lut2vcuHG64oortHTpUs2dO1c33XRTax4uAAC4QDbD+OrmbWi3nE6nSkpKVFtbe86fCQ4OVmJiov7xj3/ogQceUGRkpLp3767c3FydqqzS2Gtu0+AxUyRJVSeO6Z9/+m9lZqRr7ty5SkhIkNPplMPh0N69ezVz5kw1NTXp008/VadOnVrqMAEAwEXCKeB2rqKiQvv27Tuv8CdJtbW1mjNnjl544QXNmjVL8+fP1yuvz9c9j/9DqZlDtHrR33Xy+FF1jY3Qg3f9QHf/7C5t3rxZr732mqTmaaJhGOrVq5emTZumyy67TH5+fi1whAAA4GJjAtiOlZWVqays7JzfbxiGbDab+b/z5s3Txo0b9dTTf1RpY7C27SnRwdxtWj7vBVWUleiKKdfp/cXvyG6zqb6+Xpdeeqnsdrtef/11ZWVlmVNAt9stHx+e+AEAQHtBAGynKioqdOTIkXN+f1NTk5qamhQUFGTWTgdBSdqYc1T/+8wTytm6TpcMGa3+6al67f/+plWrVmncuHGSpLlz5+r222/Xddddp7lz517cAwIAAK2GU8DtkNPp1NGjR8/5/a+//rpuuukm3Xrrrbr33nu1e/duSTKngWVlZfr7sw+qrPiAnvjj/2rd6mW6/dbZ8vX11ZNPPqmGhgZJ0k033aShQ4cqOTlZHo+nRY4NAAC0PCaA7VBBQcE5XfN37NgxPfzww9q9e7fGjBmj+vp67d+/X1VVVXrooYfMyd7KlSv14IMP6n8efUz33nO3AgIC1NTUpC5duqi8vFx//vOfdc8990hq3jT+1w1iAADQ/nAbmHamoaHhnBc+Pv30U+3fv18PPfSQhg4dqvDwcDU1Nenyyy/XSy+9pLi4OGVkZOjkyZNqbGzU5WPHSJLq6ur07LPPKjExUb1799abb76pO++8U35+foQ/AAA6AAJgO1NRUXFO72tqatKiRYs0aNAgTZ48WVLzRPDFF19UZWWlJkyYoPDwcElSYmKigoOD9dhjj+naa69VU1OTFi5cqFtuuUWzZs1SXFxcix0PAABofQTAdubfn9ZxWmVlpRnoJMnHx0dNTU1mePvf//1f/fOf/1SXLl309NNPa9CgQYqMjJQkDRgwQHfffbeeeuoprVixQh6PRzNmzNAdd9yh4ODglj8oAADQqrgGsB1xu93Ky8s7q7Z582a99NJLstlsGjdunCZOnKjo6GhVVlbqt7/9rfbv3y+Xy6WGhgbdcsstmjJlijp37mzetuXYsWNmSMzLy9ORI0c0duxY9evXr9WPDwAAtA62gNuRf3+827p16/Sb3/xGtbW1OnHihJ588kk9/fTT5jQwIyNDJSUlio6O1oIFC/TDH/5QcXFx8vHxUWNjo37/+9/rscceU2NjoySpT58+GjdunFJTU71xeAAAoJUQANuR08PakydPSmoOgBMnTtRzzz2nxYsXa9asWdq4caPeeOMNSdLMmTOVkpKisrIylZSUmAscxcXFeuedd7R58+ZvDHsMhQEA6Ni4BrAdmTdvnp599lkFBAToyiuvVF5enn7xi18oISFBkvTTn/5Ue/fu1eLFi3X55ZcrPT1dd955p1566SXdc889GjVqlEJCQlRYWKjs7GxNmTJFt99+u/z9/c/6PqdvDg0AADomrgFsJ1577TX95je/Uffu3XXq1Cnl5+crMDBQS5YsUVxcnJqamuTn56dly5bpqaee0pAhQ/T0009LkvLz8/X6669r586dCgwMVFhYmO644w4NHjz4G79Xnz59eLQbAAAdGAGwDXO5XLrnnntUXV2tiIgIhYeH6+qrr1ZoaKgef/xxvfPOO/rlL3+p2bNnmwFQkn71q1/p888/12OPPaaxY8ee9TXLysoUExPzrd/T4XAoLS2tRY8LAAB4F9cAtmHV1dWqrq7WW2+9peXLl+v2229Xt27dJEk333yzLrnkEs2ZM0fV1dXy8/NTU1OTJGnGjBkKDw/XP//5T7ndbknNYVLSd4Y/SQoJCWnBIwIAAG0BAbANi4yM1I9//GMNHDhQjY2Nstvt5r3+unfvrmnTpsnpdOq5556TJNntzf86Bw4cqCFDhmjr1q3asGGDJMnX99wu94yKimqBIwEAAG0JAbCNOn1mftiwYbrmmmt09OhRbdy4UcHBwebSxuWXX64xY8bovffe0969e+Xj42PeKuYnP/mJ3njjDY0ePfqcv2dwcDCPegMAwAIIgF5WW1urdevWSTpzmlZq3sQ1DEMOh0PXXHONhgwZot/97ndyOp3q1q2bDMNQeHi4eWPnp556SlLzNXySFBcXp/79+59zHzabTYmJiRfxyAAAQFtFAPSiZ599VpGRkRozZoyqq6u/dpr29O1YMjIydPvtt6uoqEhPPfWUHA6H+fSO4cOHa9iwYdqyZcvXnhJyPuLj483wCAAAOja2gL1g+fLluvvuu1VTU6OEhAQdOHBA27dvV0pKytfeaxiGbDabSkpK9P/+3//T8uXLtWfPHiUlJenIkSOqqKhQUVGR7Ha7kpKSLqifmJiY/7gcAgAAOg4mgK2osLBQw4YN07Rp0zRgwAAtXbpUEyZMUHBwsDp37vyNnzk9BUxMTNTs2bMVEhKi//7v/5bUPLVLSEhQ9+7dLyj82Ww2JSQkEP4AALAYAmAr+uCDD1RRUaG33npLL774ooYMGaIjR44oJSVF4eHh8ng83/i500Pa0aNH6+qrr9bChQtVXFwsm82mqKgopaamKjg4+Lx6CQ4OVmpqKlu/AABYEKeAW5HL5VJZWZni4+Nls9nkdDo1fvx4xcTE6N133z2nr3Hw4EFFRUUpIiLia681NDSooqJCNTU15jbwv3I4HAoJCVFUVBTbvgAAWBjPAm5Fvr6+5nN7PR6PfHx8dPDgQY0ZM0aS5Ha7/+Mj2Hr27PmtrwUEBJhf3+12y+l0mtcQOhwOHu8GAAAkEQC9xm63q7CwUKWlpebtWnx8fOTxeFRVVaWIiIhzCoTfxsfHR4GBgRezZQAA0EFwDaAXlZSUyDAM8/FupaWleuuttzRx4kSVl5czsQMAAC2CAOgFpy+73L9/v4KCghQZGalPP/1Ud911l2677TYZhiG73S4uzwQAAC2BU8BecPrWLgUFBQoODtYTTzyhd999V3FxcVq2bJkmTJjg5Q4BAEBHxgTQiwIDA1VaWqpFixbp0UcfVX5+PuEPAAC0OCaAXnTDDTcoMDBQd9xxh/z9/b3dDgAAsAjuAwgAAGAxnAIGAACwGAIgAACAxRAAAQAALIYACAAAYDEEQAAAAIshAAIAAFgMARAAAMBiCIAAAAAWQwAEAACwGAIgAACAxRAAAQAALIYACAAAYDEEQAAAAIshAAIAAFgMARAAAMBiCIAAAAAWQwAEAACwGAIgAACAxRAAAQAALIYACAAAYDEEQAAAAIshAAIAAFgMARAAAMBiCIAAAAAWQwAEAACwGAIgAACAxRAAAQAALIYACAAAYDEEQAAAAIshAAIAAFgMARAAAMBiCIAAAAAWQwAEAACwGAIgAACAxRAAAQAALIYACAAAYDEEQAAAAIshAAIAAFgMARAAAMBiCIAAAAAWQwAEAACwGAIgAACAxRAAAQAALIYACAAAYDEEQAAAAIshAAIAAFgMARAAAMBiCIAAAAAWQwAEAACwGAIgAACAxRAAAQAALIYACAAAYDEEQAAAAIshAAIAAFgMARAAAMBiCIAAAAAWQwAEAACwGAIgAACAxRAAAQAALIYACAAAYDEEQAAAAIshAAIAAFgMARAAAMBiCIAAAAAWQwAEAACwGAIgAACAxRAAAQAALIYACAAAYDEEQAAAAIv5/6R28WbRO6M3AAAAAElFTkSuQmCC\" style=\"max-width: 100%; height: auto;\">"
      ],
      "text/plain": [
       "<IPython.core.display.HTML object>"
      ]
     },
     "metadata": {},
     "output_type": "display_data"
    },
    {
     "data": {
      "text/plain": [
       "(np.float64(0.6666666666666666), 'f2e46af4_11+mean', '')"
      ]
     },
     "execution_count": 14,
     "metadata": {},
     "output_type": "execute_result"
    }
   ],
   "source": [
    "s.accept(src, dst)"
   ]
  },
  {
   "cell_type": "markdown",
   "metadata": {},
   "source": [
    "We can continue this process as long as we receive suggestions that lead to graph edits."
   ]
  },
  {
   "cell_type": "code",
   "execution_count": 15,
   "metadata": {},
   "outputs": [
    {
     "data": {
      "text/plain": [
       "('z mean', 'y mean')"
      ]
     },
     "execution_count": 15,
     "metadata": {},
     "output_type": "execute_result"
    }
   ],
   "source": [
    "(src,dst), latency = s.get_causal_graph_refinement_suggestion(treatment='x mean', outcome='y mean')\n",
    "(src,dst)"
   ]
  },
  {
   "cell_type": "code",
   "execution_count": 16,
   "metadata": {},
   "outputs": [
    {
     "data": {
      "text/html": [
       "<img src=\"data:image/png;base64,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\" style=\"max-width: 100%; height: auto;\">"
      ],
      "text/plain": [
       "<IPython.core.display.HTML object>"
      ]
     },
     "metadata": {},
     "output_type": "display_data"
    },
    {
     "data": {
      "text/plain": [
       "(np.float64(1.0), None, '')"
      ]
     },
     "execution_count": 16,
     "metadata": {},
     "output_type": "execute_result"
    }
   ],
   "source": [
    "s.accept(src, dst)"
   ]
  },
  {
   "cell_type": "markdown",
   "metadata": {},
   "source": [
    "We can then calculate the correctly adjusted ATE:"
   ]
  },
  {
   "cell_type": "code",
   "execution_count": 17,
   "metadata": {},
   "outputs": [
    {
     "data": {
      "image/png": "[encoded data removed]",
      "text/latex": [
       "$\\displaystyle -0.0003758076255167$"
      ],
      "text/plain": [
       "-0.00037580762551669977"
      ]
     },
     "execution_count": 17,
     "metadata": {},
     "output_type": "execute_result"
    }
   ],
   "source": [
    "s.get_adjusted_ate('x mean', 'y mean')"
   ]
  }
 ],
 "metadata": {
  "kernelspec": {
   "display_name": "markos-3.11.9-venv",
   "language": "python",
   "name": "python3"
  },
  "language_info": {
   "codemirror_mode": {
    "name": "ipython",
    "version": 3
   },
   "file_extension": ".py",
   "mimetype": "text/x-python",
   "name": "python",
   "nbconvert_exporter": "python",
   "pygments_lexer": "ipython3",
   "version": "3.11.9"
  },
  "orig_nbformat": 4
 },
 "nbformat": 4,
 "nbformat_minor": 2
}
