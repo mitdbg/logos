{
 "cells": [
  {
   "cell_type": "markdown",
   "metadata": {},
   "source": [
    "# Welcome!\n",
    "\n",
    "This is a quick demo of LOGos - a system for processing logs to help extract causal insights!\n",
    "\n",
    "If you would like to take a fuller look at the API, you can read the documentation [here](https://mitdbg.github.io/logos)."
   ]
  },
  {
   "cell_type": "code",
   "execution_count": 1,
   "metadata": {},
   "outputs": [],
   "source": [
    "import sys\n",
    "sys.path.append(\"..\")\n",
    "from src.logos.logos import LOGos"
   ]
  },
  {
   "cell_type": "markdown",
   "metadata": {},
   "source": [
    "## The Log\n",
    "\n",
    "For this demo, we will analyze a simple a synthetic log, stored at `demo/demo.log`. This log contains three different log line *templates*, each of which reports the value of one of the variables `x`, `y` and `z`. Here is an example of each line:\n",
    "\n",
    "```\n",
    "2023-03-14T20:55:49.234591Z DATA The current line will include the value of z = 100.0\n",
    "2023-03-14T20:55:49.233591Z DATA Short message with x = 199.05342369055703\n",
    "2023-03-14T20:55:49.232591Z DATA This is a log message that reports y = 399.82103707673997\n",
    "```\n",
    "\n",
    "Each millisecond, we decide whether or not to \"flip\" the value of `z` between 100 and 200, with probability `1%`. If we end up flipping it, we print a log line that reports the new value (first template above).\n",
    "\n",
    "Each millisecond, we print the value of `x` (second template above), which is generated each time by taking the most recent value of `z` and adding random noise in `[-1,1]`.\n",
    "\n",
    "Finally, each millisecond we print the value of `y` with probability `50%`(third template above). The value of `y` is generated each time by taking the most recent value of `z`, multiplying it by `2` and adding random noise in `[-1,1]`.\n",
    "\n",
    "Our objective is to find what is causing the variation in `y`, while appropriately adjusting for any confounders.\n"
   ]
  },
  {
   "cell_type": "markdown",
   "metadata": {},
   "source": [
    "## LOGos: Log Converter"
   ]
  },
  {
   "cell_type": "markdown",
   "metadata": {},
   "source": [
    "Let's create a LOGos instance and initialize it with the path to the log above."
   ]
  },
  {
   "cell_type": "code",
   "execution_count": 2,
   "metadata": {},
   "outputs": [],
   "source": [
    "s = LOGos(\"demo.log\", workdir='./workdir')"
   ]
  },
  {
   "cell_type": "markdown",
   "metadata": {},
   "source": [
    "### Parsing and tagging variables"
   ]
  },
  {
   "cell_type": "markdown",
   "metadata": {},
   "source": [
    "We can call the `parse()` function to parse the log into a table using the [Drain](https://logparser.readthedocs.io/en/latest/tools/Drain.html) algorithm. \n",
    "\n",
    "The Drain algorithm can first extract named variables from each log line using regular expressions. By default, LOGos provides a single regular expression to capture timestamps in the format shown above, naming the resulting field `Timestamp`, but users can parse additional regular expressions to the `parse()` call as a dictionary, via the `regex_dict` parameter.\n",
    "\n",
    "Then, the Drain algorithm separated log lines into \"templates\" and \"variables\", based on the similarity of each new line to the lines seen before it. You can find more information in the paper."
   ]
  },
  {
   "cell_type": "code",
   "execution_count": 3,
   "metadata": {},
   "outputs": [
    {
     "data": {
      "text/html": [
       "<div>\n",
       "<style scoped>\n",
       "    .dataframe tbody tr th:only-of-type {\n",
       "        vertical-align: middle;\n",
       "    }\n",
       "\n",
       "    .dataframe tbody tr th {\n",
       "        vertical-align: top;\n",
       "    }\n",
       "\n",
       "    .dataframe thead th {\n",
       "        text-align: right;\n",
       "    }\n",
       "</style>\n",
       "<table border=\"1\" class=\"dataframe\">\n",
       "  <thead>\n",
       "    <tr style=\"text-align: right;\">\n",
       "      <th></th>\n",
       "      <th>TemplateId</th>\n",
       "      <th>Timestamp</th>\n",
       "      <th>43e6c5b5_7</th>\n",
       "      <th>f2e46af4_11</th>\n",
       "      <th>f98340b4_12</th>\n",
       "    </tr>\n",
       "  </thead>\n",
       "  <tbody>\n",
       "    <tr>\n",
       "      <th>0</th>\n",
       "      <td>43e6c5b5</td>\n",
       "      <td>1.678827e+09</td>\n",
       "      <td>100.002860</td>\n",
       "      <td>NaN</td>\n",
       "      <td>NaN</td>\n",
       "    </tr>\n",
       "    <tr>\n",
       "      <th>1</th>\n",
       "      <td>f2e46af4</td>\n",
       "      <td>1.678827e+09</td>\n",
       "      <td>NaN</td>\n",
       "      <td>200.189963</td>\n",
       "      <td>NaN</td>\n",
       "    </tr>\n",
       "    <tr>\n",
       "      <th>2</th>\n",
       "      <td>43e6c5b5</td>\n",
       "      <td>1.678827e+09</td>\n",
       "      <td>100.812299</td>\n",
       "      <td>NaN</td>\n",
       "      <td>NaN</td>\n",
       "    </tr>\n",
       "    <tr>\n",
       "      <th>3</th>\n",
       "      <td>f2e46af4</td>\n",
       "      <td>1.678827e+09</td>\n",
       "      <td>NaN</td>\n",
       "      <td>200.458986</td>\n",
       "      <td>NaN</td>\n",
       "    </tr>\n",
       "    <tr>\n",
       "      <th>4</th>\n",
       "      <td>43e6c5b5</td>\n",
       "      <td>1.678827e+09</td>\n",
       "      <td>100.260164</td>\n",
       "      <td>NaN</td>\n",
       "      <td>NaN</td>\n",
       "    </tr>\n",
       "  </tbody>\n",
       "</table>\n",
       "</div>"
      ],
      "text/plain": [
       "  TemplateId     Timestamp  43e6c5b5_7  f2e46af4_11  f98340b4_12\n",
       "0   43e6c5b5  1.678827e+09  100.002860          NaN          NaN\n",
       "1   f2e46af4  1.678827e+09         NaN   200.189963          NaN\n",
       "2   43e6c5b5  1.678827e+09  100.812299          NaN          NaN\n",
       "3   f2e46af4  1.678827e+09         NaN   200.458986          NaN\n",
       "4   43e6c5b5  1.678827e+09  100.260164          NaN          NaN"
      ]
     },
     "execution_count": 3,
     "metadata": {},
     "output_type": "execute_result"
    }
   ],
   "source": [
    "s.parse()\n",
    "s.parsed_log.head()"
   ]
  },
  {
   "cell_type": "markdown",
   "metadata": {},
   "source": [
    "Let's take a look at the extracted templates. Indeed, Drain has detected the three templates in the synthetic log. Each template is given a hash-based template ID. For each template, we see that a variable has been detected (at word indices 7, 11 and 12, respectively) and replaced with `<*>` in the template text. \n",
    "\n",
    "For each template, we also got a regular expression match at index 0, corresponding to the regular expression that matches timestamps. The timestamps were correspondingly replaced by `<*0>`, since that was the 0th (and only) regular expression we provided."
   ]
  },
  {
   "cell_type": "code",
   "execution_count": 4,
   "metadata": {},
   "outputs": [
    {
     "data": {
      "text/html": [
       "<div>\n",
       "<style scoped>\n",
       "    .dataframe tbody tr th:only-of-type {\n",
       "        vertical-align: middle;\n",
       "    }\n",
       "\n",
       "    .dataframe tbody tr th {\n",
       "        vertical-align: top;\n",
       "    }\n",
       "\n",
       "    .dataframe thead th {\n",
       "        text-align: right;\n",
       "    }\n",
       "</style>\n",
       "<table border=\"1\" class=\"dataframe\">\n",
       "  <thead>\n",
       "    <tr style=\"text-align: right;\">\n",
       "      <th></th>\n",
       "      <th>TemplateText</th>\n",
       "      <th>TemplateId</th>\n",
       "      <th>VariableIndices</th>\n",
       "      <th>RegexIndices</th>\n",
       "      <th>TemplateExample</th>\n",
       "      <th>Occurrences</th>\n",
       "    </tr>\n",
       "  </thead>\n",
       "  <tbody>\n",
       "    <tr>\n",
       "      <th>0</th>\n",
       "      <td>&lt;*0&gt; DATA Short message with x = &lt;*&gt;</td>\n",
       "      <td>43e6c5b5</td>\n",
       "      <td>[7]</td>\n",
       "      <td>[0]</td>\n",
       "      <td>&lt;*0&gt; DATA Short message with x  =  100.0028596...</td>\n",
       "      <td>10000</td>\n",
       "    </tr>\n",
       "    <tr>\n",
       "      <th>1</th>\n",
       "      <td>&lt;*0&gt; DATA This is a log message that reports y...</td>\n",
       "      <td>f2e46af4</td>\n",
       "      <td>[11]</td>\n",
       "      <td>[0]</td>\n",
       "      <td>&lt;*0&gt; DATA This is a log message that reports y...</td>\n",
       "      <td>5006</td>\n",
       "    </tr>\n",
       "    <tr>\n",
       "      <th>2</th>\n",
       "      <td>&lt;*0&gt; DATA The current line will include the va...</td>\n",
       "      <td>f98340b4</td>\n",
       "      <td>[12]</td>\n",
       "      <td>[0]</td>\n",
       "      <td>&lt;*0&gt; DATA The current line will include the va...</td>\n",
       "      <td>115</td>\n",
       "    </tr>\n",
       "  </tbody>\n",
       "</table>\n",
       "</div>"
      ],
      "text/plain": [
       "                                        TemplateText TemplateId  \\\n",
       "0               <*0> DATA Short message with x = <*>   43e6c5b5   \n",
       "1  <*0> DATA This is a log message that reports y...   f2e46af4   \n",
       "2  <*0> DATA The current line will include the va...   f98340b4   \n",
       "\n",
       "  VariableIndices RegexIndices  \\\n",
       "0             [7]          [0]   \n",
       "1            [11]          [0]   \n",
       "2            [12]          [0]   \n",
       "\n",
       "                                     TemplateExample  Occurrences  \n",
       "0  <*0> DATA Short message with x  =  100.0028596...        10000  \n",
       "1  <*0> DATA This is a log message that reports y...         5006  \n",
       "2  <*0> DATA The current line will include the va...          115  "
      ]
     },
     "execution_count": 4,
     "metadata": {},
     "output_type": "execute_result"
    }
   ],
   "source": [
    "s.parsed_templates"
   ]
  },
  {
   "cell_type": "markdown",
   "metadata": {},
   "source": [
    "We can also look at the extracted variables. For variables that were extracted via a regular expression, like the timestamp, the user has already provided a name (in this case, `Timestamp`). For the rest, a variable name is generated from the corresponding template ID and the index that the variable appear in, within the template. For each variable, we also report the preceding 3 tokens and some example values. \n",
    "\n",
    "Since the automatically-generated names are not meaningful, we also allow for each variable to carry a tag. Initial values of these tags are guessed from the preceding tokens of each variable, or using language models. However, the user can also manually edit these tags later on. You can find more information in our paper."
   ]
  },
  {
   "cell_type": "code",
   "execution_count": 5,
   "metadata": {},
   "outputs": [
    {
     "data": {
      "text/html": [
       "<div>\n",
       "<style scoped>\n",
       "    .dataframe tbody tr th:only-of-type {\n",
       "        vertical-align: middle;\n",
       "    }\n",
       "\n",
       "    .dataframe tbody tr th {\n",
       "        vertical-align: top;\n",
       "    }\n",
       "\n",
       "    .dataframe thead th {\n",
       "        text-align: right;\n",
       "    }\n",
       "</style>\n",
       "<table border=\"1\" class=\"dataframe\">\n",
       "  <thead>\n",
       "    <tr style=\"text-align: right;\">\n",
       "      <th></th>\n",
       "      <th>Name</th>\n",
       "      <th>Tag</th>\n",
       "      <th>TagOrigin</th>\n",
       "      <th>Type</th>\n",
       "      <th>IsUninteresting</th>\n",
       "      <th>Occurrences</th>\n",
       "      <th>Preceding 3 tokens</th>\n",
       "      <th>Examples</th>\n",
       "      <th>From regex</th>\n",
       "    </tr>\n",
       "  </thead>\n",
       "  <tbody>\n",
       "    <tr>\n",
       "      <th>0</th>\n",
       "      <td>Timestamp</td>\n",
       "      <td>Timestamp</td>\n",
       "      <td>4</td>\n",
       "      <td>num</td>\n",
       "      <td>False</td>\n",
       "      <td>15121</td>\n",
       "      <td>[]</td>\n",
       "      <td>[2023-03-14T20:55:49.165591Z, 2023-03-14T20:55...</td>\n",
       "      <td>True</td>\n",
       "    </tr>\n",
       "    <tr>\n",
       "      <th>1</th>\n",
       "      <td>43e6c5b5_7</td>\n",
       "      <td>x</td>\n",
       "      <td>0</td>\n",
       "      <td>num</td>\n",
       "      <td>False</td>\n",
       "      <td>10000</td>\n",
       "      <td>[with, x, =]</td>\n",
       "      <td>[100.00285967800117, 100.81229891323964, 100.2...</td>\n",
       "      <td>False</td>\n",
       "    </tr>\n",
       "    <tr>\n",
       "      <th>2</th>\n",
       "      <td>f2e46af4_11</td>\n",
       "      <td>y</td>\n",
       "      <td>0</td>\n",
       "      <td>num</td>\n",
       "      <td>False</td>\n",
       "      <td>5006</td>\n",
       "      <td>[reports, y, =]</td>\n",
       "      <td>[200.1899632341074, 200.45898567905772, 399.69...</td>\n",
       "      <td>False</td>\n",
       "    </tr>\n",
       "    <tr>\n",
       "      <th>3</th>\n",
       "      <td>f98340b4_12</td>\n",
       "      <td>z</td>\n",
       "      <td>0</td>\n",
       "      <td>num</td>\n",
       "      <td>False</td>\n",
       "      <td>115</td>\n",
       "      <td>[of, z, =]</td>\n",
       "      <td>[200.0, 100.0]</td>\n",
       "      <td>False</td>\n",
       "    </tr>\n",
       "  </tbody>\n",
       "</table>\n",
       "</div>"
      ],
      "text/plain": [
       "          Name        Tag  TagOrigin Type  IsUninteresting  Occurrences  \\\n",
       "0    Timestamp  Timestamp          4  num            False        15121   \n",
       "1   43e6c5b5_7          x          0  num            False        10000   \n",
       "2  f2e46af4_11          y          0  num            False         5006   \n",
       "3  f98340b4_12          z          0  num            False          115   \n",
       "\n",
       "  Preceding 3 tokens                                           Examples  \\\n",
       "0                 []  [2023-03-14T20:55:49.165591Z, 2023-03-14T20:55...   \n",
       "1       [with, x, =]  [100.00285967800117, 100.81229891323964, 100.2...   \n",
       "2    [reports, y, =]  [200.1899632341074, 200.45898567905772, 399.69...   \n",
       "3         [of, z, =]                                     [200.0, 100.0]   \n",
       "\n",
       "   From regex  \n",
       "0        True  \n",
       "1       False  \n",
       "2       False  \n",
       "3       False  "
      ]
     },
     "execution_count": 5,
     "metadata": {},
     "output_type": "execute_result"
    }
   ],
   "source": [
    "s.parsed_variables"
   ]
  },
  {
   "cell_type": "markdown",
   "metadata": {},
   "source": [
    "### Defining the causal unit and aggregating"
   ]
  },
  {
   "cell_type": "markdown",
   "metadata": {},
   "source": [
    "To continue our analysis, we would like to structure and complete the parsed information to form \"causal units\", which will be the units on which our causal analysis will be performed. If we think of causality in other contexts, the causal units could be patients in a medical context, or individuals in an economic/social study.\n",
    "\n",
    "Causal units are defined by one of the available attributes. In a medical context, this could be \"patient name\". In a systems context, we could pick one of the variables parsed from the log. This decision should come from the user's domain knowledge.  The user can then call `set_causal_unit()`. For example, the call below indicates that each causal unit should be a `1 ms`-long time interval (not that this choice may not be appropriate in every setting):"
   ]
  },
  {
   "cell_type": "code",
   "execution_count": 6,
   "metadata": {},
   "outputs": [],
   "source": [
    "s.set_causal_unit(\"Timestamp\", num_units=10000)"
   ]
  },
  {
   "cell_type": "markdown",
   "metadata": {},
   "source": [
    "Given the causal unit, we can then ask Sawmill to perpare the log for analysis by using `prepare()`. Preparing the log involves two distinct tasks:\n",
    "\n",
    "1. Aggregation: Based on our choice of causal unit, there might be variables that take a multitude of values on different log lines associated with the same causal unit. For example, had we chosen a 10ms window as our causal unit, there would have been 10 lines reporting values of `x`. From this multitude of values, a fixed set of values must be derived (e.g. we could always keep the mean, or the last value seen). By default, Sawmill will generate the `min`, `max` and `mean` for numerical variables; the most recent value for string variables; and the least recent value for date-typed variables.\n",
    "\n",
    "2. Imputation: On the other end of the spectrum, there might be variables that are never observed within some causal unit. For example, `z` is only reported every approximately `100 ms`, so it should be missing most of the time, if our causal unit is a `1 ms` window. Whether and how to impute such missing values is application-dependent, since we must avoid information leakage from one causal unit to another or risk violating SUTVA. In this case, we know that `z` should be interpreted as a \"sticky\" value, but `x` and `y` should not be imputed.\n",
    "\n",
    "After aggregating and imputing, we drop any causal units that still have missing values."
   ]
  },
  {
   "cell_type": "code",
   "execution_count": 7,
   "metadata": {},
   "outputs": [
    {
     "data": {
      "application/vnd.jupyter.widget-view+json": {
       "model_id": "b4d19d03db4b4f9ead3d4fdf41480322",
       "version_major": 2,
       "version_minor": 0
      },
      "text/plain": [
       "Imputing missing values...:   0%|          | 0/9 [00:00<?, ?it/s]"
      ]
     },
     "metadata": {},
     "output_type": "display_data"
    },
    {
     "data": {
      "application/vnd.jupyter.widget-view+json": {
       "model_id": "54368a2877234ceaa581785040340a6a",
       "version_major": 2,
       "version_minor": 0
      },
      "text/plain": [
       "One-hot encoding categorical variables...: 0it [00:00, ?it/s]"
      ]
     },
     "metadata": {},
     "output_type": "display_data"
    },
    {
     "data": {
      "text/html": [
       "<div>\n",
       "<style scoped>\n",
       "    .dataframe tbody tr th:only-of-type {\n",
       "        vertical-align: middle;\n",
       "    }\n",
       "\n",
       "    .dataframe tbody tr th {\n",
       "        vertical-align: top;\n",
       "    }\n",
       "\n",
       "    .dataframe thead th {\n",
       "        text-align: right;\n",
       "    }\n",
       "</style>\n",
       "<table border=\"1\" class=\"dataframe\">\n",
       "  <thead>\n",
       "    <tr style=\"text-align: right;\">\n",
       "      <th></th>\n",
       "      <th>43e6c5b5_7+mean</th>\n",
       "      <th>f2e46af4_11+mean</th>\n",
       "      <th>f98340b4_12+mean</th>\n",
       "    </tr>\n",
       "    <tr>\n",
       "      <th>Timestamp+max</th>\n",
       "      <th></th>\n",
       "      <th></th>\n",
       "      <th></th>\n",
       "    </tr>\n",
       "  </thead>\n",
       "  <tbody>\n",
       "    <tr>\n",
       "      <th>1678827349.170591</th>\n",
       "      <td>199.659262</td>\n",
       "      <td>399.690577</td>\n",
       "      <td>200.0</td>\n",
       "    </tr>\n",
       "    <tr>\n",
       "      <th>1678827349.173591</th>\n",
       "      <td>199.755998</td>\n",
       "      <td>400.227124</td>\n",
       "      <td>200.0</td>\n",
       "    </tr>\n",
       "    <tr>\n",
       "      <th>1678827349.175591</th>\n",
       "      <td>200.098576</td>\n",
       "      <td>400.083430</td>\n",
       "      <td>200.0</td>\n",
       "    </tr>\n",
       "    <tr>\n",
       "      <th>1678827349.178591</th>\n",
       "      <td>200.158634</td>\n",
       "      <td>399.188180</td>\n",
       "      <td>200.0</td>\n",
       "    </tr>\n",
       "    <tr>\n",
       "      <th>1678827349.179591</th>\n",
       "      <td>200.934658</td>\n",
       "      <td>400.514334</td>\n",
       "      <td>200.0</td>\n",
       "    </tr>\n",
       "    <tr>\n",
       "      <th>1678827349.181591</th>\n",
       "      <td>199.626578</td>\n",
       "      <td>399.894171</td>\n",
       "      <td>200.0</td>\n",
       "    </tr>\n",
       "    <tr>\n",
       "      <th>1678827349.182591</th>\n",
       "      <td>200.937334</td>\n",
       "      <td>400.577257</td>\n",
       "      <td>200.0</td>\n",
       "    </tr>\n",
       "    <tr>\n",
       "      <th>1678827349.183591</th>\n",
       "      <td>199.831092</td>\n",
       "      <td>399.077464</td>\n",
       "      <td>200.0</td>\n",
       "    </tr>\n",
       "    <tr>\n",
       "      <th>1678827349.188591</th>\n",
       "      <td>199.372097</td>\n",
       "      <td>399.650472</td>\n",
       "      <td>200.0</td>\n",
       "    </tr>\n",
       "    <tr>\n",
       "      <th>1678827349.193591</th>\n",
       "      <td>200.476665</td>\n",
       "      <td>400.613001</td>\n",
       "      <td>200.0</td>\n",
       "    </tr>\n",
       "  </tbody>\n",
       "</table>\n",
       "</div>"
      ],
      "text/plain": [
       "                   43e6c5b5_7+mean  f2e46af4_11+mean  f98340b4_12+mean\n",
       "Timestamp+max                                                         \n",
       "1678827349.170591       199.659262        399.690577             200.0\n",
       "1678827349.173591       199.755998        400.227124             200.0\n",
       "1678827349.175591       200.098576        400.083430             200.0\n",
       "1678827349.178591       200.158634        399.188180             200.0\n",
       "1678827349.179591       200.934658        400.514334             200.0\n",
       "1678827349.181591       199.626578        399.894171             200.0\n",
       "1678827349.182591       200.937334        400.577257             200.0\n",
       "1678827349.183591       199.831092        399.077464             200.0\n",
       "1678827349.188591       199.372097        399.650472             200.0\n",
       "1678827349.193591       200.476665        400.613001             200.0"
      ]
     },
     "execution_count": 7,
     "metadata": {},
     "output_type": "execute_result"
    }
   ],
   "source": [
    "imputation_functions = {'z': 'ffill_imp'}\n",
    "aggregation_functions = {'Timestamp': ['max']}\n",
    "s.prepare(custom_agg=aggregation_functions, custom_imp=imputation_functions, force=True)\n",
    "s.prepared_log.head(10)"
   ]
  },
  {
   "cell_type": "code",
   "execution_count": 8,
   "metadata": {},
   "outputs": [
    {
     "data": {
      "text/html": [
       "<div>\n",
       "<style scoped>\n",
       "    .dataframe tbody tr th:only-of-type {\n",
       "        vertical-align: middle;\n",
       "    }\n",
       "\n",
       "    .dataframe tbody tr th {\n",
       "        vertical-align: top;\n",
       "    }\n",
       "\n",
       "    .dataframe thead th {\n",
       "        text-align: right;\n",
       "    }\n",
       "</style>\n",
       "<table border=\"1\" class=\"dataframe\">\n",
       "  <thead>\n",
       "    <tr style=\"text-align: right;\">\n",
       "      <th></th>\n",
       "      <th>Name</th>\n",
       "      <th>Base</th>\n",
       "      <th>Pre-agg Value</th>\n",
       "      <th>Agg</th>\n",
       "      <th>Post-agg Value</th>\n",
       "      <th>Tag</th>\n",
       "      <th>Base Variable Occurences</th>\n",
       "      <th>Type</th>\n",
       "      <th>Examples</th>\n",
       "      <th>From regex</th>\n",
       "      <th>TemplateText</th>\n",
       "    </tr>\n",
       "  </thead>\n",
       "  <tbody>\n",
       "    <tr>\n",
       "      <th>0</th>\n",
       "      <td>43e6c5b5_7+mean</td>\n",
       "      <td>43e6c5b5_7</td>\n",
       "      <td></td>\n",
       "      <td>mean</td>\n",
       "      <td></td>\n",
       "      <td>x mean</td>\n",
       "      <td>10000</td>\n",
       "      <td>num</td>\n",
       "      <td>[100.00285967800117, 100.81229891323964, 100.2...</td>\n",
       "      <td>False</td>\n",
       "      <td>&lt;*0&gt; DATA Short message with x = &lt;*&gt;</td>\n",
       "    </tr>\n",
       "    <tr>\n",
       "      <th>1</th>\n",
       "      <td>f2e46af4_11+mean</td>\n",
       "      <td>f2e46af4_11</td>\n",
       "      <td></td>\n",
       "      <td>mean</td>\n",
       "      <td></td>\n",
       "      <td>y mean</td>\n",
       "      <td>5006</td>\n",
       "      <td>num</td>\n",
       "      <td>[200.1899632341074, 200.45898567905772, 399.69...</td>\n",
       "      <td>False</td>\n",
       "      <td>&lt;*0&gt; DATA This is a log message that reports y...</td>\n",
       "    </tr>\n",
       "    <tr>\n",
       "      <th>2</th>\n",
       "      <td>f98340b4_12+mean</td>\n",
       "      <td>f98340b4_12</td>\n",
       "      <td></td>\n",
       "      <td>mean</td>\n",
       "      <td></td>\n",
       "      <td>z mean</td>\n",
       "      <td>115</td>\n",
       "      <td>num</td>\n",
       "      <td>[200.0, 100.0]</td>\n",
       "      <td>False</td>\n",
       "      <td>&lt;*0&gt; DATA The current line will include the va...</td>\n",
       "    </tr>\n",
       "  </tbody>\n",
       "</table>\n",
       "</div>"
      ],
      "text/plain": [
       "               Name         Base Pre-agg Value   Agg Post-agg Value     Tag  \\\n",
       "0   43e6c5b5_7+mean   43e6c5b5_7                mean                 x mean   \n",
       "1  f2e46af4_11+mean  f2e46af4_11                mean                 y mean   \n",
       "2  f98340b4_12+mean  f98340b4_12                mean                 z mean   \n",
       "\n",
       "   Base Variable Occurences Type  \\\n",
       "0                     10000  num   \n",
       "1                      5006  num   \n",
       "2                       115  num   \n",
       "\n",
       "                                            Examples  From regex  \\\n",
       "0  [100.00285967800117, 100.81229891323964, 100.2...       False   \n",
       "1  [200.1899632341074, 200.45898567905772, 399.69...       False   \n",
       "2                                     [200.0, 100.0]       False   \n",
       "\n",
       "                                        TemplateText  \n",
       "0               <*0> DATA Short message with x = <*>  \n",
       "1  <*0> DATA This is a log message that reports y...  \n",
       "2  <*0> DATA The current line will include the va...  "
      ]
     },
     "execution_count": 8,
     "metadata": {},
     "output_type": "execute_result"
    }
   ],
   "source": [
    "s.prepared_variables"
   ]
  },
  {
   "cell_type": "markdown",
   "metadata": {},
   "source": [
    "This dataset can now serve as the input to LOGos's two human-in-the-loop modules."
   ]
  },
  {
   "cell_type": "markdown",
   "metadata": {},
   "source": [
    "## LOGos: Candidate Cause Ranker"
   ]
  },
  {
   "cell_type": "markdown",
   "metadata": {},
   "source": [
    "In this variable, we iteratively pick the variable that interests us and ask the system for candidate causes for it. Remember from our data generation process, that `y` appears to be roughly equal to `2x`, but that both `x` and `y` are in fact driven by the value of `z`:"
   ]
  },
  {
   "cell_type": "code",
   "execution_count": 9,
   "metadata": {},
   "outputs": [
    {
     "data": {
      "text/html": [
       "<div>\n",
       "<style scoped>\n",
       "    .dataframe tbody tr th:only-of-type {\n",
       "        vertical-align: middle;\n",
       "    }\n",
       "\n",
       "    .dataframe tbody tr th {\n",
       "        vertical-align: top;\n",
       "    }\n",
       "\n",
       "    .dataframe thead th {\n",
       "        text-align: right;\n",
       "    }\n",
       "</style>\n",
       "<table border=\"1\" class=\"dataframe\">\n",
       "  <thead>\n",
       "    <tr style=\"text-align: right;\">\n",
       "      <th></th>\n",
       "      <th>Candidate</th>\n",
       "      <th>Candidate Tag</th>\n",
       "      <th>Target Tag</th>\n",
       "      <th>Slope</th>\n",
       "      <th>P-value</th>\n",
       "      <th>Candidate-&gt;Target Edge Status</th>\n",
       "      <th>Target-&gt;Candidate Edge Status</th>\n",
       "    </tr>\n",
       "  </thead>\n",
       "  <tbody>\n",
       "    <tr>\n",
       "      <th>0</th>\n",
       "      <td>43e6c5b5_7+mean</td>\n",
       "      <td>x mean</td>\n",
       "      <td>y mean</td>\n",
       "      <td>1.999968</td>\n",
       "      <td>0.0</td>\n",
       "      <td>Undecided</td>\n",
       "      <td>Undecided</td>\n",
       "    </tr>\n",
       "    <tr>\n",
       "      <th>1</th>\n",
       "      <td>f98340b4_12+mean</td>\n",
       "      <td>z mean</td>\n",
       "      <td>y mean</td>\n",
       "      <td>2.000228</td>\n",
       "      <td>0.0</td>\n",
       "      <td>Undecided</td>\n",
       "      <td>Undecided</td>\n",
       "    </tr>\n",
       "  </tbody>\n",
       "</table>\n",
       "</div>"
      ],
      "text/plain": [
       "          Candidate Candidate Tag Target Tag     Slope  P-value  \\\n",
       "0   43e6c5b5_7+mean        x mean     y mean  1.999968      0.0   \n",
       "1  f98340b4_12+mean        z mean     y mean  2.000228      0.0   \n",
       "\n",
       "  Candidate->Target Edge Status Target->Candidate Edge Status  \n",
       "0                     Undecided                     Undecided  \n",
       "1                     Undecided                     Undecided  "
      ]
     },
     "execution_count": 9,
     "metadata": {},
     "output_type": "execute_result"
    }
   ],
   "source": [
    "ranking, latency = s.rank_candidate_causes('y mean')\n",
    "ranking"
   ]
  },
  {
   "cell_type": "markdown",
   "metadata": {},
   "source": [
    "As expected, the system cannot meaningfully distinguish between the impact of `x` and `z` on `y`, since `x` is essentially a slightly noisy version of `z`. Both are reported with similar relationship strengths. However, based on our domain knowledge, `x` is a more plausible cause of `y`, so we accept it into the graph:"
   ]
  },
  {
   "cell_type": "code",
   "execution_count": 10,
   "metadata": {},
   "outputs": [
    {
     "data": {
      "text/html": [
       "<img src=\"data:image/png;base64,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\" style=\"max-width: 100%; height: auto;\">"
      ],
      "text/plain": [
       "<IPython.core.display.HTML object>"
      ]
     },
     "metadata": {},
     "output_type": "display_data"
    },
    {
     "data": {
      "text/plain": [
       "(np.float64(0.3333333333333333), '43e6c5b5_7+mean', '')"
      ]
     },
     "execution_count": 10,
     "metadata": {},
     "output_type": "execute_result"
    }
   ],
   "source": [
    "s.accept('x mean', 'y mean')"
   ]
  },
  {
   "cell_type": "markdown",
   "metadata": {},
   "source": [
    "We can then use LOGos to calculate the average treatment effect of `x mean` on `y mean`:"
   ]
  },
  {
   "cell_type": "code",
   "execution_count": 11,
   "metadata": {},
   "outputs": [
    {
     "data": {
      "image/png": "[encoded data removed]",
      "text/latex": [
       "$\\displaystyle 1.9999681306084$"
      ],
      "text/plain": [
       "1.9999681306083983"
      ]
     },
     "execution_count": 11,
     "metadata": {},
     "output_type": "execute_result"
    }
   ],
   "source": [
    "s.get_adjusted_ate('x mean', 'y mean')"
   ]
  },
  {
   "cell_type": "markdown",
   "metadata": {},
   "source": [
    "## LOGos: Interactive Causal Graph Refiner"
   ]
  },
  {
   "cell_type": "markdown",
   "metadata": {},
   "source": [
    "However, accepting this ATE value would be still premature. There may be other log variables that confound the observed effect. To determine such variables, we can use the following function to receive pairs of variables into which we should take a closer look. We can then choose what edge, if any, to add between them. "
   ]
  },
  {
   "cell_type": "code",
   "execution_count": 12,
   "metadata": {},
   "outputs": [
    {
     "data": {
      "text/plain": [
       "('z mean', 'x mean')"
      ]
     },
     "execution_count": 12,
     "metadata": {},
     "output_type": "execute_result"
    }
   ],
   "source": [
    "(src,dst), latency = s.get_causal_graph_refinement_suggestion(treatment='x mean', outcome='y mean')\n",
    "(src,dst)"
   ]
  },
  {
   "cell_type": "code",
   "execution_count": 13,
   "metadata": {},
   "outputs": [
    {
     "data": {
      "text/html": [
       "<img src=\"data:image/png;base64,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\" style=\"max-width: 100%; height: auto;\">"
      ],
      "text/plain": [
       "<IPython.core.display.HTML object>"
      ]
     },
     "metadata": {},
     "output_type": "display_data"
    },
    {
     "data": {
      "text/plain": [
       "(np.float64(0.6666666666666666), 'f2e46af4_11+mean', '')"
      ]
     },
     "execution_count": 13,
     "metadata": {},
     "output_type": "execute_result"
    }
   ],
   "source": [
    "s.accept(src, dst)"
   ]
  },
  {
   "cell_type": "markdown",
   "metadata": {},
   "source": [
    "We can continue this process as long as we receive suggestions that lead to graph edits."
   ]
  },
  {
   "cell_type": "code",
   "execution_count": 14,
   "metadata": {},
   "outputs": [
    {
     "data": {
      "text/plain": [
       "('z mean', 'y mean')"
      ]
     },
     "execution_count": 14,
     "metadata": {},
     "output_type": "execute_result"
    }
   ],
   "source": [
    "(src,dst), latency = s.get_causal_graph_refinement_suggestion(treatment='x mean', outcome='y mean')\n",
    "(src,dst)"
   ]
  },
  {
   "cell_type": "code",
   "execution_count": 23,
   "metadata": {},
   "outputs": [
    {
     "data": {
      "text/html": [
       "<img src=\"data:image/png;base64,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\" style=\"max-width: 100%; height: auto;\">"
      ],
      "text/plain": [
       "<IPython.core.display.HTML object>"
      ]
     },
     "metadata": {},
     "output_type": "display_data"
    },
    {
     "data": {
      "text/plain": [
       "(np.float64(1.0), None, '')"
      ]
     },
     "execution_count": 23,
     "metadata": {},
     "output_type": "execute_result"
    }
   ],
   "source": [
    "s.accept(src, dst)"
   ]
  },
  {
   "cell_type": "markdown",
   "metadata": {},
   "source": [
    "We can then calculate the correctly adjusted ATE:"
   ]
  },
  {
   "cell_type": "code",
   "execution_count": 17,
   "metadata": {},
   "outputs": [
    {
     "data": {
      "image/png": "[encoded data removed]",
      "text/latex": [
       "$\\displaystyle -0.0003758076255167$"
      ],
      "text/plain": [
       "-0.00037580762551669977"
      ]
     },
     "execution_count": 17,
     "metadata": {},
     "output_type": "execute_result"
    }
   ],
   "source": [
    "s.get_adjusted_ate('x mean', 'y mean')"
   ]
  }
 ],
 "metadata": {
  "kernelspec": {
   "display_name": "markos-3.11.9-venv",
   "language": "python",
   "name": "python3"
  },
  "language_info": {
   "codemirror_mode": {
    "name": "ipython",
    "version": 3
   },
   "file_extension": ".py",
   "mimetype": "text/x-python",
   "name": "python",
   "nbconvert_exporter": "python",
   "pygments_lexer": "ipython3",
   "version": "3.11.9"
  },
  "orig_nbformat": 4
 },
 "nbformat": 4,
 "nbformat_minor": 2
}
